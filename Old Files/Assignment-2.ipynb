{
 "metadata": {
  "name": "",
  "signature": "sha256:18c65eb080bcccad75bfe35eb64b66905ba573f08928aba0531dd560b2d2846f"
 },
 "nbformat": 3,
 "nbformat_minor": 0,
 "worksheets": [
  {
   "cells": [
    {
     "cell_type": "heading",
     "level": 1,
     "metadata": {},
     "source": [
      "Assignment 2"
     ]
    },
    {
     "cell_type": "heading",
     "level": 2,
     "metadata": {},
     "source": [
      "Part A - Cross Validation"
     ]
    },
    {
     "cell_type": "heading",
     "level": 3,
     "metadata": {},
     "source": [
      "Exercise A0"
     ]
    },
    {
     "cell_type": "markdown",
     "metadata": {},
     "source": [
      "<i>Describe (in your own words) the principle of k-fold cross validation (Section 2.2.1).</i>"
     ]
    },
    {
     "cell_type": "markdown",
     "metadata": {},
     "source": [
      "k-fold cross validation divides your training data set into k different parts(folds). You then iterate over the folds and for each fold you attempt to train the model on the other folds. The selected fold in the iteration is then used to test how good the model fits the data.\n",
      "The final training error of the model is the average error over all the iterations. This way we tend to avoid overfitting more, and get a more realistic measurement of the model"
     ]
    },
    {
     "cell_type": "heading",
     "level": 3,
     "metadata": {},
     "source": [
      "Exercise A1 - Training error"
     ]
    },
    {
     "cell_type": "markdown",
     "metadata": {},
     "source": [
      "<i>Fit a prediction tree to X_BoW using \u201cgood\u201d/\u201dbad\u201d characters as y. For this exercise (and below) we want you to use pure \u201cgood\u201d/\u201dbad\u201d, excluding the neutral characters.</i>"
     ]
    },
    {
     "cell_type": "markdown",
     "metadata": {},
     "source": [
      "We import the data from the previous lectures. This data is cleaned for stub pages and strange characters leaving only a long string of words for each page (the code that generates the cleaned data from the data from last assignment is in the appendix)"
     ]
    },
    {
     "cell_type": "code",
     "collapsed": false,
     "input": [
      "import csv\n",
      "import codecs\n",
      "import unicodedata\n",
      "import json\n",
      "import numpy as np\n",
      "import urllib2\n",
      "import requests\n",
      "import re\n",
      "import random\n",
      "import matplotlib.pyplot as plt\n",
      "from matplotlib.font_manager import FontProperties\n",
      "%matplotlib inline"
     ],
     "language": "python",
     "metadata": {},
     "outputs": [],
     "prompt_number": 114
    },
    {
     "cell_type": "code",
     "collapsed": false,
     "input": [
      "fileObject = codecs.open('cleanhero.json','r','utf-8-sig')\n",
      "\n",
      "clean_heroes = json.load(fileObject)\n",
      "\n",
      "fileObject.close()\n",
      "\n",
      "fileObject = codecs.open('cleanvillain.json','r','utf-8-sig')\n",
      "\n",
      "clean_villains = json.load(fileObject)\n",
      "\n",
      "fileObject.close()"
     ],
     "language": "python",
     "metadata": {},
     "outputs": [],
     "prompt_number": 3
    },
    {
     "cell_type": "markdown",
     "metadata": {},
     "source": [
      "We now set up the vectorizer for the BOW representation. Note that the ANEW dictionary is being used as the vocabulary of the BOW. This is to avoid counting words such as 'the' and the like that would scew the data."
     ]
    },
    {
     "cell_type": "code",
     "collapsed": false,
     "input": [
      "##Setup VAD\n",
      "data_array = []\n",
      "with open('ANEW.csv','r') as csvfile:\n",
      "    reader = csv.reader(csvfile, delimiter=',',quotechar='|')\n",
      "    for row in reader:\n",
      "        data_array.append(row);\n",
      "VAD = dict()\n",
      "for row in data_array[1:]:\n",
      "    word = row[1]\n",
      "    VAD[word] = [float(row[2])-5,float(row[5])-5,float(row[8])-5]\n",
      "\n",
      "##Setup Vectorizer\n",
      "from sklearn.feature_extraction.text import CountVectorizer\n",
      "vectorizer = CountVectorizer(min_df=1,vocabulary=VAD.keys())\n",
      "X=vectorizer.fit_transform(VAD.keys())"
     ],
     "language": "python",
     "metadata": {},
     "outputs": [],
     "prompt_number": 9
    },
    {
     "cell_type": "markdown",
     "metadata": {},
     "source": [
      "The data can now be vectorized to get the BOW representation"
     ]
    },
    {
     "cell_type": "code",
     "collapsed": false,
     "input": [
      "good_x_bow = vectorizer.transform(clean_heroes.values()).toarray()\n",
      "bad_x_bow = vectorizer.transform(clean_villains.values()).toarray()"
     ],
     "language": "python",
     "metadata": {},
     "outputs": [],
     "prompt_number": 10
    },
    {
     "cell_type": "markdown",
     "metadata": {},
     "source": [
      "The bow representations are then merged and the y vector constructed using \"Good\" and \"Bad\" to indicate heroes and villains"
     ]
    },
    {
     "cell_type": "code",
     "collapsed": false,
     "input": [
      "x_bow = []\n",
      "names = []\n",
      "y_bow = []\n",
      "for i in range(0,len(good_x_bow)):\n",
      "    x_bow.append(good_x_bow[i])\n",
      "    names.append(clean_heroes.keys()[i])\n",
      "    y_bow.append('Good')\n",
      "for i in range(0,len(bad_x_bow)):\n",
      "    x_bow.append(bad_x_bow[i])\n",
      "    names.append(clean_villains.keys()[i])\n",
      "    y_bow.append('Bad')"
     ],
     "language": "python",
     "metadata": {},
     "outputs": [],
     "prompt_number": 14
    },
    {
     "cell_type": "markdown",
     "metadata": {},
     "source": [
      "The name array were also constructed to get a fast handle to the labelling of a specific hero/villain. Finally we can fit a decision tree to the BOW data using the 'y' vector as class labels"
     ]
    },
    {
     "cell_type": "code",
     "collapsed": false,
     "input": [
      "from sklearn import tree\n",
      "clf = tree.DecisionTreeClassifier()\n",
      "clf = clf.fit(x_bow, y_bow)"
     ],
     "language": "python",
     "metadata": {},
     "outputs": [],
     "prompt_number": 15
    },
    {
     "cell_type": "markdown",
     "metadata": {},
     "source": [
      "<i>Use the tree to predict classes of the data in X_BoW. The resulting prediction vector we call y_hat.</i>"
     ]
    },
    {
     "cell_type": "code",
     "collapsed": false,
     "input": [
      "y_hat=clf.predict(x_bow)"
     ],
     "language": "python",
     "metadata": {},
     "outputs": [],
     "prompt_number": 20
    },
    {
     "cell_type": "markdown",
     "metadata": {},
     "source": [
      "<i>Compare y_hat to y. How many incorrect predictions have we made?</i>"
     ]
    },
    {
     "cell_type": "code",
     "collapsed": false,
     "input": [
      "failcount = 0.0\n",
      "for i in range(0,len(y_hat)):\n",
      "    if not(y_bow[i]==y_hat[i]):\n",
      "        failcount = failcount+1\n",
      "print failcount"
     ],
     "language": "python",
     "metadata": {},
     "outputs": [
      {
       "output_type": "stream",
       "stream": "stdout",
       "text": [
        "163.0\n"
       ]
      }
     ],
     "prompt_number": 22
    },
    {
     "cell_type": "markdown",
     "metadata": {},
     "source": [
      "<i>Calculate the ratio of incorrect predictions to the total number of predictions - the rate of errors. This measure we call the training error.</i>"
     ]
    },
    {
     "cell_type": "code",
     "collapsed": false,
     "input": [
      "training_error = failcount/len(y_hat)\n",
      "print training_error"
     ],
     "language": "python",
     "metadata": {},
     "outputs": [
      {
       "output_type": "stream",
       "stream": "stdout",
       "text": [
        "0.0819919517103\n"
       ]
      }
     ],
     "prompt_number": 23
    },
    {
     "cell_type": "markdown",
     "metadata": {},
     "source": [
      "<i>Discuss the validity of this measure. Assume that we \u2018forgot\u2019 to include a handful of characters in our X. Would you expect this prediction tree to perform as well on these new characters? Please supply an argument to support your answer.</i>"
     ]
    },
    {
     "cell_type": "markdown",
     "metadata": {},
     "source": [
      "To say that this measure is a valid representation of the ability to predict data would be quite a stretch. The data used for testing is the same that were used to train the classifier making it extremely prone to overfitting. This means that while the error value may be very low, the model may still be horrible at predicting new data. Thus if we 'forgot' to include a handfull of characters in the training set, we cannot expect the classifier to work well on them based on the training error."
     ]
    },
    {
     "cell_type": "heading",
     "level": 3,
     "metadata": {},
     "source": [
      "Exercise A2 - Test error"
     ]
    },
    {
     "cell_type": "markdown",
     "metadata": {},
     "source": [
      "<i>Use X_BoW as X and define K to be the number of folds in for CV loop.</i>"
     ]
    },
    {
     "cell_type": "code",
     "collapsed": false,
     "input": [
      "K_A2=3"
     ],
     "language": "python",
     "metadata": {},
     "outputs": [],
     "prompt_number": 26
    },
    {
     "cell_type": "markdown",
     "metadata": {},
     "source": [
      "<i>Create an indexing vector I that divides your data set into on of K disjoint sub sets. We recommend that you use the following expression X[I==k, :]. Here k runs from 1 to K (or 0 to K-1 if you use Pythonic counters).</i>"
     ]
    },
    {
     "cell_type": "markdown",
     "metadata": {},
     "source": [
      "The I vector is a simple vector containing the k-fold index corresponding to a specific character in the X array"
     ]
    },
    {
     "cell_type": "code",
     "collapsed": false,
     "input": [
      "I_A2=[]\n",
      "sizeK = len(x_bow)/K_A2 + 1\n",
      "for i in range(0,K_A2):\n",
      "    to = (i+1)*sizeK\n",
      "    if to>len(x_bow): to=len(x_bow)\n",
      "    for j in range(i*sizeK,to):\n",
      "        I_A2.append(i)\n",
      "I_A2=np.array(I_A2)"
     ],
     "language": "python",
     "metadata": {},
     "outputs": [],
     "prompt_number": 32
    },
    {
     "cell_type": "markdown",
     "metadata": {},
     "source": [
      "<i>Loop over each of the T subsets\n",
      "    \n",
      "    In each iteration define:\n",
      "\n",
      "        X_test = X[I==k, :]\n",
      "\n",
      "        X_train: the complementary set to X_test (the rest).\n",
      "        \n",
      "        y_test and y_traincorresponding to the X matrices.\n",
      "    \n",
      "    Fit (train) a decision tree on the training data set.\n",
      "    \n",
      "    Use the tree to predict the class of your training data and compare with the ground truth classes in y_test.</i>"
     ]
    },
    {
     "cell_type": "markdown",
     "metadata": {},
     "source": [
      "We define a function CV that takes a classifier to be trained, a X bow representation matrix, a Y class name matrix, the indexation vector and a K value. It returns the number of predictions (right and wrong) and the number of wrong predictions"
     ]
    },
    {
     "cell_type": "code",
     "collapsed": false,
     "input": [
      "def CV(clf,X,Y,I,K):\n",
      "    errors=0\n",
      "    predictions=0\n",
      "\n",
      "    #CV loop\n",
      "    for k in range(0,K):\n",
      "        ##Get sets\n",
      "        X_test = np.array(X)[I==k, :]\n",
      "        X_train = np.array(X)[I!=k, :]\n",
      "        Y_test = np.array(Y)[I==k]\n",
      "        Y_train = np.array(Y)[I!=k]\n",
      "\n",
      "        ##Train the classifier\n",
      "        clf2 = clf.fit(X_train, Y_train)\n",
      "\n",
      "        ##Attempt prediction of the test set\n",
      "        Y_hat=clf2.predict(X_test)\n",
      "\n",
      "        ##Increment error and prediction count values\n",
      "        for i in range(0,len(Y_hat)):\n",
      "            predictions = predictions + 1\n",
      "            if not(Y_hat[i]==Y_test[i]): errors = errors + 1\n",
      "    return [errors,predictions]"
     ],
     "language": "python",
     "metadata": {},
     "outputs": [],
     "prompt_number": 138
    },
    {
     "cell_type": "markdown",
     "metadata": {},
     "source": [
      "<i>Report the number of incorrectly classified observations across all K loops.</i>"
     ]
    },
    {
     "cell_type": "code",
     "collapsed": false,
     "input": [
      "clf = tree.DecisionTreeClassifier()\n",
      "CV_results=CV(clf,x_bow,y_bow,I_A2,K_A2)\n",
      "print CV_results[0]"
     ],
     "language": "python",
     "metadata": {},
     "outputs": [
      {
       "output_type": "stream",
       "stream": "stdout",
       "text": [
        "1028\n"
       ]
      }
     ],
     "prompt_number": 42
    },
    {
     "cell_type": "markdown",
     "metadata": {},
     "source": [
      "<i>Use this number to calculate an error rate as done in A1. This is the test error</i>"
     ]
    },
    {
     "cell_type": "code",
     "collapsed": false,
     "input": [
      "test_error_A2 = float(CV_results[0])/float(CV_results[1])\n",
      "print test_error_A2"
     ],
     "language": "python",
     "metadata": {},
     "outputs": [
      {
       "output_type": "stream",
       "stream": "stdout",
       "text": [
        "0.517102615694\n"
       ]
      }
     ],
     "prompt_number": 43
    },
    {
     "cell_type": "markdown",
     "metadata": {},
     "source": [
      "<i>Compare this to the training error in A1.</i>"
     ]
    },
    {
     "cell_type": "code",
     "collapsed": false,
     "input": [
      "print training_error\n",
      "print test_error_A2"
     ],
     "language": "python",
     "metadata": {},
     "outputs": [
      {
       "output_type": "stream",
       "stream": "stdout",
       "text": [
        "0.0819919517103\n",
        "0.517102615694\n"
       ]
      }
     ],
     "prompt_number": 44
    },
    {
     "cell_type": "markdown",
     "metadata": {},
     "source": [
      "We can clearly see that while the training error may be low, the classifier it very bad at predicting unseen data"
     ]
    },
    {
     "cell_type": "heading",
     "level": 2,
     "metadata": {},
     "source": [
      "Part B - Parameter tuning"
     ]
    },
    {
     "cell_type": "heading",
     "level": 3,
     "metadata": {},
     "source": [
      "Exercise B1: The optimal min_sample_split using Training error"
     ]
    },
    {
     "cell_type": "markdown",
     "metadata": {},
     "source": [
      "We define a training error function"
     ]
    },
    {
     "cell_type": "code",
     "collapsed": false,
     "input": [
      "def Train_E(clf,X,Y):\n",
      "    clf2 = clf.fit(X, Y)\n",
      "    y_hat=clf2.predict(X)\n",
      "    failcount = 0.0\n",
      "    for i in range(0,len(y_hat)):\n",
      "        if not(Y[i]==y_hat[i]):\n",
      "            failcount = failcount+1\n",
      "\n",
      "    training_error = failcount/len(y_hat)\n",
      "    return [training_error,failcount]"
     ],
     "language": "python",
     "metadata": {},
     "outputs": [],
     "prompt_number": 140
    },
    {
     "cell_type": "markdown",
     "metadata": {},
     "source": [
      "We first initialise n_ms instances of classifiers with random min_sample split values between 2^0 and 2^9"
     ]
    },
    {
     "cell_type": "code",
     "collapsed": false,
     "input": [
      "n_ms = 20\n",
      "cls_array=[]\n",
      "mss_array = np.logspace(0,9,n_ms,base=2)\n",
      "for i in range(0,n_ms):\n",
      "    cls_array.append(tree.DecisionTreeClassifier(min_samples_split = mss_array[i],max_depth=20))"
     ],
     "language": "python",
     "metadata": {},
     "outputs": [],
     "prompt_number": 133
    },
    {
     "cell_type": "markdown",
     "metadata": {},
     "source": [
      "We now calculate the training error for each of these classifier options"
     ]
    },
    {
     "cell_type": "code",
     "collapsed": false,
     "input": [
      "n_ms_training_errors = []\n",
      "for i in range(0,n_ms):\n",
      "    n_ms_training_errors.append(Train_E(cls_array[i],x_bow,y_bow)[0])\n",
      "    print 'Training error: '+str(n_ms_training_errors[i])+' for mss: '+str(mss_array[i])"
     ],
     "language": "python",
     "metadata": {},
     "outputs": [
      {
       "output_type": "stream",
       "stream": "stdout",
       "text": [
        "Training error: 0.0950704225352 for mss: 1.0\n",
        "Training error: 0.091046277666 for mss: 1.38865114261"
       ]
      },
      {
       "output_type": "stream",
       "stream": "stdout",
       "text": [
        "\n",
        "Training error: 0.091046277666 for mss: 1.92835199588"
       ]
      },
      {
       "output_type": "stream",
       "stream": "stdout",
       "text": [
        "\n",
        "Training error: 0.0920523138833 for mss: 2.67780820245"
       ]
      },
      {
       "output_type": "stream",
       "stream": "stdout",
       "text": [
        "\n",
        "Training error: 0.0950704225352 for mss: 3.71854142003"
       ]
      },
      {
       "output_type": "stream",
       "stream": "stdout",
       "text": [
        "\n",
        "Training error: 0.0960764587525 for mss: 5.16375679179"
       ]
      },
      {
       "output_type": "stream",
       "stream": "stdout",
       "text": [
        "\n",
        "Training error: 0.0945674044266 for mss: 7.1706567691"
       ]
      },
      {
       "output_type": "stream",
       "stream": "stdout",
       "text": [
        "\n",
        "Training error: 0.10060362173 for mss: 9.95754071571"
       ]
      },
      {
       "output_type": "stream",
       "stream": "stdout",
       "text": [
        "\n",
        "Training error: 0.113179074447 for mss: 13.8275502925"
       ]
      },
      {
       "output_type": "stream",
       "stream": "stdout",
       "text": [
        "\n",
        "Training error: 0.12323943662 for mss: 19.2016435132"
       ]
      },
      {
       "output_type": "stream",
       "stream": "stdout",
       "text": [
        "\n",
        "Training error: 0.128772635815 for mss: 26.6643842048"
       ]
      },
      {
       "output_type": "stream",
       "stream": "stdout",
       "text": [
        "\n",
        "Training error: 0.147887323944 for mss: 37.027527593"
       ]
      },
      {
       "output_type": "stream",
       "stream": "stdout",
       "text": [
        "\n",
        "Training error: 0.155432595573 for mss: 51.4183185003"
       ]
      },
      {
       "output_type": "stream",
       "stream": "stdout",
       "text": [
        "\n",
        "Training error: 0.167002012072 for mss: 71.4021067367"
       ]
      },
      {
       "output_type": "stream",
       "stream": "stdout",
       "text": [
        "\n",
        "Training error: 0.177565392354 for mss: 99.1526171051"
       ]
      },
      {
       "output_type": "stream",
       "stream": "stdout",
       "text": [
        "\n",
        "Training error: 0.196680080483 for mss: 137.688395036"
       ]
      },
      {
       "output_type": "stream",
       "stream": "stdout",
       "text": [
        "\n",
        "Training error: 0.224849094567 for mss: 191.201147092"
       ]
      },
      {
       "output_type": "stream",
       "stream": "stdout",
       "text": [
        "\n",
        "Training error: 0.237424547284 for mss: 265.511691378"
       ]
      },
      {
       "output_type": "stream",
       "stream": "stdout",
       "text": [
        "\n",
        "Training error: 0.247484909457 for mss: 368.70311361"
       ]
      },
      {
       "output_type": "stream",
       "stream": "stdout",
       "text": [
        "\n",
        "Training error: 0.258048289738 for mss: 512.0"
       ]
      },
      {
       "output_type": "stream",
       "stream": "stdout",
       "text": [
        "\n"
       ]
      }
     ],
     "prompt_number": 142
    },
    {
     "cell_type": "heading",
     "level": 3,
     "metadata": {},
     "source": [
      "Exercise B2: The optimal min_sample_split using Test error"
     ]
    },
    {
     "cell_type": "markdown",
     "metadata": {},
     "source": [
      "We now do the same using Test error (we reuse the mss values)"
     ]
    },
    {
     "cell_type": "code",
     "collapsed": false,
     "input": [
      "n_ms_test_errors = []\n",
      "for i in range(0,n_ms):\n",
      "    results = CV(cls_array[i],x_bow,y_bow,I_A2,K_A2)\n",
      "    \n",
      "    n_ms_test_errors.append(float(results[0])/float(results[1]))\n",
      "    print 'Test error: '+str(n_ms_test_errors[i])+' for mss: '+str(mss_array[i])"
     ],
     "language": "python",
     "metadata": {},
     "outputs": [
      {
       "output_type": "stream",
       "stream": "stdout",
       "text": [
        "Test error: 0.513581488934 for mss: 1.0\n",
        "Test error: 0.503018108652 for mss: 1.38865114261"
       ]
      },
      {
       "output_type": "stream",
       "stream": "stdout",
       "text": [
        "\n",
        "Test error: 0.504024144869 for mss: 1.92835199588"
       ]
      },
      {
       "output_type": "stream",
       "stream": "stdout",
       "text": [
        "\n",
        "Test error: 0.498993963783 for mss: 2.67780820245"
       ]
      },
      {
       "output_type": "stream",
       "stream": "stdout",
       "text": [
        "\n",
        "Test error: 0.499496981891 for mss: 3.71854142003"
       ]
      },
      {
       "output_type": "stream",
       "stream": "stdout",
       "text": [
        "\n",
        "Test error: 0.499496981891 for mss: 5.16375679179"
       ]
      },
      {
       "output_type": "stream",
       "stream": "stdout",
       "text": [
        "\n",
        "Test error: 0.508048289738 for mss: 7.1706567691"
       ]
      },
      {
       "output_type": "stream",
       "stream": "stdout",
       "text": [
        "\n",
        "Test error: 0.509557344064 for mss: 9.95754071571"
       ]
      },
      {
       "output_type": "stream",
       "stream": "stdout",
       "text": [
        "\n",
        "Test error: 0.514084507042 for mss: 13.8275502925"
       ]
      },
      {
       "output_type": "stream",
       "stream": "stdout",
       "text": [
        "\n",
        "Test error: 0.524144869215 for mss: 19.2016435132"
       ]
      },
      {
       "output_type": "stream",
       "stream": "stdout",
       "text": [
        "\n",
        "Test error: 0.526659959759 for mss: 26.6643842048"
       ]
      },
      {
       "output_type": "stream",
       "stream": "stdout",
       "text": [
        "\n",
        "Test error: 0.513078470825 for mss: 37.027527593"
       ]
      },
      {
       "output_type": "stream",
       "stream": "stdout",
       "text": [
        "\n",
        "Test error: 0.473340040241 for mss: 51.4183185003"
       ]
      },
      {
       "output_type": "stream",
       "stream": "stdout",
       "text": [
        "\n",
        "Test error: 0.471830985915 for mss: 71.4021067367"
       ]
      },
      {
       "output_type": "stream",
       "stream": "stdout",
       "text": [
        "\n",
        "Test error: 0.519617706237 for mss: 99.1526171051"
       ]
      },
      {
       "output_type": "stream",
       "stream": "stdout",
       "text": [
        "\n",
        "Test error: 0.517102615694 for mss: 137.688395036"
       ]
      },
      {
       "output_type": "stream",
       "stream": "stdout",
       "text": [
        "\n",
        "Test error: 0.62676056338 for mss: 191.201147092"
       ]
      },
      {
       "output_type": "stream",
       "stream": "stdout",
       "text": [
        "\n",
        "Test error: 0.560865191147 for mss: 265.511691378"
       ]
      },
      {
       "output_type": "stream",
       "stream": "stdout",
       "text": [
        "\n",
        "Test error: 0.573943661972 for mss: 368.70311361"
       ]
      },
      {
       "output_type": "stream",
       "stream": "stdout",
       "text": [
        "\n",
        "Test error: 0.585010060362 for mss: 512.0"
       ]
      },
      {
       "output_type": "stream",
       "stream": "stdout",
       "text": [
        "\n"
       ]
      }
     ],
     "prompt_number": 135
    },
    {
     "cell_type": "heading",
     "level": 3,
     "metadata": {},
     "source": [
      "Exercise B3: Comparing training and testing error"
     ]
    },
    {
     "cell_type": "markdown",
     "metadata": {},
     "source": [
      "We plot the error values against each other"
     ]
    },
    {
     "cell_type": "code",
     "collapsed": false,
     "input": [
      "plt.plot(mss_array,n_ms_test_errors,'.')\n",
      "plt.plot(mss_array,n_ms_training_errors,'.')\n",
      "plt.show()"
     ],
     "language": "python",
     "metadata": {},
     "outputs": [
      {
       "metadata": {},
       "output_type": "display_data",
       "png": "[encoded data removed]",
       "text": [
        "<matplotlib.figure.Figure at 0x17f656a0>"
       ]
      }
     ],
     "prompt_number": 143
    },
    {
     "cell_type": "markdown",
     "metadata": {},
     "source": [
      "<i>What do you see? Are the plots different - Why?</i>"
     ]
    },
    {
     "cell_type": "markdown",
     "metadata": {},
     "source": [
      "The plots are different, the training set shows an almost linear relation between test error and minimum sample split. Where the test set doesn't give any clear indication to this. The training set overfits the model the less the minimum sample split is the more it is overfitting. Where as the test set is attempts to make up for overfitting."
     ]
    },
    {
     "cell_type": "markdown",
     "metadata": {},
     "source": [
      "<i>What is the optimal value for min_sample_split according each of the two plots?</i>"
     ]
    },
    {
     "cell_type": "markdown",
     "metadata": {},
     "source": [
      "According to the plots the best min sample split will be 1"
     ]
    },
    {
     "cell_type": "markdown",
     "metadata": {},
     "source": [
      "<i>Which value would you choose?</i>"
     ]
    },
    {
     "cell_type": "markdown",
     "metadata": {},
     "source": [
      "We would choose the minimum exstremum value of the test value, which is about 10 as minimum sample split. We are choosing this because it doesn't overfit and we get the minimum error possible."
     ]
    },
    {
     "cell_type": "heading",
     "level": 2,
     "metadata": {},
     "source": [
      "Part C - Bayes"
     ]
    },
    {
     "cell_type": "heading",
     "level": 3,
     "metadata": {},
     "source": [
      "Exercise C1: Gaussian vs Multinomial Bayes"
     ]
    },
    {
     "cell_type": "markdown",
     "metadata": {},
     "source": [
      "<i>Read about GaussianNB and MultinomialNB.\n",
      "Explain the difference between the two models in your own words.</i>"
     ]
    },
    {
     "cell_type": "markdown",
     "metadata": {},
     "source": [
      "The GaussianNB classifies based on a gaussian model using mean and variance based on the features of the input. The MultinominalNB however classifies based on the features themselves."
     ]
    },
    {
     "cell_type": "markdown",
     "metadata": {},
     "source": [
      "<i>Calculate the test error for both models on the X_BoW data, using the method from exercise A2.</i>"
     ]
    },
    {
     "cell_type": "code",
     "collapsed": false,
     "input": [
      "from sklearn.naive_bayes import GaussianNB\n",
      "from sklearn.naive_bayes import MultinomialNB\n",
      "\n",
      "clf = GaussianNB()\n",
      "results = CV(clf,x_bow,y_bow,I_A2,K_A2)\n",
      "print 'Test error Gaussian: '+str(float(results[0])/float(results[1]))\n",
      "print ''\n",
      "clf = MultinomialNB()\n",
      "results = CV(clf,x_bow,y_bow,I_A2,K_A2)\n",
      "print 'Test error Multinomial: '+str(float(results[0])/float(results[1]))"
     ],
     "language": "python",
     "metadata": {},
     "outputs": [
      {
       "output_type": "stream",
       "stream": "stdout",
       "text": [
        "Test error Gaussian: 0.69416498994\n",
        "\n",
        "Test error Multinomial: 0.433601609658"
       ]
      },
      {
       "output_type": "stream",
       "stream": "stdout",
       "text": [
        "\n"
       ]
      }
     ],
     "prompt_number": 144
    },
    {
     "cell_type": "markdown",
     "metadata": {},
     "source": [
      "<i>Calculate the test error for both models on the X_ANEW data, also using the method from exercise A2.</i>"
     ]
    },
    {
     "cell_type": "markdown",
     "metadata": {},
     "source": [
      "We first set up the x_ANEW matrix. Note that we are adding 5 to each ANEW value in order to avoid negative values"
     ]
    },
    {
     "cell_type": "code",
     "collapsed": false,
     "input": [
      "Z=np.dot(x_bow,(np.array(VAD.values())+5))\n",
      "x_ANEW = np.transpose(np.transpose(Z)/np.sum(x_bow,1))"
     ],
     "language": "python",
     "metadata": {},
     "outputs": [],
     "prompt_number": 152
    },
    {
     "cell_type": "code",
     "collapsed": false,
     "input": [
      "clf = GaussianNB()\n",
      "results = CV(clf,x_ANEW,y_bow,I_A2,K_A2)\n",
      "print 'Test error Gaussian: '+str(float(results[0])/float(results[1]))\n",
      "print ''\n",
      "clf = MultinomialNB()\n",
      "results = CV(clf,x_ANEW,y_bow,I_A2,K_A2)\n",
      "print 'Test error Multinomial: '+str(float(results[0])/float(results[1]))"
     ],
     "language": "python",
     "metadata": {},
     "outputs": [
      {
       "output_type": "stream",
       "stream": "stdout",
       "text": [
        "Test error Gaussian: 0.658953722334\n",
        "\n",
        "Test error Multinomial: 0.842555331992\n"
       ]
      }
     ],
     "prompt_number": 153
    },
    {
     "cell_type": "markdown",
     "metadata": {},
     "source": [
      "<i>Which performs best on what kind of data?</i>"
     ]
    },
    {
     "cell_type": "markdown",
     "metadata": {},
     "source": [
      "The gaussian classifier seems to work better on the ANEW data while the multinomial works better on the raw BOW data. The reason for this is that the multinominal bayes classifier works directly on the features given whereas the the gaussian classifier tries to fit the data into a normal distribution. "
     ]
    },
    {
     "cell_type": "heading",
     "level": 2,
     "metadata": {},
     "source": [
      "Part D - Characters network analysis"
     ]
    },
    {
     "cell_type": "heading",
     "level": 3,
     "metadata": {},
     "source": [
      "Exercise D1: Create three networks"
     ]
    },
    {
     "cell_type": "markdown",
     "metadata": {},
     "source": [
      "<i>Load all the pages from superheroes and supervillains that you dowloaded for the previous lectures.</i>"
     ]
    },
    {
     "cell_type": "markdown",
     "metadata": {},
     "source": [
      "For this exercise we will need the uncleaned character pages. We load these"
     ]
    },
    {
     "cell_type": "code",
     "collapsed": false,
     "input": [
      "fileObject = codecs.open('MarvelHeroesAssignment.json','r','utf-8-sig')\n",
      "\n",
      "superheroes = json.load(fileObject)\n",
      "\n",
      "fileObject.close()\n",
      "\n",
      "fileObject = codecs.open('MarvelVillainsAssignment.json','r','utf-8-sig')\n",
      "\n",
      "supervillains = json.load(fileObject)\n",
      "\n",
      "fileObject.close()"
     ],
     "language": "python",
     "metadata": {},
     "outputs": [],
     "prompt_number": 154
    },
    {
     "cell_type": "markdown",
     "metadata": {},
     "source": [
      "<i>Build a NetworkX directed graph of the links between pages. For each character page, find all the links to other characters, and for each link add an edge in the graph. Using this strategy, create three distinct networks:\n",
      "\n",
      "One graph for superheroes, One for supervillains, One with all characters, both heros and villains.</i>"
     ]
    },
    {
     "cell_type": "markdown",
     "metadata": {},
     "source": [
      "We reuse the link extracting function"
     ]
    },
    {
     "cell_type": "code",
     "collapsed": false,
     "input": [
      "\"\"\"This method returns the left side of a link\"\"\"\n",
      "def link_left_side(link):\n",
      "    return link.split('|')[0]\n",
      "\n",
      "\"\"\"This methods returns the internal wiki links\"\"\"\n",
      "def get_wiki_links(text):\n",
      "    links = re.findall(\"\\[\\[([^\\]]*)\\]\\]\",text[0]['*'])\n",
      "    clean_links = []\n",
      "    for link in links:\n",
      "        clean_links.append(link_left_side(link))\n",
      "    return clean_links"
     ],
     "language": "python",
     "metadata": {},
     "outputs": [],
     "prompt_number": 158
    },
    {
     "cell_type": "markdown",
     "metadata": {},
     "source": [
      "We then extract the links from the character pages and use them as edges in graphs"
     ]
    },
    {
     "cell_type": "code",
     "collapsed": false,
     "input": [
      "import networkx as nx\n",
      "Hero_Graph = nx.DiGraph()\n",
      "Villain_Graph = nx.DiGraph()\n",
      "Characters_Graph = nx.DiGraph()\n",
      "for hero in superheroes:\n",
      "    for link in get_wiki_links(superheroes[hero]['revisions']):\n",
      "        if link in superheroes.keys():\n",
      "            Hero_Graph.add_edge(hero,link)\n",
      "        if link in superheroes.keys() or link in supervillains.keys():\n",
      "            Characters_Graph.add_edge(hero,link)\n",
      "for hero in supervillains:\n",
      "    for link in get_wiki_links(supervillains[hero]['revisions']):\n",
      "        if link in supervillains.keys():\n",
      "            Villain_Graph.add_edge(hero,link)\n",
      "        if link in superheroes.keys() or link in supervillains.keys():\n",
      "            Characters_Graph.add_edge(hero,link)"
     ],
     "language": "python",
     "metadata": {},
     "outputs": [],
     "prompt_number": 159
    },
    {
     "cell_type": "markdown",
     "metadata": {},
     "source": [
      "<i>Why do you think we want to use a directed graph? Could have we used an undirected graph instead?</i>"
     ]
    },
    {
     "cell_type": "markdown",
     "metadata": {},
     "source": [
      "We can't use an undirected graph, we need to be able to see if you are popular because of everybody is linking to you, or if you are just linkinging to everyone."
     ]
    },
    {
     "cell_type": "heading",
     "level": 3,
     "metadata": {},
     "source": [
      "Exercise D2: Analyze the networks"
     ]
    },
    {
     "cell_type": "markdown",
     "metadata": {},
     "source": [
      "<i>List the top 10 superheroes and supervillains by in-degree and out-degree. List the overall top 10 in/out.</i>"
     ]
    },
    {
     "cell_type": "markdown",
     "metadata": {},
     "source": [
      "We begin by simply saving the in and out orders in their respective dictionaries"
     ]
    },
    {
     "cell_type": "code",
     "collapsed": false,
     "input": [
      "import operator\n",
      "\n",
      "villain_orders_out = dict()\n",
      "hero_orders_out = dict()\n",
      "for node in Characters_Graph:\n",
      "    if node in superheroes.keys():\n",
      "        hero_orders_out[node] = Characters_Graph.out_degree(node)\n",
      "    if node in supervillains.keys():\n",
      "        villain_orders_out[node] = Characters_Graph.out_degree(node)\n",
      "        \n",
      "villain_orders_in = dict()\n",
      "hero_orders_in = dict()\n",
      "for node in Characters_Graph:\n",
      "    if node in superheroes.keys():\n",
      "        hero_orders_in[node] = Characters_Graph.in_degree(node)\n",
      "    if node in supervillains.keys():\n",
      "        villain_orders_in[node] = Characters_Graph.in_degree(node)"
     ],
     "language": "python",
     "metadata": {},
     "outputs": [],
     "prompt_number": 161
    },
    {
     "cell_type": "markdown",
     "metadata": {},
     "source": [
      "We can then print out the top 10 sorted by outgoing degree"
     ]
    },
    {
     "cell_type": "code",
     "collapsed": false,
     "input": [
      "print 'Heroes!!!'\n",
      "sorted_orders = sorted(hero_orders_out.items(), key=operator.itemgetter(1), reverse = True)\n",
      "for i in range(0,10):\n",
      "    print sorted_orders[i]\n",
      "print 'Villains!!!'\n",
      "sorted_orders = sorted(villain_orders_out.items(), key=operator.itemgetter(1), reverse = True)\n",
      "for i in range(0,10):\n",
      "    print sorted_orders[i]"
     ],
     "language": "python",
     "metadata": {},
     "outputs": [
      {
       "output_type": "stream",
       "stream": "stdout",
       "text": [
        "Heroes!!!\n",
        "(u'Sabretooth (comics)', 90)\n",
        "(u'Cloak and Dagger (comics)', 83)\n",
        "(u'Rogue (comics)', 80)\n",
        "(u'Warren Worthington III', 77)\n",
        "(u'Hercules (Marvel Comics)', 76)\n",
        "(u'Iceman (comics)', 76)\n",
        "(u'X-23', 76)\n",
        "(u'Emma Frost', 75)\n",
        "(u'Psylocke', 74)\n",
        "(u'Cyclops (comics)', 73)\n",
        "Villains!!!\n",
        "(u'Hood (comics)', 158)\n",
        "(u'Sabretooth (comics)', 90)\n",
        "(u'Mac Gargan', 84)\n",
        "(u'Scourge of the Underworld', 81)\n",
        "(u'Rogue (comics)', 80)\n",
        "(u'Emma Frost', 75)\n",
        "(u'Apocalypse (comics)', 74)\n",
        "(u'Arcade (Marvel Comics)', 73)\n",
        "(u'Black Cat (comics)', 72)\n",
        "(u'Super-Adaptoid', 70)\n"
       ]
      }
     ],
     "prompt_number": 162
    },
    {
     "cell_type": "markdown",
     "metadata": {},
     "source": [
      "And the top 10 sorted by incoming degree"
     ]
    },
    {
     "cell_type": "code",
     "collapsed": false,
     "input": [
      "print 'Heroes!!!'\n",
      "sorted_orders = sorted(hero_orders_in.items(), key=operator.itemgetter(1), reverse = True)\n",
      "for i in range(0,10):\n",
      "    print sorted_orders[i]\n",
      "print 'Villains!!!'\n",
      "sorted_orders = sorted(villain_orders_in.items(), key=operator.itemgetter(1), reverse = True)\n",
      "for i in range(0,10):\n",
      "    print sorted_orders[i]"
     ],
     "language": "python",
     "metadata": {},
     "outputs": [
      {
       "output_type": "stream",
       "stream": "stdout",
       "text": [
        "Heroes!!!\n",
        "(u'Spider-Man', 518)\n",
        "(u'Captain America', 452)\n",
        "(u'Iron Man', 391)\n",
        "(u'Wolverine (character)', 358)\n",
        "(u'Hulk (comics)', 322)\n",
        "(u'Thor (Marvel Comics)', 245)\n",
        "(u'Magneto (comics)', 230)\n",
        "(u'Doctor Strange', 217)\n",
        "(u'Daredevil (Marvel Comics)', 206)\n",
        "(u'Thing (comics)', 193)\n",
        "Villains!!!\n",
        "(u'Magneto (comics)', 230)\n",
        "(u'Doctor Doom', 195)\n",
        "(u'Green Goblin', 166)\n",
        "(u'Emma Frost', 151)\n",
        "(u'Apocalypse (comics)', 147)\n",
        "(u'Namor', 134)\n",
        "(u'Red Skull', 132)\n",
        "(u'Hood (comics)', 127)\n",
        "(u'Kingpin (comics)', 126)\n",
        "(u'Rogue (comics)', 124)\n"
       ]
      }
     ],
     "prompt_number": 163
    },
    {
     "cell_type": "markdown",
     "metadata": {},
     "source": [
      "<i>What is the interpretation of in-degree and out-degree in this case? Have you heard about these characters before?</i>"
     ]
    },
    {
     "cell_type": "markdown",
     "metadata": {},
     "source": [
      "the in-degree is a measurement of how many other characters page, the out-degree is how many characters is in your characters page. Generally you can say that if you have a high number of in-degree you are popular, but it's not necessarely the same if you have a high out-degree. We have heard of most of the heroes, and also some of the villians. However we don't know the villians 'Namor' and below, and the heroe 'Thing'."
     ]
    },
    {
     "cell_type": "markdown",
     "metadata": {},
     "source": [
      "<i>Plot the distribution of in-degrees and out-degrees using histograms. What is the most common degree?</i>"
     ]
    },
    {
     "cell_type": "code",
     "collapsed": false,
     "input": [
      "plt.hist(villain_orders_out.values(),bins=50)\n",
      "plt.title('Villain Outgoing Degrees')\n",
      "plt.show()\n",
      "plt.hist(villain_orders_in.values(),bins=50)\n",
      "plt.title('Villain Incoming Degrees')\n",
      "plt.show()"
     ],
     "language": "python",
     "metadata": {},
     "outputs": [
      {
       "metadata": {},
       "output_type": "display_data",
       "png": "[encoded data removed]",
       "text": [
        "<matplotlib.figure.Figure at 0x3138f588>"
       ]
      },
      {
       "metadata": {},
       "output_type": "display_data",
       "png": "[encoded data removed]",
       "text": [
        "<matplotlib.figure.Figure at 0x31962160>"
       ]
      }
     ],
     "prompt_number": 167
    },
    {
     "cell_type": "code",
     "collapsed": false,
     "input": [
      "plt.hist(hero_orders_out.values(),bins=50)\n",
      "plt.title('Hero Outgoing Degrees')\n",
      "plt.show()\n",
      "plt.hist(hero_orders_in.values(),bins=50)\n",
      "plt.title('Hero Incoming Degrees')\n",
      "plt.show()"
     ],
     "language": "python",
     "metadata": {},
     "outputs": [
      {
       "metadata": {},
       "output_type": "display_data",
       "png": "[encoded data removed]",
       "text": [
        "<matplotlib.figure.Figure at 0x30e337f0>"
       ]
      },
      {
       "metadata": {},
       "output_type": "display_data",
       "png": "[encoded data removed]",
       "text": [
        "<matplotlib.figure.Figure at 0x30ffb710>"
       ]
      }
     ],
     "prompt_number": 169
    },
    {
     "cell_type": "markdown",
     "metadata": {},
     "source": [
      "The most common incoming degree seems to be 0 or 1 indicating that very few characters get linked to a lot. In comparison the outgoing degrees seem more normal distributed indicating that it is more or less random how many characters a page link to"
     ]
    },
    {
     "cell_type": "markdown",
     "metadata": {},
     "source": [
      "<i>Plot the distribution of in-degrees and out-degrees one more time, this time using histograms but in loglog scale</i>"
     ]
    },
    {
     "cell_type": "code",
     "collapsed": false,
     "input": [
      "plt.hist(villain_orders_out.values(),log=True,bins=np.logspace(0,2))\n",
      "plt.gca().set_xscale(\"log\")\n",
      "plt.title('Villain Outgoing Degrees')\n",
      "plt.show()\n",
      "plt.hist(villain_orders_in.values(),log=True,bins=np.logspace(0,2))\n",
      "plt.gca().set_xscale(\"log\")\n",
      "plt.title('Villain Incoming Degrees')\n",
      "plt.show()\n",
      "plt.hist(hero_orders_out.values(),log=True,bins=np.logspace(0,2))\n",
      "plt.gca().set_xscale(\"log\")\n",
      "plt.title('Hero Outgoing Degrees')\n",
      "plt.show()\n",
      "plt.hist(hero_orders_in.values(),log=True,bins=np.logspace(0,2))\n",
      "plt.gca().set_xscale(\"log\")\n",
      "plt.title('Hero Incoming Degrees')\n",
      "plt.show()"
     ],
     "language": "python",
     "metadata": {},
     "outputs": [
      {
       "metadata": {},
       "output_type": "display_data",
       "png": "[encoded data removed]",
       "text": [
        "<matplotlib.figure.Figure at 0x31763be0>"
       ]
      },
      {
       "metadata": {},
       "output_type": "display_data",
       "png": "[encoded data removed]",
       "text": [
        "<matplotlib.figure.Figure at 0x30ed2710>"
       ]
      },
      {
       "metadata": {},
       "output_type": "display_data",
       "png": "[encoded data removed]",
       "text": [
        "<matplotlib.figure.Figure at 0x30e9a9b0>"
       ]
      },
      {
       "metadata": {},
       "output_type": "display_data",
       "png": "[encoded data removed]",
       "text": [
        "<matplotlib.figure.Figure at 0x32214780>"
       ]
      }
     ],
     "prompt_number": 170
    },
    {
     "cell_type": "markdown",
     "metadata": {},
     "source": [
      "The logarithmic plot support our previous statement."
     ]
    },
    {
     "cell_type": "markdown",
     "metadata": {},
     "source": [
      "<i>Plot a scatter plot of the the in- versus out- degree for all characters in loglog scale. Comment on the relation between the two.</i>"
     ]
    },
    {
     "cell_type": "code",
     "collapsed": false,
     "input": [
      "order_in = []\n",
      "order_out = []\n",
      "for node in Characters_Graph:\n",
      "    order_in.append(Characters_Graph.in_degree(node))\n",
      "    order_out.append(Characters_Graph.out_degree(node))\n",
      "plt.loglog(order_in,order_out,'.')\n",
      "plt.show()"
     ],
     "language": "python",
     "metadata": {},
     "outputs": [
      {
       "metadata": {},
       "output_type": "display_data",
       "png": "[encoded data removed]",
       "text": [
        "<matplotlib.figure.Figure at 0x32240470>"
       ]
      }
     ],
     "prompt_number": 171
    },
    {
     "cell_type": "heading",
     "level": 1,
     "metadata": {},
     "source": [
      "There seems to be a positive relation between the in-degree and the out-degree, this is seen by that plot that it is growing linear on a logaritmic scale."
     ]
    },
    {
     "cell_type": "markdown",
     "metadata": {},
     "source": [
      "<i>Read about betweenness centrality and write a short text explaining the concept in your own words.</i>"
     ]
    },
    {
     "cell_type": "markdown",
     "metadata": {},
     "source": [
      "The Betweenness centrality is a meassure of how central and important a node is. it is kind of a meassure of how great a bottlenect the node represents. It is a ratio of how many paths will tend to go through the node versus how many paths exist in the graph"
     ]
    },
    {
     "cell_type": "markdown",
     "metadata": {},
     "source": [
      "<i>Use NetworkX to compute the betweenness centrality in each of the three graphs. List the 10 characters with highest centrality in each scenario.</i>"
     ]
    },
    {
     "cell_type": "code",
     "collapsed": false,
     "input": [
      "Char = nx.betweenness_centrality(Characters_Graph)"
     ],
     "language": "python",
     "metadata": {},
     "outputs": [],
     "prompt_number": 172
    },
    {
     "cell_type": "code",
     "collapsed": false,
     "input": [
      "Evil = nx.betweenness_centrality(Hero_Graph)"
     ],
     "language": "python",
     "metadata": {},
     "outputs": [],
     "prompt_number": 173
    },
    {
     "cell_type": "code",
     "collapsed": false,
     "input": [
      "Good = nx.betweenness_centrality(Villain_Graph)"
     ],
     "language": "python",
     "metadata": {},
     "outputs": [],
     "prompt_number": 174
    },
    {
     "cell_type": "code",
     "collapsed": false,
     "input": [
      "print 'Heroes Graph!!!'\n",
      "sorted_orders = sorted(Good.items(), key=operator.itemgetter(1), reverse = True)\n",
      "for i in range(0,10):\n",
      "    print sorted_orders[i]\n",
      "print 'Villains Graph!!!'\n",
      "sorted_orders = sorted(Evil.items(), key=operator.itemgetter(1), reverse = True)\n",
      "for i in range(0,10):\n",
      "    print sorted_orders[i]\n",
      "print 'Characters Graph!!!'\n",
      "sorted_orders = sorted(Char.items(), key=operator.itemgetter(1), reverse = True)\n",
      "for i in range(0,10):\n",
      "    print sorted_orders[i]"
     ],
     "language": "python",
     "metadata": {},
     "outputs": [
      {
       "output_type": "stream",
       "stream": "stdout",
       "text": [
        "Heroes Graph!!!\n",
        "(u'Hood (comics)', 0.09621359067262666)\n",
        "(u'Magneto (comics)', 0.05065146474032142)\n",
        "(u'Apocalypse (comics)', 0.04399035018295954)\n",
        "(u'Doctor Doom', 0.042261817282588605)\n",
        "(u'Emma Frost', 0.03485590733965715)\n",
        "(u'Namor', 0.03194066309351848)\n",
        "(u'Red Skull', 0.031933504066975524)\n",
        "(u'Loki (comics)', 0.030582999011440286)\n",
        "(u'Sabretooth (comics)', 0.030317904735664244)\n",
        "(u'Quicksilver (comics)', 0.024550037730958294)\n",
        "Villains Graph!!!\n",
        "(u'Wolverine (character)', 0.05375074613891066)\n",
        "(u'Captain America', 0.05350817470440664)\n",
        "(u'Iron Man', 0.04695835434606706)\n",
        "(u'Thor (Marvel Comics)', 0.03354798706944902)\n",
        "(u'Spider-Man', 0.030994877370363754)\n",
        "(u'Hawkeye (comics)', 0.02945636495900904)\n",
        "(u'She-Hulk', 0.02429561676072528)\n",
        "(u'Magneto (comics)', 0.024066105827907684)\n",
        "(u'Emma Frost', 0.022440557222526497)\n",
        "(u'X-23', 0.021609271927206398)\n",
        "Characters Graph!!!\n",
        "(u'Iron Man', 0.03681729131977145)\n",
        "(u'Hood (comics)', 0.03423852397166181)\n",
        "(u'Wolverine (character)', 0.03396149176189995)\n",
        "(u'Captain America', 0.03335536614809994)\n",
        "(u'Spider-Man', 0.02669420392849093)\n",
        "(u'Thor (Marvel Comics)', 0.025376403008034176)\n",
        "(u'Magneto (comics)', 0.020669296854935574)\n",
        "(u'Hawkeye (comics)', 0.019688899091601535)\n",
        "(u'Sabretooth (comics)', 0.017209935455525516)\n",
        "(u'Emma Frost', 0.016758619471519267)\n"
       ]
      }
     ],
     "prompt_number": 176
    },
    {
     "cell_type": "markdown",
     "metadata": {},
     "source": [
      "<i>[optional] read about strongly connected components. Compute the strongly connected components in the characters graph using stronglyconnectedcomponents. How many components did you find? What does that say about the characters?</i>"
     ]
    },
    {
     "cell_type": "heading",
     "level": 3,
     "metadata": {},
     "source": [
      "Exercise D3: Visualizing graphs"
     ]
    },
    {
     "cell_type": "markdown",
     "metadata": {},
     "source": [
      "<i>Use NetworkX to draw the graph of all characters. What is the problem with this graph from a visualization standpoint?</i>"
     ]
    },
    {
     "cell_type": "code",
     "collapsed": false,
     "input": [
      "nx.draw(Characters_Graph)\n",
      "plt.show()"
     ],
     "language": "python",
     "metadata": {},
     "outputs": [
      {
       "metadata": {},
       "output_type": "display_data",
       "png": "[encoded data removed]",
       "text": [
        "<matplotlib.figure.Figure at 0x19eca080>"
       ]
      }
     ],
     "prompt_number": 177
    },
    {
     "cell_type": "markdown",
     "metadata": {},
     "source": [
      "Obviously this graph is far too cluttered to get any idea of relations between anything"
     ]
    },
    {
     "cell_type": "markdown",
     "metadata": {},
     "source": [
      "<i>Use NetworkX to draw the graph of characters with in-degree > 100. Try other in-degree thresholds. Comment on the results</i>"
     ]
    },
    {
     "cell_type": "markdown",
     "metadata": {},
     "source": [
      "We create sets of the nodes and edges that we wish to visualize"
     ]
    },
    {
     "cell_type": "code",
     "collapsed": false,
     "input": [
      "accepted = []\n",
      "for node in Characters_Graph:\n",
      "    if (Characters_Graph.in_degree(node) > 100):\n",
      "        accepted.append(node)\n",
      "print len(accepted)\n",
      "acceptedEdges = []\n",
      "for edge in Characters_Graph.edges():\n",
      "    if (edge[0] in accepted and edge[1] in accepted):\n",
      "        acceptedEdges.append(edge)\n",
      "print len(acceptedEdges)"
     ],
     "language": "python",
     "metadata": {},
     "outputs": [
      {
       "output_type": "stream",
       "stream": "stdout",
       "text": [
        "43\n",
        "626\n"
       ]
      }
     ],
     "prompt_number": 179
    },
    {
     "cell_type": "code",
     "collapsed": false,
     "input": [
      "nx.draw_networkx(Characters_Graph,nodelist=accepted,edgelist=acceptedEdges,with_labels=False)\n",
      "plt.show()"
     ],
     "language": "python",
     "metadata": {},
     "outputs": [
      {
       "metadata": {},
       "output_type": "display_data",
       "png": "[encoded data removed]",
       "text": [
        "<matplotlib.figure.Figure at 0x1ac22128>"
       ]
      }
     ],
     "prompt_number": 180
    },
    {
     "cell_type": "markdown",
     "metadata": {},
     "source": [
      "We can clearly see that this graph is far easier to explore. We can try further increasing the threshold"
     ]
    },
    {
     "cell_type": "code",
     "collapsed": false,
     "input": [
      "accepted = []\n",
      "for node in Characters_Graph:\n",
      "    if (Characters_Graph.in_degree(node) > 200):\n",
      "        accepted.append(node)\n",
      "print len(accepted)\n",
      "acceptedEdges = []\n",
      "for edge in Characters_Graph.edges():\n",
      "    if (edge[0] in accepted and edge[1] in accepted):\n",
      "        acceptedEdges.append(edge)\n",
      "print len(acceptedEdges)"
     ],
     "language": "python",
     "metadata": {},
     "outputs": [
      {
       "output_type": "stream",
       "stream": "stdout",
       "text": [
        "9\n",
        "35\n"
       ]
      }
     ],
     "prompt_number": 187
    },
    {
     "cell_type": "code",
     "collapsed": false,
     "input": [
      "nx.draw_networkx(Characters_Graph,nodelist=accepted,edgelist=acceptedEdges,with_labels=False)\n",
      "plt.show()"
     ],
     "language": "python",
     "metadata": {},
     "outputs": [
      {
       "metadata": {},
       "output_type": "display_data",
       "png": "[encoded data removed]",
       "text": [
        "<matplotlib.figure.Figure at 0x19eca550>"
       ]
      }
     ],
     "prompt_number": 188
    },
    {
     "cell_type": "markdown",
     "metadata": {},
     "source": [
      "The higher the treshold the easier it is to see the network. On the other hand we lose information by omitting nodes. To get useful information from the graph it makes sense to limit the part that is showing to subparts."
     ]
    },
    {
     "cell_type": "markdown",
     "metadata": {},
     "source": [
      "<i>We will now look at two characters teams, and see how their networks overlap. Extract the members from Guardians of the Galaxy and Avengers. Draw the network for the characters in these two teams only, with a different node color for each team</i>"
     ]
    },
    {
     "cell_type": "markdown",
     "metadata": {},
     "source": [
      "We first extract the infoboxes from the two arrays"
     ]
    },
    {
     "cell_type": "code",
     "collapsed": false,
     "input": [
      "infoBox = dict()\n",
      "for name in superheroes:\n",
      "    result = re.findall(r'({{Superherobox)((.[^}}]|\\n)*.)(}})',superheroes[name]['revisions'][0]['*'])\n",
      "    if not(result==[]):\n",
      "        infoBox[name]=result[0][1]\n",
      "for name in supervillains:\n",
      "    result = re.findall(r'({{Superherobox)((.[^}}]|\\n)*.)(}})',supervillains[name]['revisions'][0]['*'])\n",
      "    if not(result==[]):\n",
      "        infoBox[name]=result[0][1]"
     ],
     "language": "python",
     "metadata": {},
     "outputs": [],
     "prompt_number": 205
    },
    {
     "cell_type": "markdown",
     "metadata": {},
     "source": [
      "We then extract Avengers"
     ]
    },
    {
     "cell_type": "code",
     "collapsed": false,
     "input": [
      "avengers = []\n",
      "\n",
      "for iB in infoBox:\n",
      "    s1 = re.findall(r'alliances ?=(.*)',infoBox[iB])\n",
      "    if not(s1==[]): \n",
      "        s2 = re.findall(r'([a|A]vengers)',s1[0])\n",
      "        if not(s2==[]):\n",
      "            avengers.append(iB)\n",
      "print len(avengers)"
     ],
     "language": "python",
     "metadata": {},
     "outputs": [
      {
       "output_type": "stream",
       "stream": "stdout",
       "text": [
        "107\n"
       ]
      }
     ],
     "prompt_number": 206
    },
    {
     "cell_type": "markdown",
     "metadata": {},
     "source": [
      "And Guardians of the Galaxy"
     ]
    },
    {
     "cell_type": "code",
     "collapsed": false,
     "input": [
      "gotg = []\n",
      "\n",
      "for iB in infoBox:\n",
      "    s1 = re.findall(r'alliances ?=(.*)',infoBox[iB])\n",
      "    if not(s1==[]): \n",
      "        s2 = re.findall(r'([G|g]uardians)',s1[0])\n",
      "        if not(s2==[]):\n",
      "            gotg.append(iB)\n",
      "            print iB"
     ],
     "language": "python",
     "metadata": {},
     "outputs": [
      {
       "output_type": "stream",
       "stream": "stdout",
       "text": [
        "Captain Universe\n",
        "Yellowjacket (Rita DeMara)\n",
        "Starhawk (comics)\n",
        "Yondu\n",
        "Martinex\n",
        "Moondragon\n",
        "Jack Flag\n",
        "Nikki (comics)\n",
        "Groot\n",
        "Gamora\n"
       ]
      }
     ],
     "prompt_number": 207
    },
    {
     "cell_type": "markdown",
     "metadata": {},
     "source": [
      "We extract the nodes and edges in the graph representing the chosen characters"
     ]
    },
    {
     "cell_type": "code",
     "collapsed": false,
     "input": [
      "accepted = avengers+gotg\n",
      "print len(accepted)\n",
      "acceptedEdges = []\n",
      "for edge in Characters_Graph.edges():\n",
      "    if (edge[0] in accepted and edge[1] in accepted):\n",
      "        acceptedEdges.append(edge)\n",
      "print len(acceptedEdges)"
     ],
     "language": "python",
     "metadata": {},
     "outputs": [
      {
       "output_type": "stream",
       "stream": "stdout",
       "text": [
        "117\n",
        "410"
       ]
      },
      {
       "output_type": "stream",
       "stream": "stdout",
       "text": [
        "\n"
       ]
      }
     ],
     "prompt_number": 232
    },
    {
     "cell_type": "markdown",
     "metadata": {},
     "source": [
      "And assign colors to the nodes"
     ]
    },
    {
     "cell_type": "code",
     "collapsed": false,
     "input": [
      "colors = []\n",
      "for i in range(0,len(avengers)):\n",
      "    colors.append('r')\n",
      "for i in range(0,len(gotg)):\n",
      "    colors.append('b')"
     ],
     "language": "python",
     "metadata": {},
     "outputs": [],
     "prompt_number": 233
    },
    {
     "cell_type": "markdown",
     "metadata": {},
     "source": [
      "We then visualize the graph"
     ]
    },
    {
     "cell_type": "code",
     "collapsed": false,
     "input": [
      "pos=nx.spring_layout(Characters_Graph)\n",
      "nx.draw_networkx(Characters_Graph,nodelist=accepted,edgelist=acceptedEdges,with_labels=False,node_color=colors,pos=pos)\n",
      "plt.show()"
     ],
     "language": "python",
     "metadata": {},
     "outputs": [
      {
       "metadata": {},
       "output_type": "display_data",
       "png": "[encoded data removed]",
       "text": [
        "<matplotlib.figure.Figure at 0x31b0b7f0>"
       ]
      }
     ],
     "prompt_number": 238
    },
    {
     "cell_type": "markdown",
     "metadata": {},
     "source": [
      "<i>How connected are the two teams?</i>"
     ]
    },
    {
     "cell_type": "markdown",
     "metadata": {},
     "source": [
      "In the plot it's difficult to see if the two teams are connected or not. We can however see that one of the blue dot's aren't connected."
     ]
    },
    {
     "cell_type": "heading",
     "level": 1,
     "metadata": {},
     "source": [
      "Appendix"
     ]
    },
    {
     "cell_type": "heading",
     "level": 2,
     "metadata": {},
     "source": [
      "Appendix I - Clean data from assignment 1 data"
     ]
    },
    {
     "cell_type": "code",
     "collapsed": false,
     "input": [
      "fileObject = codecs.open('MarvelHeroesAssignment.json','r','utf-8-sig')\n",
      "\n",
      "superheroes = json.load(fileObject)\n",
      "\n",
      "fileObject.close()\n",
      "\n",
      "fileObject = codecs.open('MarvelVillainsAssignment.json','r','utf-8-sig')\n",
      "\n",
      "supervillains = json.load(fileObject)\n",
      "\n",
      "fileObject.close()\n",
      "\n",
      "ambigious = dict()\n",
      "for hero in superheroes:\n",
      "    if hero in supervillains:\n",
      "        ambigious[hero] = superheroes[hero]\n",
      "for neutral in ambigious:\n",
      "    superheroes.pop(neutral)\n",
      "    supervillains.pop(neutral)"
     ],
     "language": "python",
     "metadata": {},
     "outputs": []
    },
    {
     "cell_type": "code",
     "collapsed": false,
     "input": [
      "def cleanPage(page):\n",
      "    string = \"\"\n",
      "    for s in re.split(' |{|}|<!--|-->|\\[|\\]|\\||<.*>|:|\\*|\\(|\\)|,|#......|\\n|\\'|\\.|=|\\\"|\\/|\\_|\\%',page['revisions'][0]['*'])[:]:\n",
      "        singles = re.findall('.',s);\n",
      "        if (s != '' and s != ' ' and s != '\\n' and s != '\\n\\n' and s != u'' and s!='=' and s!='\\.' and not(len(singles)==1)):\n",
      "            #print s\n",
      "            string += s+' '\n",
      "    return string"
     ],
     "language": "python",
     "metadata": {},
     "outputs": []
    },
    {
     "cell_type": "code",
     "collapsed": false,
     "input": [
      "#returns false if stub and true if not\n",
      "def test_stub(page):\n",
      "    search = re.findall('\\[\\[.*\\]\\]*(.*)',page['revisions'][0]['*'])\n",
      "    result = False\n",
      "    for word in search:\n",
      "        if word != '':\n",
      "            result = True\n",
      "    return result"
     ],
     "language": "python",
     "metadata": {},
     "outputs": []
    },
    {
     "cell_type": "code",
     "collapsed": false,
     "input": [
      "def updatelist(hero_dict):\n",
      "    new_dict = dict()\n",
      "    for thing in hero_dict:\n",
      "        if(test_stub(hero_dict[thing])):\n",
      "            new_dict[thing] = hero_dict[thing]\n",
      "    return new_dict"
     ],
     "language": "python",
     "metadata": {},
     "outputs": []
    },
    {
     "cell_type": "code",
     "collapsed": false,
     "input": [
      "superheroes = updatelist(superheroes)\n",
      "supervillains = updatelist(supervillains)\n",
      "neutral = updatelist(ambigious)"
     ],
     "language": "python",
     "metadata": {},
     "outputs": []
    },
    {
     "cell_type": "code",
     "collapsed": false,
     "input": [
      "clean_heroes = dict()\n",
      "clean_villains = dict()\n",
      "clean_neutral = dict()\n",
      "for hero in superheroes:\n",
      "    clean_heroes[hero] = cleanPage(superheroes[hero])\n",
      "for villain in supervillains:\n",
      "    clean_villains[villain] = cleanPage(supervillains[villain])\n",
      "for gekko in neutral:\n",
      "    clean_neutral[gekko] = cleanPage(neutral[gekko])"
     ],
     "language": "python",
     "metadata": {},
     "outputs": []
    }
   ],
   "metadata": {}
  }
 ]
}