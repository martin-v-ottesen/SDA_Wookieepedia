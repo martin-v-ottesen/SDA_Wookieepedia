{
 "metadata": {
  "name": "",
  "signature": "sha256:9a49698b3415cd31d848fddb694be0b073eda50459b2f251d2d20c72b1e65f77"
 },
 "nbformat": 3,
 "nbformat_minor": 0,
 "worksheets": [
  {
   "cells": [
    {
     "cell_type": "code",
     "collapsed": false,
     "input": [
      "import networkx as nx"
     ],
     "language": "python",
     "metadata": {},
     "outputs": [],
     "prompt_number": 5
    },
    {
     "cell_type": "code",
     "collapsed": false,
     "input": [
      "g = nx.Graph()\n",
      "#add a node\n",
      "g.add_node(1)\n",
      "print g.nodes()\n",
      "#add a list of nodes\n",
      "g.add_nodes_from([2,3])\n",
      "print g.nodes()\n",
      "#add from a container of nodes\n",
      "h = nx.path_graph(10) #a new graph\n",
      "g.add_nodes_from(h)\n",
      "print h.nodes()\n",
      "print g.nodes()\n",
      "#remove a node from the graph\n",
      "g.remove_node(2)\n",
      "print g.nodes()"
     ],
     "language": "python",
     "metadata": {},
     "outputs": [
      {
       "output_type": "stream",
       "stream": "stdout",
       "text": [
        "[1]\n",
        "[1, 2, 3]\n",
        "[0, 1, 2, 3, 4, 5, 6, 7, 8, 9]\n",
        "[0, 1, 2, 3, 4, 5, 6, 7, 8, 9]\n",
        "[0, 1, 3, 4, 5, 6, 7, 8, 9]\n"
       ]
      }
     ],
     "prompt_number": 37
    },
    {
     "cell_type": "code",
     "collapsed": false,
     "input": [
      "import math"
     ],
     "language": "python",
     "metadata": {},
     "outputs": [],
     "prompt_number": 23
    },
    {
     "cell_type": "code",
     "collapsed": false,
     "input": [
      "#We can add several different kinds of objects as nodes\n",
      "g.add_node(math.cos) #math cosine function\n",
      "print g.nodes()\n",
      "\n",
      "fh = open('tmp.txt','w')\n",
      "g.add_node(fh) #file handle\n",
      "print g.nodes()\n",
      "\n",
      "fh.close()\n",
      "print g.nodes()"
     ],
     "language": "python",
     "metadata": {},
     "outputs": [
      {
       "output_type": "stream",
       "stream": "stdout",
       "text": [
        "[0, 1, 3, 4, 5, 6, 7, 8, 9, <built-in function cos>]\n",
        "[0, 1, 3, 4, 5, 6, 7, 8, 9, <open file 'tmp.txt', mode 'w' at 0x0000000004A51D20>, <built-in function cos>]\n",
        "[0, 1, 3, 4, 5, 6, 7, 8, 9, <closed file 'tmp.txt', mode 'w' at 0x0000000004A51D20>, <built-in function cos>]\n"
       ]
      }
     ],
     "prompt_number": 38
    },
    {
     "cell_type": "code",
     "collapsed": false,
     "input": [
      "#adding edges\n",
      "\n",
      "#single edge\n",
      "g.add_edge(1,2) \n",
      "print g.edges()\n",
      "\n",
      "#unpacking an edge tuple\n",
      "e = (2,3)\n",
      "g.add_edge(*e) \n",
      "print g.edges()\n",
      "\n",
      "#list of edges\n",
      "g.add_edges_from([(1,2),(1,3)])\n",
      "print g.edges()\n",
      "\n",
      "#container of edges\n",
      "g.add_edges_from(h.edges())\n",
      "print g.edges()\n",
      "\n",
      "#removing edges\n",
      "g.remove_edge(1,2)\n",
      "print g.edges()\n"
     ],
     "language": "python",
     "metadata": {},
     "outputs": [
      {
       "output_type": "stream",
       "stream": "stdout",
       "text": [
        "[(1, 2)]\n",
        "[(1, 2), (2, 3)]\n",
        "[(1, 2), (1, 3), (2, 3)]\n",
        "[(0, 1), (1, 2), (1, 3), (2, 3), (3, 4), (4, 5), (5, 6), (6, 7), (7, 8), (8, 9)]\n",
        "[(0, 1), (1, 3), (2, 3), (3, 4), (4, 5), (5, 6), (6, 7), (7, 8), (8, 9)]\n"
       ]
      }
     ],
     "prompt_number": 39
    },
    {
     "cell_type": "code",
     "collapsed": false,
     "input": [
      "##new example\n",
      "g = nx.Graph()\n",
      "g.add_edges_from([(1,2),(1,3)])\n",
      "g.add_node('a')\n",
      "print g.number_of_nodes()\n",
      "print g.number_of_edges()\n",
      "print g.nodes()\n",
      "print g.edges()\n",
      "print g.neighbors(1)\n",
      "print g.degree(1)"
     ],
     "language": "python",
     "metadata": {},
     "outputs": [
      {
       "output_type": "stream",
       "stream": "stdout",
       "text": [
        "4\n",
        "2\n",
        "['a', 1, 2, 3]\n",
        "[(1, 2), (1, 3)]\n",
        "[2, 3]\n",
        "2\n"
       ]
      }
     ],
     "prompt_number": 45
    },
    {
     "cell_type": "code",
     "collapsed": false,
     "input": [
      "#graphs act as dicts\n",
      "g.add_node(1,time='5pm')\n",
      "print g.node[1]['time']\n",
      "print g.node[1]"
     ],
     "language": "python",
     "metadata": {},
     "outputs": [
      {
       "output_type": "stream",
       "stream": "stdout",
       "text": [
        "5pm\n",
        "{'time': '5pm'}\n"
       ]
      }
     ],
     "prompt_number": 46
    },
    {
     "cell_type": "code",
     "collapsed": false,
     "input": [
      "#adding weights\n",
      "g.add_edge(1,2,weight=4.0)\n",
      "g[1][2]['weight'] = 5.0 #changing the weight\n",
      "print g[1][2]"
     ],
     "language": "python",
     "metadata": {},
     "outputs": [
      {
       "output_type": "stream",
       "stream": "stdout",
       "text": [
        "{'weight': 5.0}\n"
       ]
      }
     ],
     "prompt_number": 47
    },
    {
     "cell_type": "code",
     "collapsed": false,
     "input": [
      "g.add_edge(1,2)\n",
      "for node in g.nodes():\n",
      "    print node, g.degree(node)\n",
      "\n",
      "print '    '\n",
      "g.add_edge(1,3,weight=2.5)\n",
      "g[1][2]['weight'] = 1.5\n",
      "for n1,n2,attr in g.edges(data=True):\n",
      "    print n1,n2,attr['weight']\n"
     ],
     "language": "python",
     "metadata": {},
     "outputs": [
      {
       "output_type": "stream",
       "stream": "stdout",
       "text": [
        "a 0\n",
        "1 2\n",
        "2 1\n",
        "3 1\n",
        "    \n",
        "1 2 1.5\n",
        "1 3 2.5\n"
       ]
      }
     ],
     "prompt_number": 53
    },
    {
     "cell_type": "code",
     "collapsed": false,
     "input": [
      "dg = nx.DiGraph()\n",
      "dg.add_weighted_edges_from([(1,4,0.5),(3,1,0.75)])\n",
      "print dg.out_degree(1,'weight')\n",
      "print dg.degree(1,'weight')\n",
      "print dg.successors(1)\n",
      "print dg.predecessors(1)\n",
      "\n",
      "##can use Graph.to_undirected() to convert to undirected graph"
     ],
     "language": "python",
     "metadata": {},
     "outputs": [
      {
       "output_type": "stream",
       "stream": "stdout",
       "text": [
        "0.5\n",
        "1.25\n",
        "[4]\n",
        "[3]\n"
       ]
      }
     ],
     "prompt_number": 66
    },
    {
     "cell_type": "code",
     "collapsed": false,
     "input": [
      "#Graphs that allow multiple edges between nodes\n",
      "mg = nx.MultiGraph()\n",
      "mg.add_weighted_edges_from([(1,2,0.5),(1,2,0.75),(2,3,0.3)])\n",
      "mg.degree(mg.nodes(),'weight')"
     ],
     "language": "python",
     "metadata": {},
     "outputs": [
      {
       "metadata": {},
       "output_type": "pyout",
       "prompt_number": 73,
       "text": [
        "{1: 1.25, 2: 1.55, 3: 0.3}"
       ]
      }
     ],
     "prompt_number": 73
    },
    {
     "cell_type": "code",
     "collapsed": false,
     "input": [
      "import matplotlib.pyplot as plt"
     ],
     "language": "python",
     "metadata": {},
     "outputs": [],
     "prompt_number": 79
    },
    {
     "cell_type": "code",
     "collapsed": false,
     "input": [
      "nx.draw(mg)"
     ],
     "language": "python",
     "metadata": {},
     "outputs": [],
     "prompt_number": 81
    },
    {
     "cell_type": "code",
     "collapsed": false,
     "input": [
      "plt.show()"
     ],
     "language": "python",
     "metadata": {},
     "outputs": [],
     "prompt_number": 82
    },
    {
     "cell_type": "heading",
     "level": 2,
     "metadata": {},
     "source": [
      "Part B - Character Network Analysis"
     ]
    },
    {
     "cell_type": "code",
     "collapsed": false,
     "input": [
      "import urllib2\n",
      "import json\n",
      "import requests\n",
      "import codecs\n",
      "import unicodedata\n",
      "import numpy as np\n",
      "import re\n",
      "import matplotlib.pyplot as plt\n",
      "from matplotlib.font_manager import FontProperties\n",
      "%matplotlib inline"
     ],
     "language": "python",
     "metadata": {},
     "outputs": [],
     "prompt_number": 83
    },
    {
     "cell_type": "code",
     "collapsed": false,
     "input": [
      "fileObject = codecs.open('MarvelHeroesAssignment.json','r','utf-8-sig')\n",
      "\n",
      "superheroes = json.load(fileObject)\n",
      "\n",
      "fileObject.close()\n",
      "\n",
      "fileObject = codecs.open('MarvelVillainsAssignment.json','r','utf-8-sig')\n",
      "\n",
      "supervillains = json.load(fileObject)\n",
      "\n",
      "fileObject.close()"
     ],
     "language": "python",
     "metadata": {},
     "outputs": [],
     "prompt_number": 88
    },
    {
     "cell_type": "code",
     "collapsed": false,
     "input": [
      "\"\"\"This method returns the left side of a link\"\"\"\n",
      "def link_left_side(link):\n",
      "    return link.split('|')[0]\n",
      "\n",
      "\"\"\"This methods returns the internal wiki links\"\"\"\n",
      "def get_wiki_links(text):\n",
      "    links = re.findall(\"\\[\\[([^\\]]*)\\]\\]\",text[0]['*'])\n",
      "    clean_links = []\n",
      "    for link in links:\n",
      "        clean_links.append(link_left_side(link))\n",
      "    return clean_links"
     ],
     "language": "python",
     "metadata": {},
     "outputs": [],
     "prompt_number": 89
    },
    {
     "cell_type": "code",
     "collapsed": false,
     "input": [
      "Hero_Graph = nx.DiGraph()\n",
      "Villain_Graph = nx.DiGraph()\n",
      "Characters_Graph = nx.DiGraph()\n",
      "for hero in superheroes:\n",
      "    for link in get_wiki_links(superheroes[hero]['revisions']):\n",
      "        if link in superheroes.keys():\n",
      "            Hero_Graph.add_edge(hero,link)\n",
      "        if link in superheroes.keys() or link in supervillains.keys():\n",
      "            Characters_Graph.add_edge(hero,link)\n",
      "for hero in supervillains:\n",
      "    for link in get_wiki_links(supervillains[hero]['revisions']):\n",
      "        if link in supervillains.keys():\n",
      "            Villain_Graph.add_edge(hero,link)\n",
      "        if link in superheroes.keys() or link in supervillains.keys():\n",
      "            Characters_Graph.add_edge(hero,link)"
     ],
     "language": "python",
     "metadata": {},
     "outputs": [],
     "prompt_number": 109
    },
    {
     "cell_type": "code",
     "collapsed": false,
     "input": [
      "## how to get a sorted tuple rep of a dict\n",
      "import operator\n",
      "x = {1: 2, 3: 4, 4:3, 2:1, 0:0}\n",
      "sorted_x = sorted(x.items(), key=operator.itemgetter(1))\n",
      "print sorted_x"
     ],
     "language": "python",
     "metadata": {},
     "outputs": [
      {
       "output_type": "stream",
       "stream": "stdout",
       "text": [
        "[(0, 0), (2, 1), (1, 2), (4, 3), (3, 4)]\n"
       ]
      }
     ],
     "prompt_number": 137
    },
    {
     "cell_type": "code",
     "collapsed": false,
     "input": [
      "villain_orders = dict()\n",
      "hero_orders = dict()\n",
      "for node in Characters_Graph:\n",
      "    if node in superheroes.keys():\n",
      "        hero_orders[node] = Characters_Graph.out_degree(node)\n",
      "    if node in supervillains.keys():\n",
      "        villain_orders[node] = Characters_Graph.out_degree(node)"
     ],
     "language": "python",
     "metadata": {},
     "outputs": [],
     "prompt_number": 161
    },
    {
     "cell_type": "code",
     "collapsed": false,
     "input": [
      "villain_orders_in = dict()\n",
      "hero_orders_in = dict()\n",
      "for node in Characters_Graph:\n",
      "    if node in superheroes.keys():\n",
      "        hero_orders_in[node] = Characters_Graph.in_degree(node)\n",
      "    if node in supervillains.keys():\n",
      "        villain_orders_in[node] = Characters_Graph.in_degree(node)"
     ],
     "language": "python",
     "metadata": {},
     "outputs": [],
     "prompt_number": 162
    },
    {
     "cell_type": "code",
     "collapsed": false,
     "input": [
      "print 'Heroes!!!'\n",
      "sorted_orders = sorted(hero_orders.items(), key=operator.itemgetter(1), reverse = True)\n",
      "for i in range(0,10):\n",
      "    print sorted_orders[i]\n",
      "print 'Villains!!!'\n",
      "sorted_orders = sorted(villain_orders.items(), key=operator.itemgetter(1), reverse = True)\n",
      "for i in range(0,10):\n",
      "    print sorted_orders[i]"
     ],
     "language": "python",
     "metadata": {},
     "outputs": [
      {
       "output_type": "stream",
       "stream": "stdout",
       "text": [
        "Heroes!!!\n",
        "(u'Sabretooth (comics)', 90)\n",
        "(u'Cloak and Dagger (comics)', 83)\n",
        "(u'Rogue (comics)', 80)\n",
        "(u'Warren Worthington III', 77)\n",
        "(u'Hercules (Marvel Comics)', 76)\n",
        "(u'Iceman (comics)', 76)\n",
        "(u'X-23', 76)\n",
        "(u'Emma Frost', 75)\n",
        "(u'Psylocke', 74)\n",
        "(u'Cyclops (comics)', 73)\n",
        "Villains!!!\n",
        "(u'Hood (comics)', 158)\n",
        "(u'Sabretooth (comics)', 90)\n",
        "(u'Mac Gargan', 84)\n",
        "(u'Scourge of the Underworld', 81)\n",
        "(u'Rogue (comics)', 80)\n",
        "(u'Emma Frost', 75)\n",
        "(u'Apocalypse (comics)', 74)\n",
        "(u'Arcade (Marvel Comics)', 73)\n",
        "(u'Black Cat (comics)', 72)\n",
        "(u'Super-Adaptoid', 70)\n"
       ]
      }
     ],
     "prompt_number": 163
    },
    {
     "cell_type": "code",
     "collapsed": false,
     "input": [
      "print 'Heroes!!!'\n",
      "sorted_orders = sorted(hero_orders_in.items(), key=operator.itemgetter(1), reverse = True)\n",
      "for i in range(0,10):\n",
      "    print sorted_orders[i]\n",
      "print 'Villains!!!'\n",
      "sorted_orders = sorted(villain_orders_in.items(), key=operator.itemgetter(1), reverse = True)\n",
      "for i in range(0,10):\n",
      "    print sorted_orders[i]"
     ],
     "language": "python",
     "metadata": {},
     "outputs": [
      {
       "output_type": "stream",
       "stream": "stdout",
       "text": [
        "Heroes!!!\n",
        "(u'Spider-Man', 519)\n",
        "(u'Captain America', 452)\n",
        "(u'Iron Man', 391)\n",
        "(u'Wolverine (character)', 357)\n",
        "(u'Hulk (comics)', 323)\n",
        "(u'Thor (Marvel Comics)', 245)\n",
        "(u'Magneto (comics)', 230)\n",
        "(u'Doctor Strange', 217)\n",
        "(u'Daredevil (Marvel Comics)', 206)\n",
        "(u'Thing (comics)', 194)\n",
        "Villains!!!\n",
        "(u'Magneto (comics)', 230)\n",
        "(u'Doctor Doom', 195)\n",
        "(u'Green Goblin', 166)\n",
        "(u'Emma Frost', 151)\n",
        "(u'Apocalypse (comics)', 146)\n",
        "(u'Namor', 134)\n",
        "(u'Red Skull', 132)\n",
        "(u'Hood (comics)', 127)\n",
        "(u'Kingpin (comics)', 126)\n",
        "(u'Rogue (comics)', 124)\n"
       ]
      }
     ],
     "prompt_number": 164
    },
    {
     "cell_type": "code",
     "collapsed": false,
     "input": [
      "plt.hist(villain_orders.values(),bins=50)\n",
      "plt.show()\n",
      "plt.hist(villain_orders_in.values(),bins=50)\n",
      "plt.show()"
     ],
     "language": "python",
     "metadata": {},
     "outputs": [
      {
       "metadata": {},
       "output_type": "display_data",
       "png": "[encoded data removed]",
       "text": [
        "<matplotlib.figure.Figure at 0x1511a048>"
       ]
      },
      {
       "metadata": {},
       "output_type": "display_data",
       "png": "[encoded data removed]",
       "text": [
        "<matplotlib.figure.Figure at 0x1b80def0>"
       ]
      }
     ],
     "prompt_number": 167
    },
    {
     "cell_type": "code",
     "collapsed": false,
     "input": [
      "plt.hist(hero_orders.values(),bins=50)\n",
      "plt.show()\n",
      "plt.hist(hero_orders_in.values(),bins=50)\n",
      "plt.show()"
     ],
     "language": "python",
     "metadata": {},
     "outputs": [
      {
       "metadata": {},
       "output_type": "display_data",
       "png": "[encoded data removed]",
       "text": [
        "<matplotlib.figure.Figure at 0x1a958b70>"
       ]
      },
      {
       "metadata": {},
       "output_type": "display_data",
       "png": "[encoded data removed]",
       "text": [
        "<matplotlib.figure.Figure at 0x1b80d6d8>"
       ]
      }
     ],
     "prompt_number": 169
    },
    {
     "cell_type": "code",
     "collapsed": false,
     "input": [
      "plt.hist(villain_orders.values(),log=True,bins=np.logspace(0,2))\n",
      "plt.gca().set_xscale(\"log\")\n",
      "plt.show()\n",
      "plt.hist(villain_orders_in.values(),log=True,bins=np.logspace(0,2))\n",
      "plt.gca().set_xscale(\"log\")\n",
      "plt.show()"
     ],
     "language": "python",
     "metadata": {},
     "outputs": [
      {
       "metadata": {},
       "output_type": "display_data",
       "png": "[encoded data removed]",
       "text": [
        "<matplotlib.figure.Figure at 0x21467160>"
       ]
      },
      {
       "metadata": {},
       "output_type": "display_data",
       "png": "[encoded data removed]",
       "text": [
        "<matplotlib.figure.Figure at 0x1b786dd8>"
       ]
      }
     ],
     "prompt_number": 187
    },
    {
     "cell_type": "code",
     "collapsed": false,
     "input": [
      "plt.hist(hero_orders.values(),log=True,bins=np.logspace(0,2))\n",
      "plt.gca().set_xscale(\"log\")\n",
      "plt.show()\n",
      "plt.hist(hero_orders_in.values(),log=True,bins=np.logspace(0,2))\n",
      "plt.gca().set_xscale(\"log\")\n",
      "plt.show()"
     ],
     "language": "python",
     "metadata": {},
     "outputs": [
      {
       "metadata": {},
       "output_type": "display_data",
       "png": "[encoded data removed]",
       "text": [
        "<matplotlib.figure.Figure at 0x1bff8fd0>"
       ]
      },
      {
       "metadata": {},
       "output_type": "display_data",
       "png": "[encoded data removed]",
       "text": [
        "<matplotlib.figure.Figure at 0x1c1bae48>"
       ]
      }
     ],
     "prompt_number": 188
    },
    {
     "cell_type": "code",
     "collapsed": false,
     "input": [
      "###In vs out for all characters"
     ],
     "language": "python",
     "metadata": {},
     "outputs": [],
     "prompt_number": 189
    },
    {
     "cell_type": "code",
     "collapsed": false,
     "input": [
      "order_in = []\n",
      "order_out = []\n",
      "for node in Characters_Graph:\n",
      "    order_in.append(Characters_Graph.in_degree(node))\n",
      "    order_out.append(Characters_Graph.out_degree(node))\n",
      "    #plt.loglog(Characters_Graph.in_degree(node),Characters_Graph.out_degree(node))\n",
      "plt.loglog(order_in,order_out,'.')\n",
      "#plt.xlim(0,500)\n",
      "#plt.ylim(0.500)\n",
      "plt.show()"
     ],
     "language": "python",
     "metadata": {},
     "outputs": [
      {
       "metadata": {},
       "output_type": "display_data",
       "png": "[encoded data removed]",
       "text": [
        "<matplotlib.figure.Figure at 0x21e2f518>"
       ]
      }
     ],
     "prompt_number": 211
    },
    {
     "cell_type": "markdown",
     "metadata": {},
     "source": [
      "The Betweenness centrality is a meassure of how central and important a node is. it is kind of a meassure of how great a bottlenect the node represents. It is a ratio of how many paths will tend to go through the node versus how many paths exist in the graph"
     ]
    },
    {
     "cell_type": "code",
     "collapsed": false,
     "input": [
      "Char = nx.betweenness_centrality(Characters_Graph)"
     ],
     "language": "python",
     "metadata": {},
     "outputs": [],
     "prompt_number": 213
    },
    {
     "cell_type": "code",
     "collapsed": false,
     "input": [
      "Evil = nx.betweenness_centrality(Hero_Graph)"
     ],
     "language": "python",
     "metadata": {},
     "outputs": [],
     "prompt_number": 214
    },
    {
     "cell_type": "code",
     "collapsed": false,
     "input": [
      "Good = nx.betweenness_centrality(Villain_Graph)"
     ],
     "language": "python",
     "metadata": {},
     "outputs": [],
     "prompt_number": 215
    },
    {
     "cell_type": "code",
     "collapsed": false,
     "input": [
      "print 'Heroes!!!'\n",
      "sorted_orders = sorted(Good.items(), key=operator.itemgetter(1), reverse = True)\n",
      "for i in range(0,10):\n",
      "    print sorted_orders[i]\n",
      "print 'Villains!!!'\n",
      "sorted_orders = sorted(Evil.items(), key=operator.itemgetter(1), reverse = True)\n",
      "for i in range(0,10):\n",
      "    print sorted_orders[i]\n",
      "print 'Both!!!'\n",
      "sorted_orders = sorted(Char.items(), key=operator.itemgetter(1), reverse = True)\n",
      "for i in range(0,10):\n",
      "    print sorted_orders[i]\n"
     ],
     "language": "python",
     "metadata": {},
     "outputs": [
      {
       "output_type": "stream",
       "stream": "stdout",
       "text": [
        "Heroes!!!\n",
        "(u'Hood (comics)', 0.09635801711625083)\n",
        "(u'Magneto (comics)', 0.050919714739217616)\n",
        "(u'Apocalypse (comics)', 0.04385078010230096)\n",
        "(u'Doctor Doom', 0.04262296988923475)\n",
        "(u'Emma Frost', 0.0350627382428473)\n",
        "(u'Namor', 0.032194455531710145)\n",
        "(u'Red Skull', 0.031723662834064)\n",
        "(u'Loki (comics)', 0.030669121515769848)\n",
        "(u'Sabretooth (comics)', 0.03045734375009364)\n",
        "(u'Quicksilver (comics)', 0.024824763891645448)\n",
        "Villains!!!\n",
        "(u'Wolverine (character)', 0.05356045817702031)\n",
        "(u'Captain America', 0.05352701658520333)\n",
        "(u'Iron Man', 0.04694925860306482)\n",
        "(u'Thor (Marvel Comics)', 0.03357896755504284)\n",
        "(u'Spider-Man', 0.030969065461997056)\n",
        "(u'Hawkeye (comics)', 0.029473024507182723)\n",
        "(u'She-Hulk', 0.02429411213456655)\n",
        "(u'Magneto (comics)', 0.02409510113003744)\n",
        "(u'Emma Frost', 0.02242096880265194)\n",
        "(u'Hercules (Marvel Comics)', 0.021630162553142658)\n",
        "Both!!!\n",
        "(u'Iron Man', 0.03692116864954618)\n",
        "(u'Hood (comics)', 0.03427084246566128)\n",
        "(u'Wolverine (character)', 0.03399297614616892)\n",
        "(u'Captain America', 0.03335614075552783)\n",
        "(u'Spider-Man', 0.026945841868942395)\n",
        "(u'Thor (Marvel Comics)', 0.02534340227428043)\n",
        "(u'Magneto (comics)', 0.020710499466240918)\n",
        "(u'Hawkeye (comics)', 0.019715543117541052)\n",
        "(u'Sabretooth (comics)', 0.017049871614326167)\n",
        "(u'Emma Frost', 0.01679035069988928)\n"
       ]
      }
     ],
     "prompt_number": 217
    },
    {
     "cell_type": "heading",
     "level": 3,
     "metadata": {},
     "source": [
      "Exercise B3"
     ]
    },
    {
     "cell_type": "code",
     "collapsed": false,
     "input": [
      "nx.draw(Characters_Graph)\n",
      "plt.show()"
     ],
     "language": "python",
     "metadata": {},
     "outputs": [
      {
       "metadata": {},
       "output_type": "display_data",
       "png": "[encoded data removed]",
       "text": [
        "<matplotlib.figure.Figure at 0x21d1ef28>"
       ]
      }
     ],
     "prompt_number": 218
    },
    {
     "cell_type": "code",
     "collapsed": false,
     "input": [
      "accepted = []\n",
      "for node in Characters_Graph:\n",
      "    if (Characters_Graph.in_degree(node) > 100):\n",
      "        accepted.append(node)\n",
      "print len(accepted)\n",
      "acceptedEdges = []\n",
      "for edge in Characters_Graph.edges():\n",
      "    if (edge[0] in accepted and edge[1] in accepted):\n",
      "        acceptedEdges.append(edge)\n",
      "print len(acceptedEdges)"
     ],
     "language": "python",
     "metadata": {},
     "outputs": [
      {
       "output_type": "stream",
       "stream": "stdout",
       "text": [
        "43\n",
        "626"
       ]
      },
      {
       "output_type": "stream",
       "stream": "stdout",
       "text": [
        "\n"
       ]
      }
     ],
     "prompt_number": 242
    },
    {
     "cell_type": "code",
     "collapsed": false,
     "input": [
      "nx.draw_networkx(Characters_Graph,nodelist=accepted,edgelist=acceptedEdges,with_labels=False)\n",
      "plt.show()"
     ],
     "language": "python",
     "metadata": {},
     "outputs": [
      {
       "metadata": {},
       "output_type": "display_data",
       "png": "[encoded data removed]",
       "text": [
        "<matplotlib.figure.Figure at 0x1f62630>"
       ]
      }
     ],
     "prompt_number": 243
    },
    {
     "cell_type": "code",
     "collapsed": false,
     "input": [
      "import re\n",
      "\n",
      "infoBox = dict()\n",
      "for name in superheroes:\n",
      "    result = re.findall(r'({{Superherobox)((.[^}}]|\\n)*.)(}})',superheroes[name]['revisions'][0]['*'])\n",
      "    if not(result==[]):\n",
      "        infoBox[name]=result[0][1]\n",
      "for name in supervillains:\n",
      "    result = re.findall(r'({{Superherobox)((.[^}}]|\\n)*.)(}})',supervillains[name]['revisions'][0]['*'])\n",
      "    if not(result==[]):\n",
      "        infoBox[name]=result[0][1]"
     ],
     "language": "python",
     "metadata": {},
     "outputs": [],
     "prompt_number": 249
    },
    {
     "cell_type": "code",
     "collapsed": false,
     "input": [
      "len(infoBox.keys())"
     ],
     "language": "python",
     "metadata": {},
     "outputs": [
      {
       "metadata": {},
       "output_type": "pyout",
       "prompt_number": 250,
       "text": [
        "1129"
       ]
      }
     ],
     "prompt_number": 250
    },
    {
     "cell_type": "code",
     "collapsed": false,
     "input": [
      "avengers = []\n",
      "\n",
      "for iB in infoBox:\n",
      "    s1 = re.findall(r'alliances ?=(.*)',infoBox[iB])\n",
      "    if not(s1==[]): \n",
      "        s2 = re.findall(r'([a|A]vengers)',s1[0])\n",
      "        if not(s2==[]):\n",
      "            avengers.append(iB)\n",
      "print len(avengers)"
     ],
     "language": "python",
     "metadata": {},
     "outputs": [
      {
       "output_type": "stream",
       "stream": "stdout",
       "text": [
        "107\n"
       ]
      }
     ],
     "prompt_number": 268
    },
    {
     "cell_type": "code",
     "collapsed": false,
     "input": [
      "gotg = []\n",
      "\n",
      "for iB in infoBox:\n",
      "    s1 = re.findall(r'alliances ?=(.*)',infoBox[iB])\n",
      "    if not(s1==[]): \n",
      "        s2 = re.findall(r'([G|g]uardians)',s1[0])\n",
      "        if not(s2==[]):\n",
      "            gotg.append(iB)\n",
      "            print iB"
     ],
     "language": "python",
     "metadata": {},
     "outputs": [
      {
       "output_type": "stream",
       "stream": "stdout",
       "text": [
        "Captain Universe\n",
        "Yellowjacket (Rita DeMara)\n",
        "Starhawk (comics)\n",
        "Yondu\n",
        "Martinex\n",
        "Moondragon\n",
        "Jack Flag\n",
        "Nikki (comics)\n",
        "Groot\n",
        "Gamora\n"
       ]
      }
     ],
     "prompt_number": 269
    },
    {
     "cell_type": "code",
     "collapsed": false,
     "input": [
      "accepted = avengers+gotg\n",
      "print len(accepted)\n",
      "acceptedEdges = []\n",
      "for edge in Characters_Graph.edges():\n",
      "    if (edge[0] in accepted and edge[1] in accepted):\n",
      "        acceptedEdges.append(edge)\n",
      "print len(acceptedEdges)"
     ],
     "language": "python",
     "metadata": {},
     "outputs": [
      {
       "output_type": "stream",
       "stream": "stdout",
       "text": [
        "117\n",
        "410"
       ]
      },
      {
       "output_type": "stream",
       "stream": "stdout",
       "text": [
        "\n"
       ]
      }
     ],
     "prompt_number": 270
    },
    {
     "cell_type": "code",
     "collapsed": false,
     "input": [
      "colors = []\n",
      "for i in range(0,len(avengers)):\n",
      "    colors.append('r')\n",
      "for i in range(0,len(gotg)):\n",
      "    colors.append('b')"
     ],
     "language": "python",
     "metadata": {},
     "outputs": [],
     "prompt_number": 275
    },
    {
     "cell_type": "code",
     "collapsed": false,
     "input": [
      "nx.draw_networkx(Characters_Graph,nodelist=accepted,edgelist=acceptedEdges,with_labels=False,node_color=colors)\n",
      "plt.show()"
     ],
     "language": "python",
     "metadata": {},
     "outputs": [
      {
       "metadata": {},
       "output_type": "display_data",
       "png": "[encoded data removed]",
       "text": [
        "<matplotlib.figure.Figure at 0x12e452b0>"
       ]
      }
     ],
     "prompt_number": 276
    },
    {
     "cell_type": "heading",
     "level": 2,
     "metadata": {},
     "source": [
      "Part C"
     ]
    },
    {
     "cell_type": "code",
     "collapsed": false,
     "input": [
      "def calculatepagerank(G,iterations=10):\n",
      "    # create a new dict with  \n",
      "    page_ranks = dict()\n",
      "    # initialize every url with a page rank of 1 \n",
      "    for node in G:\n",
      "        page_ranks[node] = 1\n",
      "\n",
      "    for i in range(iterations):\n",
      "        pr = 0.15\n",
      "        print \"Iteration %d\" % (i) \n",
      "        #Loop throgh all nodes\n",
      "        for node in G:\n",
      "            # Loop through all the pages that link to this one \n",
      "            for linker in G.in_edges(node):\n",
      "                # Get the page rank of the linker \n",
      "                link_pr = page_ranks[linker[0]]\n",
      "                # Get the total number of links from the linker \n",
      "                link_count = len(G.out_edges(linker[0]))\n",
      "\n",
      "                pr+=0.85*(link_pr/link_count) \n",
      "            #set the new page rank\n",
      "            page_ranks[node] = pr\n",
      "    return page_ranks\n"
     ],
     "language": "python",
     "metadata": {},
     "outputs": [],
     "prompt_number": 311
    },
    {
     "cell_type": "code",
     "collapsed": false,
     "input": [
      "p_ranks = calculatepagerank(Characters_Graph)"
     ],
     "language": "python",
     "metadata": {},
     "outputs": [
      {
       "output_type": "stream",
       "stream": "stdout",
       "text": [
        "Iteration 0\n",
        "Iteration 1"
       ]
      },
      {
       "output_type": "stream",
       "stream": "stdout",
       "text": [
        "\n",
        "Iteration 2"
       ]
      },
      {
       "output_type": "stream",
       "stream": "stdout",
       "text": [
        "\n",
        "Iteration 3"
       ]
      },
      {
       "output_type": "stream",
       "stream": "stdout",
       "text": [
        "\n",
        "Iteration 4"
       ]
      },
      {
       "output_type": "stream",
       "stream": "stdout",
       "text": [
        "\n",
        "Iteration 5"
       ]
      },
      {
       "output_type": "stream",
       "stream": "stdout",
       "text": [
        "\n",
        "Iteration 6"
       ]
      },
      {
       "output_type": "stream",
       "stream": "stdout",
       "text": [
        "\n",
        "Iteration 7"
       ]
      },
      {
       "output_type": "stream",
       "stream": "stdout",
       "text": [
        "\n",
        "Iteration 8"
       ]
      },
      {
       "output_type": "stream",
       "stream": "stdout",
       "text": [
        "\n",
        "Iteration 9"
       ]
      },
      {
       "output_type": "stream",
       "stream": "stdout",
       "text": [
        "\n"
       ]
      }
     ],
     "prompt_number": 312
    },
    {
     "cell_type": "code",
     "collapsed": false,
     "input": [
      "print 'top!!!'\n",
      "sorted_orders = sorted(p_ranks.items(), key=operator.itemgetter(1), reverse = True)\n",
      "for i in range(0,20):\n",
      "    print sorted_orders[i]\n",
      "print 'bottom!!!'\n",
      "sorted_orders = sorted(p_ranks.items(), key=operator.itemgetter(1))\n",
      "for i in range(0,20):\n",
      "    print sorted_orders[i]\n"
     ],
     "language": "python",
     "metadata": {},
     "outputs": [
      {
       "output_type": "stream",
       "stream": "stdout",
       "text": [
        "top!!!\n",
        "(u'Warren Worthington III', 7.079206110173405e+163)\n",
        "(u'Marrow (comics)', 6.223200202483388e+163)\n",
        "(u'Alexander Bont', 6.107471159889369e+163)\n",
        "(u'Mahr Vehl', 6.107459754113781e+163)\n",
        "(u'Echo (Marvel Comics)', 6.10745975182338e+163)\n",
        "(u'Black Rider (comics)', 6.101015060342496e+163)\n",
        "(u'Professor X', 6.100984198516778e+163)\n",
        "(u'Lucifer (Marvel Comics)', 4.895244989112332e+163)\n",
        "(u'Iron Man 2020', 4.8951871921022145e+163)\n",
        "(u'Mister Fantastic', 4.8951623922397866e+163)\n",
        "(u'Namora', 4.2299310177784115e+163)\n",
        "(u'Rawhide Kid', 4.214489736746613e+163)\n",
        "(u'Alice Nugent', 4.214489736746613e+163)\n",
        "(u'Wildside (comics)', 4.108071059060852e+163)\n",
        "(u'Cobra (comics)', 4.0749809426832705e+163)\n",
        "(u'Turner D. Century', 3.925269811494035e+163)\n",
        "(u'Wild Thing (comics)', 3.9252559025567576e+163)\n",
        "(u'Charcoal (comics)', 3.9252559025567576e+163)\n",
        "(u'Emplate', 3.9006325510530835e+163)\n",
        "(u'Swarm (comics)', 3.876674044717088e+163)\n",
        "bottom!!!\n",
        "(u'Gazelle (Marvel Comics)', 2.1406165833822223e+142)\n",
        "(u'Hope Summers (comics)', 2.1168714183644192e+145)\n",
        "(u'Spoor (comics)', 2.1168714183644198e+145)\n",
        "(u'Allatou', 2.116871458658146e+145)\n",
        "(u'Lifeform (comics)', 2.116871458658146e+145)\n",
        "(u'Gentle (comics)', 2.2222287427222254e+145)\n",
        "(u'Thousand (comics)', 2.2222287427222254e+145)\n",
        "(u'Hercules (Marvel Comics)', 3.6417798447910832e+146)\n",
        "(u'Shaman (comics)', 3.913727876659686e+146)\n",
        "(u'Venus Dee Milo', 3.9146747001247585e+146)\n",
        "(u'Hood (comics)', 9.54004990211302e+146)\n",
        "(u'Nara (comics)', 9.577614130023857e+146)\n",
        "(u'Beetle (comics)', 9.636386567062213e+146)\n",
        "(u'Pixx', 9.636386567065402e+146)\n",
        "(u'Quentin Quire', 1.0141173590148725e+147)\n",
        "(u'Firebrand (Marvel Comics)', 1.0658235398577947e+147)\n",
        "(u'Malice (comics)', 1.0811668004462779e+147)\n",
        "(u'Mister Negative', 1.1103511576594226e+147)\n",
        "(u'Warrior Woman (Marvel Comics)', 1.1157429616383727e+147)\n",
        "(u'Mind-Wave', 1.1208752669760633e+147)\n"
       ]
      }
     ],
     "prompt_number": 313
    },
    {
     "cell_type": "code",
     "collapsed": false,
     "input": [
      "len(p_ranks)"
     ],
     "language": "python",
     "metadata": {},
     "outputs": [
      {
       "metadata": {},
       "output_type": "pyout",
       "prompt_number": 314,
       "text": [
        "1909"
       ]
      }
     ],
     "prompt_number": 314
    },
    {
     "cell_type": "code",
     "collapsed": false,
     "input": [],
     "language": "python",
     "metadata": {},
     "outputs": []
    }
   ],
   "metadata": {}
  }
 ]
}