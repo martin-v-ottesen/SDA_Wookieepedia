{
 "metadata": {
  "name": "",
  "signature": "sha256:5e57774b22add4837c50ce012deaffdd00a044871e4f3fba463ba159e702db46"
 },
 "nbformat": 3,
 "nbformat_minor": 0,
 "worksheets": [
  {
   "cells": [
    {
     "cell_type": "heading",
     "level": 1,
     "metadata": {},
     "source": [
      "Introduction"
     ]
    },
    {
     "cell_type": "code",
     "collapsed": false,
     "input": [
      "import re\n",
      "import math\n",
      "\n",
      "def getwords(doc):\n",
      "    splitter=re.compile('\\\\W*')\n",
      "    # Split the words by non-alpha characters\n",
      "    words=[s.lower( ) for s in splitter.split(doc)\n",
      "        if len(s)>2 and len(s)<20]\n",
      "    # Return the unique set of words only\n",
      "    return dict([(w,1) for w in words])"
     ],
     "language": "python",
     "metadata": {},
     "outputs": [],
     "prompt_number": 1
    },
    {
     "cell_type": "code",
     "collapsed": false,
     "input": [
      "class classifier:\n",
      "    def __init__(self,getfeatures,filename=None):\n",
      "        self.thresholds={}\n",
      "        # Counts of feature/category combinations\n",
      "        self.fc={}\n",
      "        # Counts of documents in each category\n",
      "        self.cc={}\n",
      "        self.getfeatures=getfeatures\n",
      "    \n",
      "    #Threshold methods\n",
      "    def setthreshold(self,cat,t):\n",
      "        self.thresholds[cat]=t\n",
      "    def getthreshold(self,cat):\n",
      "        if cat not in self.thresholds: return 1.0\n",
      "        return self.thresholds[cat]\n",
      "    \n",
      "    # Increase the count of a feature/category pair\n",
      "    def incf(self,f,cat):\n",
      "        self.fc.setdefault(f,{})\n",
      "        self.fc[f].setdefault(cat,0)\n",
      "        self.fc[f][cat]+=1\n",
      "    \n",
      "    # Increase the count of a category\n",
      "    def incc(self,cat):\n",
      "        self.cc.setdefault(cat,0)\n",
      "        self.cc[cat]+=1\n",
      "    \n",
      "    # The number of times a feature has appeared in a category\n",
      "    def fcount(self,f,cat):\n",
      "        if f in self.fc and cat in self.fc[f]:\n",
      "            return float(self.fc[f][cat])\n",
      "        return 0.0\n",
      "    \n",
      "    # The number of items in a category\n",
      "    def catcount(self,cat):\n",
      "        if cat in self.cc:\n",
      "            return float(self.cc[cat])\n",
      "        return 0\n",
      "    \n",
      "    # The total number of items\n",
      "    def totalcount(self):\n",
      "        return sum(self.cc.values( ))\n",
      "    \n",
      "    # The list of all categories\n",
      "    def categories(self):\n",
      "        return self.cc.keys( )\n",
      "    \n",
      "    #Training function breaks an item into features and trains the classifyer with them\n",
      "    def train(self,item,cat):\n",
      "        features=self.getfeatures(item)\n",
      "        # Increment the count for every feature with this category\n",
      "        for f in features:\n",
      "            self.incf(f,cat)\n",
      "        # Increment the count for this category\n",
      "        self.incc(cat)\n",
      "        \n",
      "    #The probability that this word = f will appear given cat = the category\n",
      "    def fprob(self,f,cat):\n",
      "        if self.catcount(cat)==0: return 0\n",
      "        # The total number of times this feature appeared in this\n",
      "        # category divided by the total number of items in this category\n",
      "        return self.fcount(f,cat)/self.catcount(cat)\n",
      "    \n",
      "    #weighted prop that accounts a bit more for early training\n",
      "    def weightedprob(self,f,cat,prf,weight=1.0,ap=0.5):\n",
      "        # Calculate current probability\n",
      "        basicprob=prf(f,cat)\n",
      "        # Count the number of times this feature has appeared in\n",
      "        # all categories\n",
      "        totals=sum([self.fcount(f,c) for c in self.categories( )])\n",
      "        # Calculate the weighted average\n",
      "        bp=((weight*ap)+(totals*basicprob))/(weight+totals)\n",
      "        return bp"
     ],
     "language": "python",
     "metadata": {},
     "outputs": [],
     "prompt_number": 44
    },
    {
     "cell_type": "code",
     "collapsed": false,
     "input": [
      "c1 = classifier(getwords)\n",
      "c1.train('the quick brown fox jumps over the lazy dog','good')\n",
      "c1.train('make quick money in the online casino','bad')\n",
      "c1.fcount('money','bad')"
     ],
     "language": "python",
     "metadata": {},
     "outputs": [
      {
       "metadata": {},
       "output_type": "pyout",
       "prompt_number": 19,
       "text": [
        "1.0"
       ]
      }
     ],
     "prompt_number": 19
    },
    {
     "cell_type": "code",
     "collapsed": false,
     "input": [
      "def sampletrain(c1):\n",
      "    c1.train('Nobody owns the water.','good')\n",
      "    c1.train('the quick rabbit jumps fences','good')\n",
      "    c1.train('buy pharmaceuticals now','bad')\n",
      "    c1.train('make quick money at the online casino','bad')\n",
      "    c1.train('the quick brown fox jumps','good')"
     ],
     "language": "python",
     "metadata": {},
     "outputs": [],
     "prompt_number": 20
    },
    {
     "cell_type": "code",
     "collapsed": false,
     "input": [
      "c1 = classifier(getwords)\n",
      "sampletrain(c1)\n",
      "print c1.fprob('quick','good')\n",
      "print c1.weightedprob('money','good',c1.fprob)\n",
      "sampletrain(c1)\n",
      "print c1.weightedprob('money','good',c1.fprob)"
     ],
     "language": "python",
     "metadata": {},
     "outputs": [
      {
       "output_type": "stream",
       "stream": "stdout",
       "text": [
        "0.666666666667\n",
        "0.25\n",
        "0.166666666667\n"
       ]
      }
     ],
     "prompt_number": 33
    },
    {
     "cell_type": "code",
     "collapsed": false,
     "input": [
      "class naivebayes(classifier):\n",
      "        #The probability of being the given item(document) given that we are in the class cat\n",
      "        def docprob(self,item,cat):\n",
      "            features=self.getfeatures(item)\n",
      "            # Multiply the probabilities of all the features together\n",
      "            p=1\n",
      "            for f in features: p*=self.weightedprob(f,cat,self.fprob)\n",
      "            return p\n",
      "        def prob(self,item,cat):\n",
      "            catprob=self.catcount(cat)/self.totalcount( )\n",
      "            docprob=self.docprob(item,cat)\n",
      "            return docprob*catprob\n",
      "        def classify(self,item,default=None):\n",
      "            probs={}\n",
      "            # Find the category with the highest probability\n",
      "            max=0.0\n",
      "            for cat in self.categories( ):\n",
      "                probs[cat]=self.prob(item,cat)\n",
      "                if probs[cat]>max:\n",
      "                    max=probs[cat]\n",
      "                    best=cat\n",
      "            # Make sure the probability exceeds threshold*next best\n",
      "            for cat in probs:\n",
      "                if cat==best: continue\n",
      "                if probs[cat]*self.getthreshold(best)>probs[best]: return default\n",
      "            return best"
     ],
     "language": "python",
     "metadata": {},
     "outputs": [],
     "prompt_number": 46
    },
    {
     "cell_type": "code",
     "collapsed": false,
     "input": [
      "cl=naivebayes(getwords)\n",
      "sampletrain(cl)\n",
      "print cl.prob('quick rabbit','good')\n",
      "print cl.prob('quick rabbit','bad')"
     ],
     "language": "python",
     "metadata": {},
     "outputs": [
      {
       "output_type": "stream",
       "stream": "stdout",
       "text": [
        "0.15625\n",
        "0.05\n"
       ]
      }
     ],
     "prompt_number": 47
    },
    {
     "cell_type": "code",
     "collapsed": false,
     "input": [
      "cl=naivebayes(getwords)\n",
      "sampletrain(cl)\n",
      "print cl.classify('quick rabbit',default='unknown')\n",
      "\n",
      "print cl.classify('quick money',default='unknown')\n",
      "\n",
      "cl.setthreshold('bad',3.0)\n",
      "print cl.classify('quick money',default='unknown')\n",
      "\n",
      "for i in range(10): sampletrain(cl)\n",
      "\n",
      "print cl.classify('quick money',default='unknown')"
     ],
     "language": "python",
     "metadata": {},
     "outputs": [
      {
       "output_type": "stream",
       "stream": "stdout",
       "text": [
        "good\n",
        "bad\n",
        "unknown\n",
        "bad\n"
       ]
      }
     ],
     "prompt_number": 49
    },
    {
     "cell_type": "heading",
     "level": 1,
     "metadata": {},
     "source": [
      "Part A"
     ]
    },
    {
     "cell_type": "heading",
     "level": 2,
     "metadata": {},
     "source": [
      "A1 - Training error"
     ]
    },
    {
     "cell_type": "markdown",
     "metadata": {},
     "source": [
      "We import the data from earlier"
     ]
    },
    {
     "cell_type": "code",
     "collapsed": false,
     "input": [
      "import csv\n",
      "import codecs\n",
      "import unicodedata\n",
      "import json\n",
      "import numpy as np"
     ],
     "language": "python",
     "metadata": {},
     "outputs": [],
     "prompt_number": 58
    },
    {
     "cell_type": "code",
     "collapsed": false,
     "input": [
      "fileObject = codecs.open('cleanhero.json','r','utf-8-sig')\n",
      "\n",
      "clean_heroes = json.load(fileObject)\n",
      "\n",
      "fileObject.close()\n",
      "\n",
      "fileObject = codecs.open('cleanvillain.json','r','utf-8-sig')\n",
      "\n",
      "clean_villains = json.load(fileObject)\n",
      "\n",
      "fileObject.close()\n",
      "fileObject = codecs.open('cleangekkos.json','r','utf-8-sig')\n",
      "\n",
      "clean_neutral = json.load(fileObject)\n",
      "\n",
      "fileObject.close()\n",
      "\n",
      "clean_neutral = dict()\n",
      "for hero in clean_heroes:\n",
      "    if hero in clean_villains:\n",
      "        clean_neutral[hero] = clean_heroes[hero]\n",
      "for hero in clean_neutral:\n",
      "    clean_heroes.pop(hero)\n",
      "    clean_villains.pop(hero)"
     ],
     "language": "python",
     "metadata": {},
     "outputs": [],
     "prompt_number": 52
    },
    {
     "cell_type": "markdown",
     "metadata": {},
     "source": [
      "We setup the BOW representation"
     ]
    },
    {
     "cell_type": "code",
     "collapsed": false,
     "input": [
      "##Setup VAD\n",
      "data_array = []\n",
      "with open('ANEW.csv','r') as csvfile:\n",
      "    reader = csv.reader(csvfile, delimiter=',',quotechar='|')\n",
      "    for row in reader:\n",
      "        data_array.append(row);\n",
      "print data_array[0]\n",
      "VAD = dict()\n",
      "for row in data_array[1:]:\n",
      "    word = row[1]\n",
      "    VAD[word] = [float(row[2])-5,float(row[5])-5,float(row[8])-5]\n",
      "\n",
      "##Setup Vectorizer\n",
      "from sklearn.feature_extraction.text import CountVectorizer\n",
      "vectorizer = CountVectorizer(min_df=1,vocabulary=VAD.keys())\n",
      "X = vectorizer.fit_transform(VAD.keys())\n",
      "analyse = vectorizer.build_analyzer()\n",
      "analyse('banner is a nice thing')"
     ],
     "language": "python",
     "metadata": {},
     "outputs": [
      {
       "output_type": "stream",
       "stream": "stdout",
       "text": [
        "['', 'Word', 'V.Mean.Sum', 'V.SD.Sum', 'V.Rat.Sum', 'A.Mean.Sum', 'A.SD.Sum', 'A.Rat.Sum', 'D.Mean.Sum', 'D.SD.Sum', 'D.Rat.Sum', 'V.Mean.M', 'V.SD.M', 'V.Rat.M', 'V.Mean.F', 'V.SD.F', 'V.Rat.F', 'A.Mean.M', 'A.SD.M', 'A.Rat.M', 'A.Mean.F', 'A.SD.F', 'A.Rat.F', 'D.Mean.M', 'D.SD.M', 'D.Rat.M', 'D.Mean.F', 'D.SD.F', 'D.Rat.F', 'V.Mean.Y', 'V.SD.Y', 'V.Rat.Y', 'V.Mean.O', 'V.SD.O', 'V.Rat.O', 'A.Mean.Y', 'A.SD.Y', 'A.Rat.Y', 'A.Mean.O', 'A.SD.O', 'A.Rat.O', 'D.Mean.Y', 'D.SD.Y', 'D.Rat.Y', 'D.Mean.O', 'D.SD.O', 'D.Rat.O', 'V.Mean.L', 'V.SD.L', 'V.Rat.L', 'V.Mean.H', 'V.SD.H', 'V.Rat.H', 'A.Mean.L', 'A.SD.L', 'A.Rat.L', 'A.Mean.H', 'A.SD.H', 'A.Rat.H', 'D.Mean.L', 'D.SD.L', 'D.Rat.L', 'D.Mean.H', 'D.SD.H', 'D.Rat.H']\n"
       ]
      },
      {
       "metadata": {},
       "output_type": "pyout",
       "prompt_number": 53,
       "text": [
        "[u'banner', u'is', u'nice', u'thing']"
       ]
      }
     ],
     "prompt_number": 53
    },
    {
     "cell_type": "code",
     "collapsed": false,
     "input": [
      "good_x_bow = vectorizer.transform(clean_heroes.values()).toarray()\n",
      "bad_x_bow = vectorizer.transform(clean_villains.values()).toarray()"
     ],
     "language": "python",
     "metadata": {},
     "outputs": [],
     "prompt_number": 54
    },
    {
     "cell_type": "code",
     "collapsed": false,
     "input": [
      "print len(good_x_bow)\n",
      "print len(bad_x_bow)\n",
      "x_bow = []\n",
      "names = []\n",
      "y_bow = []\n",
      "for i in range(0,len(good_x_bow)):\n",
      "    x_bow.append(good_x_bow[i])\n",
      "    names.append(clean_heroes.keys()[i])\n",
      "    y_bow.append('Good')\n",
      "for i in range(0,len(bad_x_bow)):\n",
      "    x_bow.append(bad_x_bow[i])\n",
      "    names.append(clean_villains.keys()[i])\n",
      "    y_bow.append('Bad')\n",
      "\n",
      "print len(x_bow)"
     ],
     "language": "python",
     "metadata": {},
     "outputs": [
      {
       "output_type": "stream",
       "stream": "stdout",
       "text": [
        "704\n",
        "960\n",
        "1664"
       ]
      },
      {
       "output_type": "stream",
       "stream": "stdout",
       "text": [
        "\n"
       ]
      }
     ],
     "prompt_number": 88
    },
    {
     "cell_type": "markdown",
     "metadata": {},
     "source": [
      "We now fit a decision tree to this"
     ]
    },
    {
     "cell_type": "code",
     "collapsed": false,
     "input": [
      "from sklearn import tree\n",
      "clf = tree.DecisionTreeClassifier()\n",
      "clf = clf.fit(x_bow, y_bow)"
     ],
     "language": "python",
     "metadata": {},
     "outputs": [],
     "prompt_number": 94
    },
    {
     "cell_type": "code",
     "collapsed": false,
     "input": [
      "y_hat=clf.predict(x_bow)"
     ],
     "language": "python",
     "metadata": {},
     "outputs": [],
     "prompt_number": 97
    },
    {
     "cell_type": "code",
     "collapsed": false,
     "input": [
      "failcount = 0.0\n",
      "for i in range(0,len(y_hat)):\n",
      "    if not(y_bow[i]==y_hat[i]):\n",
      "        failcount = failcount+1\n",
      "print failcount\n",
      "training_error = failcount/len(y_hat)\n",
      "print training_error"
     ],
     "language": "python",
     "metadata": {},
     "outputs": [
      {
       "output_type": "stream",
       "stream": "stdout",
       "text": [
        "1.0\n",
        "0.000600961538462\n"
       ]
      }
     ],
     "prompt_number": 100
    },
    {
     "cell_type": "heading",
     "level": 2,
     "metadata": {},
     "source": [
      "A2 - Test Error"
     ]
    },
    {
     "cell_type": "markdown",
     "metadata": {},
     "source": [
      "Definitions"
     ]
    },
    {
     "cell_type": "code",
     "collapsed": false,
     "input": [
      "T=3"
     ],
     "language": "python",
     "metadata": {},
     "outputs": [],
     "prompt_number": 101
    },
    {
     "cell_type": "code",
     "collapsed": false,
     "input": [
      "I=[]\n",
      "sizeT = len(x_bow)/T + 1\n",
      "for i in range(0,T):\n",
      "    to = (i+1)*sizeT\n",
      "    if to>len(x_bow): to=len(x_bow)\n",
      "    for j in range(i*sizeT,to):\n",
      "        I.append(i)\n",
      "I=np.array(I)\n",
      "print len(I)\n",
      "print len(x_bow)\n",
      "print len(np.array(x_bow)[I==0, :])\n",
      "print len(np.array(x_bow)[I==1, :])\n",
      "print len(np.array(x_bow)[I==2, :])\n",
      "print len(np.array(x_bow)[I!=2, :])\n",
      "print ''\n",
      "print 'y'\n",
      "print len(np.array(y_bow)[I==2])\n",
      "print len(np.array(y_bow)[I!=2])"
     ],
     "language": "python",
     "metadata": {},
     "outputs": [
      {
       "output_type": "stream",
       "stream": "stdout",
       "text": [
        "1664\n",
        "1664\n",
        "555"
       ]
      },
      {
       "output_type": "stream",
       "stream": "stdout",
       "text": [
        "\n",
        "555"
       ]
      },
      {
       "output_type": "stream",
       "stream": "stdout",
       "text": [
        "\n",
        "554"
       ]
      },
      {
       "output_type": "stream",
       "stream": "stdout",
       "text": [
        "\n",
        "1110"
       ]
      },
      {
       "output_type": "stream",
       "stream": "stdout",
       "text": [
        "\n",
        "\n",
        "y\n",
        "554\n",
        "1110\n"
       ]
      }
     ],
     "prompt_number": 184
    },
    {
     "cell_type": "code",
     "collapsed": false,
     "input": [
      "def CV(clf):\n",
      "    errors=0\n",
      "    predictions=0\n",
      "\n",
      "    #CV loop\n",
      "    for k in range(0,T):\n",
      "        ##Get sets\n",
      "        X_test = np.array(x_bow)[I==k, :]\n",
      "        X_train = np.array(x_bow)[I!=k, :]\n",
      "        Y_test = np.array(y_bow)[I==k]\n",
      "        Y_train = np.array(y_bow)[I!=k]\n",
      "\n",
      "        ##Train the decision tree\n",
      "        #clf = tree.DecisionTreeClassifier()\n",
      "        clf = clf.fit(X_train, Y_train)\n",
      "\n",
      "        ##Attempt prediction of the test set\n",
      "        Y_hat=clf.predict(X_test)\n",
      "\n",
      "        ##Increment error and prediction count values\n",
      "        for i in range(0,len(Y_hat)):\n",
      "            predictions = predictions + 1\n",
      "            if not(Y_hat[i]==Y_test[i]): errors = errors + 1\n",
      "    print errors\n",
      "    print predictions\n",
      "    print float(errors)/float(predictions)"
     ],
     "language": "python",
     "metadata": {},
     "outputs": [],
     "prompt_number": 191
    },
    {
     "cell_type": "code",
     "collapsed": false,
     "input": [
      "clf = tree.DecisionTreeClassifier()\n",
      "CV(clf)"
     ],
     "language": "python",
     "metadata": {},
     "outputs": [
      {
       "output_type": "stream",
       "stream": "stdout",
       "text": [
        "726\n",
        "1664\n",
        "0.436298076923\n"
       ]
      }
     ],
     "prompt_number": 192
    },
    {
     "cell_type": "heading",
     "level": 1,
     "metadata": {},
     "source": [
      "Part B"
     ]
    },
    {
     "cell_type": "heading",
     "level": 2,
     "metadata": {},
     "source": [
      "B1"
     ]
    },
    {
     "cell_type": "code",
     "collapsed": false,
     "input": [
      "def trainError(mss):\n",
      "    clf = tree.DecisionTreeClassifier(min_samples_split = mss,max_depth=20)\n",
      "    clf = clf.fit(x_bow, y_bow)\n",
      "    y_hat=clf.predict(x_bow)\n",
      "    failcount = 0.0\n",
      "    for i in range(0,len(y_hat)):\n",
      "        if not(y_bow[i]==y_hat[i]):\n",
      "            failcount = failcount+1\n",
      "\n",
      "    print mss        \n",
      "    print failcount\n",
      "    training_error = failcount/len(y_hat)\n",
      "    print training_error\n",
      "    print ''"
     ],
     "language": "python",
     "metadata": {},
     "outputs": [],
     "prompt_number": 222
    },
    {
     "cell_type": "code",
     "collapsed": false,
     "input": [
      "trainError(1)\n",
      "trainError(2)\n",
      "trainError(2*2)\n",
      "trainError(2*2*2)\n",
      "trainError(2*2*2*2)\n",
      "trainError(2*2*2*2*2)\n",
      "trainError(2*2*2*2*2*2)\n",
      "trainError(2*2*2*2*2*2*2)\n",
      "trainError(2*2*2*2*2*2*2*2)\n",
      "trainError(2*2*2*2*2*2*2*2*2)"
     ],
     "language": "python",
     "metadata": {},
     "outputs": [
      {
       "output_type": "stream",
       "stream": "stdout",
       "text": [
        "1\n",
        "4.0\n",
        "0.00240384615385\n",
        "\n",
        "2"
       ]
      },
      {
       "output_type": "stream",
       "stream": "stdout",
       "text": [
        "\n",
        "4.0\n",
        "0.00240384615385\n",
        "\n",
        "4"
       ]
      },
      {
       "output_type": "stream",
       "stream": "stdout",
       "text": [
        "\n",
        "12.0\n",
        "0.00721153846154\n",
        "\n",
        "8"
       ]
      },
      {
       "output_type": "stream",
       "stream": "stdout",
       "text": [
        "\n",
        "35.0\n",
        "0.0210336538462\n",
        "\n",
        "16"
       ]
      },
      {
       "output_type": "stream",
       "stream": "stdout",
       "text": [
        "\n",
        "61.0\n",
        "0.0366586538462\n",
        "\n",
        "32"
       ]
      },
      {
       "output_type": "stream",
       "stream": "stdout",
       "text": [
        "\n",
        "121.0\n",
        "0.0727163461538\n",
        "\n",
        "64"
       ]
      },
      {
       "output_type": "stream",
       "stream": "stdout",
       "text": [
        "\n",
        "178.0\n",
        "0.106971153846\n",
        "\n",
        "128"
       ]
      },
      {
       "output_type": "stream",
       "stream": "stdout",
       "text": [
        "\n",
        "238.0\n",
        "0.143028846154\n",
        "\n",
        "256"
       ]
      },
      {
       "output_type": "stream",
       "stream": "stdout",
       "text": [
        "\n",
        "285.0\n",
        "0.171274038462\n",
        "\n",
        "512"
       ]
      },
      {
       "output_type": "stream",
       "stream": "stdout",
       "text": [
        "\n",
        "378.0\n",
        "0.227163461538\n",
        "\n"
       ]
      }
     ],
     "prompt_number": 224
    },
    {
     "cell_type": "heading",
     "level": 2,
     "metadata": {},
     "source": [
      "B2 -"
     ]
    },
    {
     "cell_type": "code",
     "collapsed": false,
     "input": [
      "clf = tree.DecisionTreeClassifier(min_samples_split = 1,max_depth=20)\n",
      "CV(clf)"
     ],
     "language": "python",
     "metadata": {},
     "outputs": [
      {
       "output_type": "stream",
       "stream": "stdout",
       "text": [
        "687\n",
        "1664\n",
        "0.412860576923\n"
       ]
      }
     ],
     "prompt_number": 211
    },
    {
     "cell_type": "code",
     "collapsed": false,
     "input": [
      "clf = tree.DecisionTreeClassifier(min_samples_split = 2,max_depth=20)\n",
      "CV(clf)"
     ],
     "language": "python",
     "metadata": {},
     "outputs": [
      {
       "output_type": "stream",
       "stream": "stdout",
       "text": [
        "710\n",
        "1664\n",
        "0.426682692308\n"
       ]
      }
     ],
     "prompt_number": 212
    },
    {
     "cell_type": "code",
     "collapsed": false,
     "input": [
      "clf = tree.DecisionTreeClassifier(min_samples_split = 2*2,max_depth=20)\n",
      "CV(clf)"
     ],
     "language": "python",
     "metadata": {},
     "outputs": [
      {
       "output_type": "stream",
       "stream": "stdout",
       "text": [
        "681\n",
        "1664\n",
        "0.409254807692\n"
       ]
      }
     ],
     "prompt_number": 213
    },
    {
     "cell_type": "code",
     "collapsed": false,
     "input": [
      "clf = tree.DecisionTreeClassifier(min_samples_split = 2*2*2,max_depth=20)\n",
      "CV(clf)"
     ],
     "language": "python",
     "metadata": {},
     "outputs": [
      {
       "output_type": "stream",
       "stream": "stdout",
       "text": [
        "707\n",
        "1664\n",
        "0.424879807692\n"
       ]
      }
     ],
     "prompt_number": 214
    },
    {
     "cell_type": "code",
     "collapsed": false,
     "input": [
      "clf = tree.DecisionTreeClassifier(min_samples_split = 2*2*2*2,max_depth=20)\n",
      "CV(clf)"
     ],
     "language": "python",
     "metadata": {},
     "outputs": [
      {
       "output_type": "stream",
       "stream": "stdout",
       "text": [
        "709\n",
        "1664\n",
        "0.426081730769\n"
       ]
      }
     ],
     "prompt_number": 215
    },
    {
     "cell_type": "code",
     "collapsed": false,
     "input": [
      "clf = tree.DecisionTreeClassifier(min_samples_split = 2*2*2*2*2,max_depth=20)\n",
      "CV(clf)"
     ],
     "language": "python",
     "metadata": {},
     "outputs": [
      {
       "output_type": "stream",
       "stream": "stdout",
       "text": [
        "717\n",
        "1664\n",
        "0.430889423077\n"
       ]
      }
     ],
     "prompt_number": 216
    },
    {
     "cell_type": "code",
     "collapsed": false,
     "input": [
      "clf = tree.DecisionTreeClassifier(min_samples_split = 2*2*2*2*2*2,max_depth=20)\n",
      "CV(clf)"
     ],
     "language": "python",
     "metadata": {},
     "outputs": [
      {
       "output_type": "stream",
       "stream": "stdout",
       "text": [
        "682\n",
        "1664\n",
        "0.409855769231\n"
       ]
      }
     ],
     "prompt_number": 217
    },
    {
     "cell_type": "code",
     "collapsed": false,
     "input": [
      "clf = tree.DecisionTreeClassifier(min_samples_split = 2*2*2*2*2*2*2,max_depth=20)\n",
      "CV(clf)"
     ],
     "language": "python",
     "metadata": {},
     "outputs": [
      {
       "output_type": "stream",
       "stream": "stdout",
       "text": [
        "748\n",
        "1664\n",
        "0.449519230769\n"
       ]
      }
     ],
     "prompt_number": 218
    },
    {
     "cell_type": "code",
     "collapsed": false,
     "input": [
      "clf = tree.DecisionTreeClassifier(min_samples_split = 2*2*2*2*2*2*2*2,max_depth=20)\n",
      "CV(clf)"
     ],
     "language": "python",
     "metadata": {},
     "outputs": [
      {
       "output_type": "stream",
       "stream": "stdout",
       "text": [
        "730\n",
        "1664\n",
        "0.438701923077\n"
       ]
      }
     ],
     "prompt_number": 219
    },
    {
     "cell_type": "code",
     "collapsed": false,
     "input": [
      "clf = tree.DecisionTreeClassifier(min_samples_split = 2*2*2*2*2*2*2*2*2,max_depth=20)\n",
      "CV(clf)"
     ],
     "language": "python",
     "metadata": {},
     "outputs": [
      {
       "output_type": "stream",
       "stream": "stdout",
       "text": [
        "840\n",
        "1664\n",
        "0.504807692308\n"
       ]
      }
     ],
     "prompt_number": 220
    },
    {
     "cell_type": "heading",
     "level": 1,
     "metadata": {},
     "source": [
      "Part C - Bayes"
     ]
    },
    {
     "cell_type": "code",
     "collapsed": false,
     "input": [
      "def trainError(x_b,y_b,cl):\n",
      "    #clf = tree.DecisionTreeClassifier(min_samples_split = 2*2*2*2*2*2,max_depth=20)\n",
      "    cl = cl.fit(x_b, y_b)\n",
      "    y_hat=cl.predict(x_b)\n",
      "    failcount = 0.0\n",
      "    for i in range(0,len(y_hat)):\n",
      "        if not(y_b[i]==y_hat[i]):\n",
      "            failcount = failcount+1\n",
      "\n",
      "    print failcount\n",
      "    training_error = failcount/len(y_hat)\n",
      "    print training_error\n",
      "    print ''"
     ],
     "language": "python",
     "metadata": {},
     "outputs": [],
     "prompt_number": 230
    },
    {
     "cell_type": "code",
     "collapsed": false,
     "input": [
      "from sklearn.naive_bayes import GaussianNB\n",
      "clf = GaussianNB()\n",
      "trainError(x_bow,y_bow,clf)\n",
      "from sklearn.naive_bayes import MultinomialNB\n",
      "clf = MultinomialNB()\n",
      "trainError(x_bow,y_bow,clf)\n"
     ],
     "language": "python",
     "metadata": {},
     "outputs": [
      {
       "output_type": "stream",
       "stream": "stdout",
       "text": [
        "82.0\n",
        "0.0492788461538\n",
        "\n",
        "125.0"
       ]
      },
      {
       "output_type": "stream",
       "stream": "stdout",
       "text": [
        "\n",
        "0.0751201923077\n",
        "\n"
       ]
      }
     ],
     "prompt_number": 231
    },
    {
     "cell_type": "code",
     "collapsed": false,
     "input": [
      "def CV(clf,x_b,y_b):\n",
      "    errors=0\n",
      "    predictions=0\n",
      "\n",
      "    #CV loop\n",
      "    for k in range(0,T):\n",
      "        ##Get sets\n",
      "        X_test = np.array(x_b)[I==k, :]\n",
      "        X_train = np.array(x_b)[I!=k, :]\n",
      "        Y_test = np.array(y_b)[I==k]\n",
      "        Y_train = np.array(y_b)[I!=k]\n",
      "\n",
      "        ##Train the decision tree\n",
      "        #clf = tree.DecisionTreeClassifier()\n",
      "        clf = clf.fit(X_train, Y_train)\n",
      "\n",
      "        ##Attempt prediction of the test set\n",
      "        Y_hat=clf.predict(X_test)\n",
      "\n",
      "        ##Increment error and prediction count values\n",
      "        for i in range(0,len(Y_hat)):\n",
      "            predictions = predictions + 1\n",
      "            if not(Y_hat[i]==Y_test[i]): errors = errors + 1\n",
      "    print errors\n",
      "    print predictions\n",
      "    print float(errors)/float(predictions)"
     ],
     "language": "python",
     "metadata": {},
     "outputs": [],
     "prompt_number": 232
    },
    {
     "cell_type": "code",
     "collapsed": false,
     "input": [
      "clf = GaussianNB()\n",
      "CV(clf,x_bow,y_bow)\n",
      "print ''\n",
      "clf = MultinomialNB()\n",
      "CV(clf,x_bow,y_bow)"
     ],
     "language": "python",
     "metadata": {},
     "outputs": [
      {
       "output_type": "stream",
       "stream": "stdout",
       "text": [
        "1143\n",
        "1664\n",
        "0.686899038462\n",
        "\n",
        "568"
       ]
      },
      {
       "output_type": "stream",
       "stream": "stdout",
       "text": [
        "\n",
        "1664\n",
        "0.341346153846\n"
       ]
      }
     ],
     "prompt_number": 234
    },
    {
     "cell_type": "code",
     "collapsed": false,
     "input": [
      "Z=np.dot(x_bow,(np.array(VAD.values())+5))\n",
      "x_ANEW = np.transpose(np.transpose(Z)/np.sum(x_bow,1))"
     ],
     "language": "python",
     "metadata": {},
     "outputs": [],
     "prompt_number": 256
    },
    {
     "cell_type": "code",
     "collapsed": false,
     "input": [
      "clf = GaussianNB()\n",
      "CV(clf,x_ANEW,y_bow)\n",
      "print ''\n",
      "clf = MultinomialNB()\n",
      "CV(clf,x_ANEW,y_bow)"
     ],
     "language": "python",
     "metadata": {},
     "outputs": [
      {
       "output_type": "stream",
       "stream": "stdout",
       "text": [
        "997\n",
        "1664\n",
        "0.599158653846\n",
        "\n",
        "1389"
       ]
      },
      {
       "output_type": "stream",
       "stream": "stdout",
       "text": [
        "\n",
        "1664\n",
        "0.834735576923\n"
       ]
      }
     ],
     "prompt_number": 257
    },
    {
     "cell_type": "code",
     "collapsed": false,
     "input": [],
     "language": "python",
     "metadata": {},
     "outputs": [],
     "prompt_number": 253
    },
    {
     "cell_type": "code",
     "collapsed": false,
     "input": [],
     "language": "python",
     "metadata": {},
     "outputs": []
    }
   ],
   "metadata": {}
  }
 ]
}