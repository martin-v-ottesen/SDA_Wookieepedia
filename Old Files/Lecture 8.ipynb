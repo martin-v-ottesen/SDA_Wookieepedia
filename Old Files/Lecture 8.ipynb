{
 "metadata": {
  "name": "",
  "signature": "sha256:45277f9a5d1e249b63c2e104572cc15f1cc37151404740be1d9a8ff502486abe"
 },
 "nbformat": 3,
 "nbformat_minor": 0,
 "worksheets": [
  {
   "cells": [
    {
     "cell_type": "heading",
     "level": 1,
     "metadata": {},
     "source": [
      "Part A"
     ]
    },
    {
     "cell_type": "heading",
     "level": 2,
     "metadata": {},
     "source": [
      "A1"
     ]
    },
    {
     "cell_type": "code",
     "collapsed": false,
     "input": [
      "import csv\n",
      "import codecs\n",
      "import unicodedata\n",
      "import json\n",
      "import numpy as np"
     ],
     "language": "python",
     "metadata": {},
     "outputs": [],
     "prompt_number": 1
    },
    {
     "cell_type": "code",
     "collapsed": false,
     "input": [
      "fileObject = codecs.open('cleanhero.json','r','utf-8-sig')\n",
      "\n",
      "clean_heroes = json.load(fileObject)\n",
      "\n",
      "fileObject.close()\n",
      "\n",
      "fileObject = codecs.open('cleanvillain.json','r','utf-8-sig')\n",
      "\n",
      "clean_villains = json.load(fileObject)\n",
      "\n",
      "fileObject.close()\n",
      "fileObject = codecs.open('cleangekkos.json','r','utf-8-sig')\n",
      "\n",
      "clean_neutral = json.load(fileObject)\n",
      "\n",
      "fileObject.close()\n",
      "\n",
      "clean_neutral = dict()\n",
      "for hero in clean_heroes:\n",
      "    if hero in clean_villains:\n",
      "        clean_neutral[hero] = clean_heroes[hero]\n",
      "for hero in clean_neutral:\n",
      "    clean_heroes.pop(hero)\n",
      "    clean_villains.pop(hero)"
     ],
     "language": "python",
     "metadata": {},
     "outputs": [],
     "prompt_number": 216
    },
    {
     "cell_type": "markdown",
     "metadata": {},
     "source": [
      "In these dictionaries we have removed all stub pages and all weird characters leaving only a long string of words for each page"
     ]
    },
    {
     "cell_type": "code",
     "collapsed": false,
     "input": [
      "import re\n",
      "def clean_stupid_words(text):\n",
      "    string = \"\"\n",
      "    words = ['category','the','be','to','of','and','in','that','have','for','it','not','on','with','he','as','you','do','at','this','but','his','by','from','they','we','say','her','she','or','an']\n",
      "    \"\"\"\n",
      "    for s in re.split(' |the |be |to |of |and |in |that |have |for |it |not |on |with |he |as |you |do |at |this |but |his |by |from |they |we |say |her |she |or |an ',text.lower()):\n",
      "        singles = re.findall('.',s);\n",
      "        if (s != '' and s != ' '):\n",
      "            string += s+' '\n",
      "    \"\"\"\n",
      "    for w in text.lower().split(\" \"):\n",
      "        if not w in words:\n",
      "            string += w+\" \"\n",
      "    return string"
     ],
     "language": "python",
     "metadata": {},
     "outputs": [],
     "prompt_number": 227
    },
    {
     "cell_type": "code",
     "collapsed": false,
     "input": [
      "clean_stupid_words(clean_heroes.values()[0])"
     ],
     "language": "python",
     "metadata": {},
     "outputs": [
      {
       "metadata": {},
       "output_type": "pyout",
       "prompt_number": 228,
       "text": [
        "u'notability date march 2014 infobox comics character wikipedia wikiproject comics character name jolen image converted caption jolen art frazer irving real name jolen publisher marvel comics debut inhumans august 2003 creators sean mckeever matt clark comics matt clark alliances inhumans aliases powers ability control vegetation cat super subcat marvel comics hero sortkey jolen jolen is fictional character superhero marvel comics marvel universe universe is member inhumans was also part delegation sent earth fictional character biography no background history is known about jolen except is inhuman first appearance is seen passing through terrigen mist gaining superhuman abilities is then selected alongside number other youths sent earth sort foreign exchange program university wisconsin\\u2013madison adjusts quickly conditions earth appears trouble understanding nature peers often overreacting them issue date april 2013 after hearing one friends nahrees former love-interest has been captured mister chase quickly drives chicago where is being held prisoner jolen confronts mister chase hired hitman is shot head after bit scuffle jolen revives uses root murder hitman here jolen appears take darker moral path threatening killing several other people issue date april 2013 response report terrigen crystals new york city jolen is assembled team leads assault reported owner crystals during assault team is confronted fantastic four are quickly defeated fantastic four turned inhuman team over office national security one where were detained issue date april 2013 after being freed mala diviner dewoz retrieve terrigen crystals well capture holder crystals dr cartwrite having accomplished their mission return their moon base issue date april 2013 powers abilities due race is gifted number abilities addition normal human included these abilities is above-average lifespan 150 years average physical strength speed greater than peak-condition human athlete above-average reflexes above-average endurance after passing though terrigen mists is granted plant-related abilities among these are ability control plants mind grow plants linking them transform into plant himself is also able use plants means travel shrinking then traveling through plant root system is also sometimes shown recovering fatal wounds transforming into plant letting wound heal appearances likely incomplete list appearances credits included inhumans 2003 sean mckeever writer matthew clark penciler nelson inker tom brevoort marc sumerak editors inhumans ugust\\u2013november 2003 sean mckeever writer matthew clark penciler nelson inker marc sumerak editor inhumans ecember 2003-january 2004 sean mckeever writer robert teranishi penciler nelson inker marc sumerak editor inhumans april\\u2013may 2004 sean mckeever writer david ross penciler nelson scott elmer inkers marc sumerak editor inhumans ne 2004 sean mckeever writer david ross doug braithwaite pencilers nelson rodney ramos inkers marc sumerak editor inhumans ly 2004 sean mckeever writer david ross penciler rodney ramos inker marc sumerak editor son pril\\u2013may 2006 david hine writer roy allan martinez penciler inker tom brevoort editor silent war ch 2007 david hine writer frazer irving penciler inker stephen wacker editor silent war 2007 david hine writer frazer irving penciler inker stephen wacker editor uncomment when footnotes are added notes reflist references reflist external links http www marvunapp com appendix4 joleninhum htm jolen appendix handbook marvel universe comicbookdb type character id 11529 title jolen http www marvel com universe jolen jolen marvel universe http en marveldatabase com jolen jolen marvel database project inhumans comics characters introduced 2003 fictional shapeshifters inhumans fictional characters plant abilities marvel comics plant characters   '"
       ]
      }
     ],
     "prompt_number": 228
    },
    {
     "cell_type": "code",
     "collapsed": false,
     "input": [
      "for hero in clean_heroes:\n",
      "    clean_heroes[hero] = clean_stupid_words(clean_heroes[hero])"
     ],
     "language": "python",
     "metadata": {},
     "outputs": [],
     "prompt_number": 229
    },
    {
     "cell_type": "code",
     "collapsed": false,
     "input": [
      "for hero in clean_villains:\n",
      "    clean_villains[hero] = clean_stupid_words(clean_villains[hero])\n",
      "for hero in clean_neutral:\n",
      "    clean_neutral[hero] = clean_stupid_words(clean_neutral[hero])"
     ],
     "language": "python",
     "metadata": {},
     "outputs": [],
     "prompt_number": 230
    },
    {
     "cell_type": "code",
     "collapsed": false,
     "input": [
      "for hero in clean_heroes:\n",
      "    if 'ref ' in clean_heroes[hero]:\n",
      "        print 'DAAAAMN'\n",
      "for hero in clean_villains:\n",
      "    if 'ref ' in clean_villains[hero]:\n",
      "        print 'DAAAAMN'\n",
      "for hero in clean_neutral:\n",
      "    if 'ref ' in clean_neutral[hero]:\n",
      "        print 'DAAAAMN'"
     ],
     "language": "python",
     "metadata": {},
     "outputs": [
      {
       "output_type": "stream",
       "stream": "stdout",
       "text": [
        "DAAAAMN\n",
        "DAAAAMN\n",
        "DAAAAMN\n",
        "DAAAAMN"
       ]
      },
      {
       "output_type": "stream",
       "stream": "stdout",
       "text": [
        "\n"
       ]
      }
     ],
     "prompt_number": 55
    },
    {
     "cell_type": "code",
     "collapsed": false,
     "input": [
      "##Setup Vectorizer\n",
      "from sklearn.feature_extraction.text import CountVectorizer\n",
      "vectorizer = CountVectorizer(min_df=1)\n",
      "analyse = vectorizer.build_analyzer()\n",
      "analyse('banner is a nice thing')"
     ],
     "language": "python",
     "metadata": {},
     "outputs": [
      {
       "metadata": {},
       "output_type": "pyout",
       "prompt_number": 231,
       "text": [
        "[u'banner', u'is', u'nice', u'thing']"
       ]
      }
     ],
     "prompt_number": 231
    },
    {
     "cell_type": "code",
     "collapsed": false,
     "input": [
      "comb_dict = dict()\n",
      "for hero in clean_heroes:\n",
      "    comb_dict[hero] = clean_heroes[hero]\n",
      "for hero in clean_villains:\n",
      "    comb_dict[hero] =  clean_villains[hero]\n",
      "for hero in clean_neutral:\n",
      "    comb_dict[hero] =  clean_neutral[hero]"
     ],
     "language": "python",
     "metadata": {},
     "outputs": [],
     "prompt_number": 232
    },
    {
     "cell_type": "code",
     "collapsed": false,
     "input": [
      "X = vectorizer.fit_transform(comb_dict)"
     ],
     "language": "python",
     "metadata": {},
     "outputs": [],
     "prompt_number": 233
    },
    {
     "cell_type": "code",
     "collapsed": false,
     "input": [
      "comb_x_bow = vectorizer.transform(comb_dict.values()).toarray()"
     ],
     "language": "python",
     "metadata": {},
     "outputs": [],
     "prompt_number": 234
    },
    {
     "cell_type": "code",
     "collapsed": false,
     "input": [],
     "language": "python",
     "metadata": {},
     "outputs": [],
     "prompt_number": 174
    },
    {
     "cell_type": "code",
     "collapsed": false,
     "input": [
      "sumvec = sum(good_x_bow)\n",
      "maxi = max(sumvec)\n",
      "index = np.where(sumvec==maxi)[0][0]\n",
      "vectorizer.get_feature_names()[index]"
     ],
     "language": "python",
     "metadata": {},
     "outputs": [
      {
       "metadata": {},
       "output_type": "pyout",
       "prompt_number": 114,
       "text": [
        "u'the'"
       ]
      }
     ],
     "prompt_number": 114
    },
    {
     "cell_type": "code",
     "collapsed": false,
     "input": [
      "sumvec = sum(comb_x_bow)\n",
      "sumvec2 = sum(comb_x_bow)\n",
      "sumvec.sort()\n",
      "words = dict()\n",
      "print words\n",
      "for value in sumvec[-10:]:\n",
      "    words[( vectorizer.get_feature_names()[np.where(sumvec2==value)[0][0]] )]=value\n",
      "print words"
     ],
     "language": "python",
     "metadata": {},
     "outputs": [
      {
       "output_type": "stream",
       "stream": "stdout",
       "text": [
        "{}\n",
        "{u'comics': 38604, u'universe': 4784, u'men': 8628, u'character': 10625, u'spider': 9423, u'one': 5432, u'characters': 6980, u'new': 6843, u'marvel': 24610, u'man': 14910}\n"
       ]
      }
     ],
     "prompt_number": 235
    },
    {
     "cell_type": "code",
     "collapsed": false,
     "input": [
      "words"
     ],
     "language": "python",
     "metadata": {},
     "outputs": [
      {
       "metadata": {},
       "output_type": "pyout",
       "prompt_number": 236,
       "text": [
        "{u'character': 10625,\n",
        " u'characters': 6980,\n",
        " u'comics': 38604,\n",
        " u'man': 14910,\n",
        " u'marvel': 24610,\n",
        " u'men': 8628,\n",
        " u'new': 6843,\n",
        " u'one': 5432,\n",
        " u'spider': 9423,\n",
        " u'universe': 4784}"
       ]
      }
     ],
     "prompt_number": 236
    },
    {
     "cell_type": "code",
     "collapsed": false,
     "input": [],
     "language": "python",
     "metadata": {},
     "outputs": []
    }
   ],
   "metadata": {}
  }
 ]
}