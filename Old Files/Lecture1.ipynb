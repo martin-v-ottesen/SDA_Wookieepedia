{
 "metadata": {
  "name": "",
  "signature": "sha256:d5a994fab401e0211464b410ae495383128efa5657a4e85978d2b9306868fac1"
 },
 "nbformat": 3,
 "nbformat_minor": 0,
 "worksheets": [
  {
   "cells": [
    {
     "cell_type": "heading",
     "level": 1,
     "metadata": {},
     "source": [
      "Lecture 1"
     ]
    },
    {
     "cell_type": "heading",
     "level": 2,
     "metadata": {},
     "source": [
      "Part 1"
     ]
    },
    {
     "cell_type": "heading",
     "level": 3,
     "metadata": {},
     "source": [
      "Ex 1B"
     ]
    },
    {
     "cell_type": "markdown",
     "metadata": {},
     "source": [
      "A list with elements from 1 to 100"
     ]
    },
    {
     "cell_type": "code",
     "collapsed": false,
     "input": [
      "a = range(1,101)"
     ],
     "language": "python",
     "metadata": {},
     "outputs": [],
     "prompt_number": 1
    },
    {
     "cell_type": "markdown",
     "metadata": {},
     "source": [
      "We slice the array to get the elements from 42 to 79"
     ]
    },
    {
     "cell_type": "code",
     "collapsed": false,
     "input": [
      "b = a[41:79]"
     ],
     "language": "python",
     "metadata": {},
     "outputs": [],
     "prompt_number": 2
    },
    {
     "cell_type": "markdown",
     "metadata": {},
     "source": [
      "We now define a simple function using def"
     ]
    },
    {
     "cell_type": "code",
     "collapsed": false,
     "input": [
      "def f(x):\n",
      "    return x*x+2"
     ],
     "language": "python",
     "metadata": {},
     "outputs": [],
     "prompt_number": 3
    },
    {
     "cell_type": "markdown",
     "metadata": {},
     "source": [
      "We use this on each element of b in a for loop"
     ]
    },
    {
     "cell_type": "code",
     "collapsed": false,
     "input": [
      "for x in b:\n",
      "    f(x)"
     ],
     "language": "python",
     "metadata": {},
     "outputs": [],
     "prompt_number": 4
    },
    {
     "cell_type": "markdown",
     "metadata": {},
     "source": [
      "If we want to save this to a file we need a new file object"
     ]
    },
    {
     "cell_type": "code",
     "collapsed": false,
     "input": [
      "fileObject = open(\"Lect1.txt\",\"r+\")"
     ],
     "language": "python",
     "metadata": {},
     "outputs": [],
     "prompt_number": 5
    },
    {
     "cell_type": "markdown",
     "metadata": {},
     "source": [
      "We reuse the for loop from before to write the data this time and close the fileobject"
     ]
    },
    {
     "cell_type": "code",
     "collapsed": false,
     "input": [
      "for x in b:\n",
      "    fileObject.write(\"%i \\n\" %f(x))\n",
      "fileObject.close()"
     ],
     "language": "python",
     "metadata": {},
     "outputs": [],
     "prompt_number": 6
    },
    {
     "cell_type": "code",
     "collapsed": false,
     "input": [
      "x = \"There are %d types of people.\" % 10\n",
      "binary = \"binary\"\n",
      "do_not = \"don't\"\n",
      "y = \"Those who know %s and those who %s.\" % (binary, do_not)\n",
      "\n",
      "print x\n",
      "print y\n",
      "\n",
      "print \"I said: %r.\" % x\n",
      "print \"I also said: '%s'.\" % y\n",
      "\n",
      "hilarious = False\n",
      "joke_evaluation = \"Isn't that joke so funny?! %r\"\n",
      "\n",
      "print joke_evaluation % hilarious\n",
      "\n",
      "w = \"This is the left side of...\"\n",
      "e = \"a string with a right side.\"\n",
      "\n",
      "print w + e"
     ],
     "language": "python",
     "metadata": {},
     "outputs": [
      {
       "output_type": "stream",
       "stream": "stdout",
       "text": [
        "There are 10 types of people.\n",
        "Those who know binary and those who don't.\n",
        "I said: 'There are 10 types of people.'.\n",
        "I also said: 'Those who know binary and those who don't.'.\n",
        "Isn't that joke so funny?! False\n",
        "This is the left side of...a string with a right side.\n"
       ]
      }
     ],
     "prompt_number": 12
    },
    {
     "cell_type": "heading",
     "level": 2,
     "metadata": {},
     "source": [
      "Part 2"
     ]
    },
    {
     "cell_type": "heading",
     "level": 3,
     "metadata": {},
     "source": [
      "2a"
     ]
    },
    {
     "cell_type": "markdown",
     "metadata": {},
     "source": [
      "Wiki markup text test\n",
      "\n",
      "Link to main page on wiki\n",
      "\n",
      "    [[Main Page]]\n",
      "    \n",
      "Table with 4 elements\n",
      "\n",
      "    {| class=\"wikitable\"\n",
      "    |True Positive\n",
      "    |False Positive\n",
      "    |-\n",
      "    |False Negative\n",
      "    |True Negative\n",
      "    |}"
     ]
    },
    {
     "cell_type": "heading",
     "level": 2,
     "metadata": {},
     "source": [
      "2b Download of wiki page"
     ]
    },
    {
     "cell_type": "markdown",
     "metadata": {},
     "source": [
      "Download URL for the batman site\n",
      "\n",
      "http://en.wikipedia.org/w/api.php?format=json&action=query&titles=Batman&prop=revisions&rvprop=content\n",
      "\n",
      "format=json       : Self-explanatory\n",
      "\n",
      "action=query      : We are requesting data\n",
      "\n",
      "titles=Batman     : The title of the requested page is Batman\n",
      "\n",
      "prop=revisions    : We are looking for a revision of the page\n",
      "\n",
      "rvprop=content    : We are looking for the content of the revision"
     ]
    },
    {
     "cell_type": "markdown",
     "metadata": {},
     "source": [
      "We now attempt to download from python"
     ]
    },
    {
     "cell_type": "code",
     "collapsed": false,
     "input": [
      "import urllib2\n",
      "response = urllib2.urlopen('http://en.wikipedia.org/w/api.php?format=json&action=query&titles=Batman&prop=revisions&rvprop=content')\n",
      "html = response.read()"
     ],
     "language": "python",
     "metadata": {},
     "outputs": [],
     "prompt_number": 13
    },
    {
     "cell_type": "code",
     "collapsed": false,
     "input": [
      "fileObject2 = open(\"batman.txt\",\"r+\")\n",
      "fileObject2.write(html)\n",
      "fileObject2.close()"
     ],
     "language": "python",
     "metadata": {},
     "outputs": [],
     "prompt_number": 15
    },
    {
     "cell_type": "code",
     "collapsed": false,
     "input": [],
     "language": "python",
     "metadata": {},
     "outputs": []
    }
   ],
   "metadata": {}
  }
 ]
}