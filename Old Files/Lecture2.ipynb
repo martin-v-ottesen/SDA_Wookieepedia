{
 "metadata": {
  "name": "",
  "signature": "sha256:081e38051b0eee38d817265c4338d5e62bf8db9b0333d326f349108548c72c91"
 },
 "nbformat": 3,
 "nbformat_minor": 0,
 "worksheets": [
  {
   "cells": [
    {
     "cell_type": "heading",
     "level": 1,
     "metadata": {},
     "source": [
      "Lecture 2"
     ]
    },
    {
     "cell_type": "heading",
     "level": 2,
     "metadata": {},
     "source": [
      "Part A"
     ]
    },
    {
     "cell_type": "heading",
     "level": 3,
     "metadata": {},
     "source": [
      "Exercise A1"
     ]
    },
    {
     "cell_type": "markdown",
     "metadata": {},
     "source": [
      "We begin by importing the wiki catagory list"
     ]
    },
    {
     "cell_type": "code",
     "collapsed": false,
     "input": [
      "import urllib2\n",
      "response = urllib2.urlopen('http://en.wikipedia.org/w/api.php?format=json&action=query&list=categorymembers&cmtitle=Category:Marvel_Comics_superheroes')\n",
      "rawJson = response.read()\n",
      "print(rawJson)"
     ],
     "language": "python",
     "metadata": {},
     "outputs": [
      {
       "output_type": "stream",
       "stream": "stdout",
       "text": [
        "{\"query-continue\":{\"categorymembers\":{\"cmcontinue\":\"page|41485552412028434f4d49435329|8926815\"}},\"warnings\":{\"query\":{\"*\":\"Formatting of continuation data will be changing soon. To continue using the current formatting, use the 'rawcontinue' parameter. To begin using the new format, pass an empty string for 'continue' in the initial query.\"}},\"query\":{\"categorymembers\":[{\"pageid\":2388262,\"ns\":0,\"title\":\"Abigail Brand\"},{\"pageid\":707597,\"ns\":0,\"title\":\"Abyss (comics)\"},{\"pageid\":3265999,\"ns\":0,\"title\":\"Access (comics)\"},{\"pageid\":2994013,\"ns\":0,\"title\":\"Adam X the X-Treme\"},{\"pageid\":26201432,\"ns\":0,\"title\":\"Adept (comics)\"},{\"pageid\":3819553,\"ns\":0,\"title\":\"Aegis (comics)\"},{\"pageid\":2826664,\"ns\":0,\"title\":\"Agamotto\"},{\"pageid\":5026758,\"ns\":0,\"title\":\"Agent (comics)\"},{\"pageid\":407707,\"ns\":0,\"title\":\"Agent X (Marvel Comics)\"},{\"pageid\":5181968,\"ns\":0,\"title\":\"El Aguila\"}]}}\n"
       ]
      }
     ],
     "prompt_number": 1
    },
    {
     "cell_type": "markdown",
     "metadata": {},
     "source": [
      "The json file is then loaded and the list of members extracted"
     ]
    },
    {
     "cell_type": "code",
     "collapsed": false,
     "input": [
      "import json\n",
      "data = json.loads(rawJson)\n",
      "data = data['query']['categorymembers']\n"
     ],
     "language": "python",
     "metadata": {},
     "outputs": [],
     "prompt_number": 2
    },
    {
     "cell_type": "markdown",
     "metadata": {},
     "source": [
      "We print the titles of the members"
     ]
    },
    {
     "cell_type": "code",
     "collapsed": false,
     "input": [
      "for p in data:\n",
      "    print p['title']"
     ],
     "language": "python",
     "metadata": {},
     "outputs": [
      {
       "output_type": "stream",
       "stream": "stdout",
       "text": [
        "Abigail Brand\n",
        "Abyss (comics)\n",
        "Access (comics)\n",
        "Adam X the X-Treme\n",
        "Adept (comics)\n",
        "Aegis (comics)\n",
        "Agamotto\n",
        "Agent (comics)\n",
        "Agent X (Marvel Comics)\n",
        "El Aguila\n"
       ]
      }
     ],
     "prompt_number": 3
    },
    {
     "cell_type": "markdown",
     "metadata": {},
     "source": [
      "We repeat the previous with continue to get all the members"
     ]
    },
    {
     "cell_type": "code",
     "collapsed": false,
     "input": [
      "rawJson = 'cmcontinue'\n",
      "lastPID = ''\n",
      "resArray = []\n",
      "resDict = dict()\n",
      "#while True:\n",
      "#    response = urllib2.urlopen('http://en.wikipedia.org/w/api.php?format=json&action=query&list=categorymembers&cmtitle=Category:Marvel_Comics_superheroes&cmlimit=max&cmcontinue='+str(lastPID))\n",
      "#    rawJson = response.read()\n",
      "#    resDict = json.loads(rawJson)\n",
      "#    resArray.append(resDict)\n",
      "#    if 'cmcontinue' in rawJson:\n",
      "#        lastPID = resDict['query-continue']['categorymembers']['cmcontinue']\n",
      "#    else:\n",
      "#        break\n",
      "#print(resArray)\n",
      "import requests\n",
      "\n",
      "def query(request):\n",
      "    request['action'] = 'query'\n",
      "    request['format'] = 'json'\n",
      "    lastContinue = {'continue': ''}\n",
      "    while True:\n",
      "        req = request.copy()\n",
      "        req.update(lastContinue)\n",
      "        result = requests.get('http://en.wikipedia.org/w/api.php',params=req).json()\n",
      "        if 'query' in result: yield result['query']\n",
      "        if 'continue' not in result: break\n",
      "        lastContinue = result['continue']\n",
      "\n",
      "#titles = ('|' .join(titleList[0:100]))\n",
      "#ids = ('|' .join(pageidList[0:800]))\n",
      "content = []\n",
      "#for tit in titleList[500:510]:\n",
      "for result in query({'list':'categorymembers','cmtitle':'Category:Marvel_Comics_superheroes'}):\n",
      "    content.append(result)"
     ],
     "language": "python",
     "metadata": {},
     "outputs": [],
     "prompt_number": 2
    },
    {
     "cell_type": "markdown",
     "metadata": {},
     "source": [
      "We extract the titles"
     ]
    },
    {
     "cell_type": "code",
     "collapsed": false,
     "input": [
      "#print(resDict.keys())\n",
      "#print(resDict['query'].keys())\n",
      "#dataList = resDict['query']['categorymembers']\n",
      "#print(dataList[0].keys())\n",
      "pageidList = []\n",
      "titleList = []\n",
      "p=0\n",
      "for a in content:\n",
      "    dataList = a['categorymembers']\n",
      "    for d in dataList:\n",
      "        p=p+1\n",
      "        pageidList.append(str(d['pageid']))\n",
      "        titleList.append(d['title'])\n",
      "print(p)\n",
      "print(titleList)\n",
      "print content[0]['categorymembers'][0]"
     ],
     "language": "python",
     "metadata": {},
     "outputs": [
      {
       "output_type": "stream",
       "stream": "stdout",
       "text": [
        "922\n",
        "[u'Abigail Brand', u'Abyss (comics)', u'Access (comics)', u'Adam X the X-Treme', u'Adept (comics)', u'Aegis (comics)', u'Agamotto', u'Agent (comics)', u'Agent X (Marvel Comics)', u'El Aguila', u'Ahura (comics)', u'Air-Walker', u'Ajak', u'Ajax (comics)', u'Akasha (comics)', u'Albert (comics)', u'Aleta Ogord', u'Alice Nugent', u'Alpha (Marvel Comics)', u'Alpha the Ultimate Mutant', u'American Ace', u'American Dream (comics)', u'American Eagle (Marvel Comics)', u'Americop', u'Aminedi', u'Amphibian (comics)', u'Amphibion', u'Anachronism (comics)', u'Andromeda (Marvel Comics)', u'Angel (Thomas Halloway)', u'Angel Dust (comics)', u'Angela (comics)', u'Dirk Anger', u'Annex (comics)', u'Anole (comics)', u'Ant-Man (Scott Lang)', u'Ape-X', u'Apex (comics)', u'Arabian Knight (comics)', u'Aragorn (comics)', u'Anya Corazon', u'Arcanna', u'Archer (Marvel Comics)', u'Ares (Marvel Comics)', u'Ariel (comics)', u'Arkon', u'Armageddon (Marvel Comics)', u'Armor (comics)', u'Armory (comics)', u'Arnold Roth (Captain America)', u'Astra (comics)', u'Astra (Imperial Guard)', u'Vance Astrovik', u'Atalanta (Pantheon)', u'Athena (Marvel Comics)', u'Auric (comics)', u'Aurora (comics)', u'Backhand (comics)', u'Balder (comics)', u'Banshee (comics)', u'Rikki Barnes', u'Battering Ram (comics)', u'Battlestar (comics)', u'Batwing (Marvel Comics)', u'Baymax', u'Beast (comics)', u'Bedlam (comics)', u'Beetle (comics)', u'Bengal (comics)', u'Bereet', u'Beta Ray Bill', u'Big Bertha (comics)', u'Bird-Brain', u'Bishop (comics)', u'Black Bolt', u'Black Cat (comics)', u'Black Crow (comics)', u'Black Fox (comics)', u'Black Jack Tarr', u'Black Knight (comics)', u'Black Knight (Dane Whitman)', u'Black Knight (Sir Percy)', u'Black Marvel', u'Black Panther (comics)', u'Black Rider (comics)', u'Black Widow (Claire Voyant)', u'Black Widow (Marvel Comics)', u'Black Widow (Natalia Romanova)', u'Scorpion (Carmilla Black)', u'Kiwi Black', u'Blacklight (MC2)', u'Blackthorn (comics)', u'Blackwulf', u'Blade (comics)', u'Blaquesmith', u'Blazing Skull', u'Blindfold (comics)', u'Bling (comics)', u'Blink (comics)', u'Blizzard (comics)', u'Bloke (comics)', u'Blonde Phantom', u'Bloodhawk', u'Cullen Bloodstone', u'Elsa Bloodstone', u'Ulysses Bloodstone', u'Blue Blade', u'Blue Diamond (comics)', u'Blue Eagle (comics)', u'Blue Ear (comics)', u'Blue Marvel (Marvel Comics)', u'Blue Shield (comics)', u'Blue Streak (comics)', u'Bob Diamond (comics)', u'Bob, Agent of Hydra', u'Barnell Bohusk', u'Box (comics)', u'Chris Bradley', u'Isaiah Bradley', u'Breeze Barton', u'G. W. Bridge', u'Eddie Brock', u'Broo (comics)', u'Brother Voodoo', u'Bucky', u'Bug (comics)', u'Dmitri Bukharin', u'Butterball (Emery Schaub)', u'Buzz (comics)', u'Cable (comics)', u'Luke Cage', u'Caiera', u'Caliban (comics)', u'Callisto (comics)', u'Cammi', u'Cannonball (comics)', u'Captain (comics)', u'Captain America', u'List of incarnations of Captain America', u'Captain Britain', u'Captain Marvel (Marvel Comics)', u'Captain Midlands', u'Captain Ultra', u'Captain Universe', u'Cardiac (comics)', u'Cardinal (comics)', u'Caretaker (comics)', u'Joanna Cargill', u'John Carik', u'Julia Carpenter', u'Century (comics)', u'Cerebra', u'Cerise (comics)', u\"Ch'od\", u'Challenger (comics)', u'Chamber (comics)', u'Chance (comics)', u'Charcoal (comics)', u'Charlie-27', u'Lila Cheney', u'Amadeus Cho', u'Cipher (comics)', u'Cipher (newuniversal)', u'Circuit Breaker (Transformers)', u'Citizen V', u'Cloak and Dagger (comics)', u'Cloud 9 (comics)', u'Coal Tiger', u'Coldblood', u'White Tiger (Kasper Cole)', u'Collective Man', u'Rusty Collins', u'Colossus (comics)', u'Comet Man', u'Conan (Marvel Comics)', u'Constrictor (comics)', u'Copycat (Marvel Comics)', u'Corsair (comics)', u'Tom Corsi', u'Crimson Curse', u'Crimson Dynamo', u'Crippler (comics)', u'Crusader (Marvel Comics)', u'Crusaders (Marvel Comics)', u'Crystal (comics)', u'Cybermancer', u'Cyclops (comics)', u'Cypher (comics)', u'Carol Danvers', u'Daredevil (Marvel Comics)', u'Dark Angel (Marvel Comics)', u'Darkdevil', u'Darkhawk', u'Darkstar (comics)', u'Darwin (comics)', u'David Sum', u'Dazzler', u'Valentina Allegra de Fontaine', u'Dead Girl', u'Deadalus (comics)', u'Deadpool', u'Karolina Dean', u'Death Locket', u\"Death's Head\", u'Deathcry', u'Deathlok', u'Debrii', u'White Tiger (Angela Del Toro)', u'Delphyne Gorgon', u'Demolition Man (comics)', u'Destroyer (Keen Marlow)', u'Detroit Steel', u'Devil Dinosaur', u'Devil-Slayer', u'Diamond (comics)', u'Diamond Lil (comics)', u'Diamondback (comics)', u'Die-Cut (comics)', u'Digitek (comics)', u'Doctor Druid', u'Doctor Nemesis', u'Domino (comics)', u'Doom 2099', u'Doop (comics)', u'Dragon Lord (comics)', u'Frank Drake (comics)', u'Drax the Destroyer', u'Daniel Drumm', u'Dum Dum Dugan', u'Dusk (comics)', u'Dust (comics)', u'Earth Lord', u'Ebon Samurai', u'Echo (Marvel Comics)', u'Ethan Edwards', u'El Guapo (comics)', u'Electron (comics)', u'Elektro (comics)', u'Elixir (comics)', u'Elsie-Dee', u'Elysius', u'Empath (comics)', u'Enigma (Marvel Comics)', u'Equinox (comics)', u'Erg (comics)', u'Ezekiel (comics)', u'Falcon (comics)', u'Fandral', u'Fang (comics)', u'Fantomex', u'Feral (comics)', u'Feron', u'Eden Fesi', u'Fin (comics)', u'Fin Fang Foom', u'Finesse (comics)', u'Firebird (Marvel Comics)', u'Firelord (comics)', u'Firestar', u'Fixer (comics)', u'Fixx', u'Jack Flag', u'Flashfire (comics)', u'Flatman (comics)', u'Flex (comics)', u'Flyer (New-Gen)', u'Forbush Man', u'Force (comics)', u'Tucker Ford', u'Forge (comics)', u'Forgotten One (comics)', u'Dominic Fortune', u'Bill Foster (comics)', u'Goliath (Tom Foster)', u\"Frankenstein's Monster (Marvel Comics)\", u'Freakshow (comics)', u'Fredzilla', u'Free Spirit (comics)', u'Freedom Ring', u\"Freedom's Five\", u'Sharon Friedlander', u'Frog-Man', u'Emma Frost', u'Nick Fury', u'Futurist (comics)', u'G-Type', u'Gabriel (New-Gen)', u'Gabriel the Devil Hunter', u'Gaia (Marvel Comics)', u'Gambit (comics)', u'Gamora', u'Gargoyle (comics)', u'Delroy Garrett', u'Gateway (comics)', u'Gauntlet (comics)', u'Gazelle (New-Gen)', u'Geiger (comics)', u'Geldoff', u'Genis-Vell', u'Gentle (comics)', u'Ghost (Marvel Comics)', u'Ghost Rider (comics)', u'Ghost Rider (Danny Ketch)', u'Ghost Rider (Johnny Blaze)', u'Ghost Rider 2099', u'Ghoul (Ultraverse)', u'Gladiatrix (comics)', u'GoGo Tomago', u'Golden Archer', u'Golden Girl', u'Googam', u'Gorgon (Inhuman)', u'Gorilla Girl', u'Gorilla-Man', u'Grace (Marvel Comics)', u'Grand Director', u'Grasshopper (comics)', u'Gravity (comics)', u'Graymalkin', u'Green Goblin', u'Gremlin (comics)', u'Jean Grey', u'Nate Grey', u'Groot', u'Guardian (Marvel Comics)', u'Guardsman (comics)', u'Caleb Hammer', u'Hardball (comics)', u'Felicity Hardy', u'Hauptmann Deutschland', u'Havok (comics)', u'Hawkeye (comics)', u'Hawkeye (Kate Bishop)', u'Molly Hayes', u'Haywire (comics)', u'Hazmat (comics)', u'Hector (Marvel Comics)', u'Helix (Marvel Comics)', u'Hellion', u'Daimon Hellstrom', u'Hepzibah (comics)', u'Hercules (Marvel Comics)', u'Hindsight (comics)', u'Hiro Takachiho', u'Hiroim', u'Hit-Monkey', u'Hobgoblin (Imperial Guard)', u'Hogun', u'Holocaust (comics)', u'Honey Lemon', u'Hornet (comics)', u'Hrimhari', u'Heather Hudson (Exiles)', u'Hulk 2099', u'Hulk (comics)', u'Hulkling', u'Human Fly (comics)', u'Human Top (Bruce Bravelle)', u'Human Top (David Mitchell)', u'Human Torch', u'Human Torch (android)', u'Humbug (comics)', u'Hummingbird (comics)', u'Amber Hunt (comics)', u'Henrietta Hunter', u'Husk (comics)', u'Hussar (comics)', u'Hybrid (Scott Washington)', u'Hyperion (comics)', u'Iceman (comics)', u'Ikaris', u'Illusion (comics)', u'Indra (comics)', u'Inertia (Marvel Comics)', u'Ink (comics)', u'Shola Inkosi', u'Invisible Woman', u'Iron Fist (comics)', u'Iron Lad', u'Iron Man', u'List of Marvel Comics characters named Iron Man', u'Iron Man 2020', u'Ultimate Iron Man (comics)', u'Iron Patriot', u'It! The Living Colossus', u'J2 (comics)', u'Jack Frost (Marvel Comics)', u'Jack of Hearts', u'Jackpot (comics)', u'Jade Dragon', u'John Jameson (comics)', u'Jarella', u'Jazinda', u'Madison Jeffries', u'Abner Jenkins', u'Jocasta (comics)', u'John the Skrull', u'Daisy Johnson', u'Jolen (comics)', u'Jolt (comics)', u'Charlotte Jones (comics)', u'Jessica Jones', u'Joseph (comics)', u'Josiah X', u'Erik Josten', u'Joystick (comics)', u'Jubilee (comics)', u'Juggernaut (comics)', u'Junior Juniper', u'Junkpile', u'Junta (comics)', u'Justice (New Universe)', u'Juston Seyfert', u'Elloe Kaifi', u'Kaine', u'Jennifer Kale', u'Garrison Kane', u'Karma (comics)', u'Karnak (comics)', u'Kestrel (Marvel Comics)', u'Kid Colt', u'Killpower', u'Killraven', u'Hannibal King', u'Kismet (Marvel Comics)', u'Misty Knight', u'Komodo (comics)', u'Korg (comics)', u'Korvus', u'Kraven the Hunter (Alyosha Kravinoff)', u'Krugarr', u'Kylun', u'Lacuna (comics)', u'Lady Mastermind', u'Ladyhawk (comics)', u'Cassandra Lang', u'Leech (comics)', u'Magnus Lehnsherr', u'Lifeguard (comics)', u'Janice Lincoln', u'Lionheart (comics)', u'Living Brain', u'Living Lightning', u'Loa (comics)', u'Lockheed (comics)', u'Lockjaw (comics)', u'Raza Longknife', u'Longshot', u'Nancy Lu', u'La Lunatica', u'Lyja', u'M (comics)', u'Jeffrey Mace', u'Machine Man', u'Machine Teen', u'Al MacKenzie', u'Jamie Madrox', u'Maggott', u'Magician (comics)', u'Magik (comics)', u'Magique', u'Magma (comics)', u'Magneto (comics)', u'Mahr Vehl', u'Major Mapleleaf', u'Makkari (comics)', u'Man-Thing', u'Victor Mancha', u'Manikin (comics)', u'Manta (comics)', u'Mantis (Marvel Comics)', u'Mariko Yashida', u'Mark Hazzard: Merc', u'Marrow (comics)', u'Martinex', u'Marvel Boy', u'Marvel Boy (Robert Grayson)', u\"Captain Marvel (Khn'nr)\", u'Master Izo', u'Master Mind Excello', u'Match (Marvel Comics)', u'Mayhem (comics)', u'Medusa (comics)', u'Mentor (Imperial Guard)', u'Mercury (Marvel Comics)', u'Merlyn (Marvel Comics)', u'Mettle (comics)', u'Micromax', u'Midnight Sun (Marvel Comics)', u'Miek', u'Mimic (comics)', u'Minotaur (New-Gen)', u'Nico Minoru', u'Miss America (Marvel Comics)', u'Mister Fantastic', u'Mister Immortal', u'Mister Sensitive', u'Mockingbird (Marvel Comics)', u'Modred the Mystic', u'Mondo (comics)', u'Moon Knight', u'Moon-Boy', u'Moondragon', u'Moonglow (comics)', u'Danielle Moonstar', u'Moonstone (comics)', u'Morbius, the Living Vampire', u'Morningstar (comics)', u'Motormouth (comics)', u'Ms. Marvel', u'Ms. Marvel (Kamala Khan)', u'Murmur (Marvel Comics)', u'Mystique (comics)', u\"N'Kantu, the Living Mummy\", u'Nahrees', u'Namor', u'Namora', u'Namorita', u'Nara (comics)', u'Nemesis (Alpha Flight)', u'Lilandra Neramani', u'Network (comics)', u'Neutron (Marvel Comics)', u'Night Thrasher (Dwayne Taylor)', u'Nightcrawler (comics)', u'Nighthawk (Marvel Comics)', u'Nightmask', u'Nightside (comics)', u'Nightwatch (comics)', u'Nikki (comics)', u'Nocturne (Talia Wagner)', u'Noh-Varr', u'Nomad (comics)', u'Dakota North (comics)', u'David North (comics)', u'Northstar', u'Nova (Frankie Raye)', u'Nova (Richard Rider)', u'Nova (Sam Alexander)', u'Nuke (Squadron Supreme)', u'Nuklo', u\"Eric O'Grady\", u'Ogre (comics)', u'Old Lace (comics)', u'Omega the Unknown', u'Onyxx', u'Oracle (Marvel Comics)', u'Harry Osborn', u\"Solomon O'Sullivan\", u'Outlaw (comics)', u'Outlaw Kid', u'Oya (comics)', u'Paladin (comics)', u'Paragon (comics)', u'Patriot (comics)', u'Paydirt (Marvel Comics)', u'Penance (X-Men)', u'Peregrine (comics)', u'Perun (comics)', u'Petra (comics)', u'Phantom Eagle', u'Phantom Rider', u'Phaser (comics)', u'Phobos (Marvel Comics)', u'Phoenix Force (comics)', u'Phoenix (Guardians of the Galaxy)', u'Phone Ranger', u'Phyla-Vell', u'Pinky Pinkerton', u'Pip the Troll', u'Pipeline (comics)', u'Pixie (X-Men)', u'Pixx', u'Poison (comics)', u'Polaris (comics)', u'Portal (comics)', u'Pepper Potts', u'Power Man (Victor Alvarez)', u'Power Princess', u'Alex Power', u'Jack Power', u'Julie Power', u'Katie Power', u'Powerhouse (comics)', u'Klara Prast', u'Pretty Persuasions', u'Preview (comics)', u'Primal (comics)', u'Prime (comics)', u'Prodigy (David Alleyne)', u'Prodigy (Ritchie Gilmore)', u'Protector (Marvel Comics)', u'Paulie Provenzano', u'Prowler (comics)', u'Kitty Pryde', u'Psylocke', u'Puck (comics)', u'Pulsar (Marvel Comics)', u'Pulse (Augustus)', u'Puma (comics)', u'Punisher 2099', u'Hank Pym', u'Quagmire (comics)', u'Quasar (comics)', u'Quasar (Wendell Vaughn)', u'Quicksilver (comics)', u'Quentin Quire', u'Rachel van Helsing', u'Radian (Morituri)', u'Radioactive Man (comics)', u'Radius (comics)', u'Rage (comics)', u'Tamara Rahn', u'Monica Rambeau', u'Random (comics)', u'Raptor (Marvel Comics)', u'Ravage 2099', u'Rawhide Kid', u'Razorback (comics)', u'Red Guardian', u'Red Lotus (comics)', u'Red Nine', u'Red Sonja', u'Red Wolf (comics)', u'Redneck (comics)', u'Ben Reilly', u'Replica (comics)', u'Reptil', u'Revanche', u'Revolutionary (comics)', u'Franklin Richards', u'Ricochet (comics)', u'Rictor', u'Rintrah (comics)', u'Dallas Riordan', u'Risque (comics)', u'Robbie Baldwin', u'Roboduck', u'Rocket Raccoon', u'Rocket Racer', u'Rockslide (comics)', u'Rogue (comics)', u'Rom (comics)', u'Roma (comics)', u'Ronin (Marvel Comics)', u'Thunderbolt Ross', u'Ruby Summers', u'Sabra (comics)', u'Sabretooth (comics)', u'Sage (comics)', u'Saint Anna (comics)', u'Saint Elmo (comics)', u'Angel Salvadore', u'Doc Samson', u'Sandman (Marvel Comics)', u'Sasquatch (comics)', u'Satana (Marvel Comics)', u'Savage Steel', u'Happy Sam Sawyer', u'Scaredycat', u'Scarlet Scarab', u'Scarlet Spider', u'Scarlet Witch', u'Scatterbrain (Morituri)', u'Scorpio (comics)', u'Sean and Chris', u'Amanda Sefton', u'Sentry (comics)', u'Sentry (Curtis Elkins)', u'Sentry (Robert Reynolds)', u'Sepulchre (comics)', u'Sequoia (comics)', u'Sersi', u'Shaman (comics)', u'Shamrock (comics)', u'Shang-Chi', u'Shanna the She-Devil', u'Karima Shapandar', u'Shard (comics)', u'Shatterstar', u'She-Hulk', u'She-Hulk (Lyra)', u'She-Venom', u'She-Venom (Patricia Robertson)', u'Shear (comics)', u'Lotus Shinchuko', u'Shiver Man', u'Shooting Star (comics)', u'Shriker', u'Shroud (comics)', u'Siege (John Kelly)', u'Sif (comics)', u'Silencer (comics)', u'Silhouette (comics)', u'Silk (comics)', u'Silver Fox (comics)', u'Silver Sable', u'Silver Samurai', u'Silver Surfer', u'Silverclaw', u'Siryn', u'Skaar', u'Skids (comics)', u'Skin (Marvel Comics)', u'Skrullian Skymaster', u'Skull the Slayer', u'Skullfire', u'Skyhawk (comics)', u'Slapstick (comics)', u'Sleepwalker (comics)', u'Slipstream (comics)', u'Marrina Smallwood', u'Smasher', u'Tabitha Smith', u'Smuggler (comics)', u'Snapdragon (Morituri)', u'Dinah Soar', u'Solarman', u'Solo (Marvel Comics)', u'Songbird (comics)', u'Sophia \"Chat\" Sanduval', u'Southpaw (comics)', u'Doctor Spectrum', u'Speed (comics)', u'Speed Demon (comics)', u'Spellbinder (Marvel Comics)', u'Spider-Girl', u'Spider-Man', u'Spider-Man (Miles Morales)', u'Spider-Man (Gerry Drew)', u'Spider-Man 2099', u'Spider-Man 2211', u'Spider-Man: India', u'Spider-Woman', u'Spider-Woman (Jessica Drew)', u'Spider-Woman (Mattie Franklin)', u'Spike (Marvel Comics)', u'Spinner (Marvel Comics)', u'Spiral (comics)', u\"Spirit of '76 (Marvel Comics)\", u'Spitfire (New Universe)', u'Spyke', u'Squirrel Girl', u'Stacy X', u'Stained Glass Scarlet', u'Star Brand', u'Starbrand (newuniversal)', u'Star-Lord', u'Starbolt', u'Starfox (comics)', u'Starhawk (comics)', u'Starlight (comics)', u'Starr the Slayer', u'Starshine (comics)', u'Steel Spider', u'Chase Stein', u'Stellaris', u'Stepford Cuckoos', u'Stingray (comics)', u'Storm (Marvel Comics)', u'Doctor Strange', u'Andreas von Strucker', u'Stunt-Master (comics)', u'Hope Summers (comics)', u'Rachel Summers', u'Sun Girl (Marvel Comics)', u'Lin Sun', u'Sunder (comics)', u'Sundragon', u'Sunfire (comics)', u'Sunpyre', u'Sunspot (comics)', u'Super Rabbit', u'Surge (comics)', u'Svarog (comics)', u'Sway (comics)', u'Swordsman (comics)', u'Kevin Sydney', u'Tag (comics)', u'Talisman (Alpha Flight)', u'Talon (Marvel Comics)', u'Tangerine (comics)', u'Tarantula (Marvel Comics)', u'Tattoo (comics)', u'Donyell Taylor', u'Telemetry (comics)', u'Terror Inc.', u'Texas Twister', u'Thea (New-Gen)', u'Thena', u'Thin Man (comics)', u'Thing (comics)', u'Flash Thompson', u'Thor (Marvel Comics)', u'Thor Girl', u'Thornn', u'Thunderbird (comics)', u'Thunderbird (Neal Shaara)', u'Thunderbolt (Marvel Comics)', u'Thunderclap (comics)', u'Thunderstrike (Eric Masterson)', u'Thunderstrike (Kevin Masterson)', u'Thundra', u'Tigra', u'Timeslip (comics)', u'Titan (Imperial Guard)', u'Tom Thumb (comics)', u'Tommy (comics)', u'Topaz (Marvel Comics)', u'Toro (comics)', u'Torpedo (Marvel Comics)', u'Toxin (comics)', u'Toxyn', u'Trance (comics)', u'Transonic (comics)', u'Trauma (comics)', u'Triton (comics)', u'Turbo (comics)', u'Two-Gun Kid', u'Typeface (comics)', u'U-Go Girl', u'U.S. Agent', u'Ultra Girl', u'Union Jack (comics)', u'Union Jack (Joseph Chapman)', u'Uproar (comics)', u'Phil Urich', u'Ursa Major (comics)', u'Vagabond (comics)', u'Valkyrie (Brunnhilde)', u'Valkyrie (Marvel Comics)', u'Vampire by Night', u'Michael Van Patrick', u'Vegas (comics)', u'Velocidad (comics)', u'Vengeance (comics)', u'Sharon Ventura', u'Venus (Marvel Comics)', u'Venus Dee Milo', u'Vertigo (Marvel Comics)', u'Vibrania', u'Vibranium (character)', u'Vision (Timely Comics)', u'Vision (Marvel Comics)', u'Vivisector', u'Volcana (Marvel Comics)', u'Volstagg', u'Vyking', u'Patsy Walker', u'Wallflower (comics)', u'War Machine', u'Warlock (New Mutants)', u'Adam Warlock', u'Warpath (comics)', u'Warstar', u'Wasabi-No-Ginger', u'Wasp (comics)', u'Kate Waynesboro', u'Werewolf by Night', u'White Tiger (Ava Ayala)', u'White Tiger (comics)', u'White Tiger (Hector Ayala)', u'White Tiger (Heroes for Hire)', u'Kofi Whitemane', u'Whizzer (Robert Frank)', u'Wiccan (comics)', u'Wicked (comics)', u'Widget (Marvel Comics)', u'Wild Child (comics)', u'Wild Thing (comics)', u'Wildcard (comics)', u'Wildstreak', u\"Will o' the Wisp (comics)\", u'Wind Dancer', u'Wind Warrior', u'Windshear (comics)', u'Colleen Wing', u'Pete Wisdom', u'Witchfire (Marvel Comics)', u'Wither (comics)', u'Witness (comics)', u'Wolf Cub (comics)', u'Wolfsbane (comics)', u'Wolverine (character)', u'Ultimate Wolverine', u'Wonder Man', u'Jimmy Woo', u'Warren Worthington III', u'Wraith (Hector Rendoza)', u'Wraith (Marvel Comics)', u'Wraith (Zak-Del)', u'Wulff (comics)', u'Wundarr the Aquarian', u'Wysper', u'X-23', u'Professor X', u'Xavin', u\"Xi'an (comics)\", u'Xorn', u'Yellowjacket (Marvel Comics)', u'Yellowjacket (Rita DeMara)', u'Yeti (comics)', u'Yondu', u'Gertrude Yorkes', u'Yukio (comics)', u'Yukon Jack', u'Zeitgeist (comics)', u'Baron Zemo', u'Kenji Uedo', u'Zombie (comics)', u'Category:Marvel Comics superhero teams', u'Category:Blade (comics)', u'Category:Captain America', u'Category:Peggy Carter', u'Category:Daredevil (Marvel Comics)', u'Category:Ghost Rider', u'Category:Hulk (comics)', u'Category:Iron Man', u'Category:Silver Surfer', u'Category:Spider-Man', u'Category:Thor (Marvel Comics)', u'Category:Wolverine (comics)']\n",
        "{u'ns': 0, u'pageid': 2388262, u'title': u'Abigail Brand'}\n"
       ]
      }
     ],
     "prompt_number": 3
    },
    {
     "cell_type": "markdown",
     "metadata": {},
     "source": [
      "We set up a dictionary to show our understanding of python"
     ]
    },
    {
     "cell_type": "code",
     "collapsed": false,
     "input": [
      "navn = [{'name':\"Kevin\",'SID':\"s103451\"},{'name':\"Gustav\",'SID':'s103454'},{'name':'Martin','SID':'s060186'}]\n",
      "\n",
      "print json.dumps(navn, indent=1)"
     ],
     "language": "python",
     "metadata": {},
     "outputs": [
      {
       "output_type": "stream",
       "stream": "stdout",
       "text": [
        "[\n",
        " {\n",
        "  \"name\": \"Kevin\", \n",
        "  \"SID\": \"s103451\"\n",
        " }, \n",
        " {\n",
        "  \"name\": \"Gustav\", \n",
        "  \"SID\": \"s103454\"\n",
        " }, \n",
        " {\n",
        "  \"name\": \"Martin\", \n",
        "  \"SID\": \"s060186\"\n",
        " }\n",
        "]\n"
       ]
      }
     ],
     "prompt_number": 6
    },
    {
     "cell_type": "heading",
     "level": 3,
     "metadata": {},
     "source": [
      "Exercise A2"
     ]
    },
    {
     "cell_type": "code",
     "collapsed": false,
     "input": [
      "pages = []\n",
      "\n",
      "import requests\n",
      "\n",
      "def query(request):\n",
      "    request['action'] = 'query'\n",
      "    request['format'] = 'json'\n",
      "    lastContinue = {'continue': ''}\n",
      "    while True:\n",
      "        req = request.copy()\n",
      "        req.update(lastContinue)\n",
      "        result = requests.get('http://en.wikipedia.org/w/api.php',params=req).json()\n",
      "        if 'query' in result: yield result['query']\n",
      "        if 'continue' not in result: break\n",
      "        lastContinue = result['continue']\n",
      "\n",
      "#titles = ('|' .join(titleList[0:100]))\n",
      "ids = ('|' .join(pageidList[0:499]))\n",
      "content = []\n",
      "#for tit in titleList[500:510]:\n",
      "i=0\n",
      "while(i<851):\n",
      "    ids = ('|' .join(pageidList[i:i+50]))\n",
      "    for result in query({'prop':'revisions','rvprop':'content','pageids':ids}):\n",
      "        content.append(result)\n",
      "    i=i+50\n",
      "ids = ('|' .join(pageidList[900:]))\n",
      "for result in query({'prop':'revisions','rvprop':'content','pageids':ids}):\n",
      "    content.append(result)\n",
      "#for result in query({'prop':'revisions','rvprop':'content','pageids':ids}):\n",
      "#    content.append(result)"
     ],
     "language": "python",
     "metadata": {},
     "outputs": [],
     "prompt_number": 4
    },
    {
     "cell_type": "code",
     "collapsed": false,
     "input": [
      "#print(content[8]['pages'].keys())\n",
      "\n",
      "i = 0\n",
      "array = []\n",
      "for con in content:\n",
      "    #print(con['pages'].keys())\n",
      "    for ido in pageidList:\n",
      "        array.append(ido)\n",
      "        if ido in con['pages'].keys():\n",
      "            i=i+1\n",
      "print i"
     ],
     "language": "python",
     "metadata": {},
     "outputs": [
      {
       "output_type": "stream",
       "stream": "stdout",
       "text": [
        "922\n"
       ]
      }
     ],
     "prompt_number": 5
    },
    {
     "cell_type": "markdown",
     "metadata": {},
     "source": [
      "We test that the titles we have in the array fit the titles"
     ]
    },
    {
     "cell_type": "code",
     "collapsed": false,
     "input": [
      "a = 300\n",
      "print array[a]\n",
      "print pageidList[a]\n",
      "print titleList[a]\n",
      "for con in content:\n",
      "    #print con['pages'].keys()\n",
      "    if(pageidList[a] in con['pages'].keys()):\n",
      "        print con['pages'][pageidList[a]]"
     ],
     "language": "python",
     "metadata": {},
     "outputs": [
      {
       "output_type": "stream",
       "stream": "stdout",
       "text": [
        "5866665\n",
        "5866665\n",
        "Ghost (Marvel Comics)\n",
        "{u'ns': 0, u'pageid': 5866665, u'revisions': [{u'*': u'{{Other uses|Ghost (comics)}}\\n{{Superherobox| <!--Wikipedia:WikiProject Comics-->\\n| image=[[File:Ghost2.jpg|250px]]\\n| caption=Ghost (left), and [[Crossbones (comics)|Crossbones]] (right) on the cover of \\'\\'Thunderbolts\\'\\' #146\\n| comic_color =background:#ff8080\\n| character_name =Ghost\\n| real_name =\\n| publisher =Marvel Comics\\n| debut =\\'\\'[[Iron Man]]\\'\\' #219 (Jun 1987)\\n| creators =[[David Michelinie]]<br>[[Bob Layton]]\\n| alliance_color =background:#c0c0ff\\n| alliances = [[Thunderbolts (comics)|Thunderbolts]]\\n| aliases =\\n| powers =Skilled marksman<br>Superb intellect<br>Brilliant inventor, tactician, and hacker<br>Battle suit grants:<br>[[Invisibility]]<br>Intangibility<br>[[Stealth technology|Stealth Technology]] \\n}}\\nThe \\'\\'\\'Ghost\\'\\'\\' is a [[fictional character]] appearing in comic books set in the [[Marvel Universe]]. He originated as one of [[Iron Man]]\\'s foes, and appeared as a member of the [[Thunderbolts (comics)|Thunderbolts]] during the \"[[Dark Reign (comics)|Dark Reign]]\" and \"[[Heroic Age (comics)|Heroic Age]]\" eras.\\n\\n==Publication history==\\n{{Expand section|date=March 2013}}\\nThe Ghost first appears in \\'\\'[[Iron Man]]\\'\\' #219 and was created by [[David Michelinie]] and [[Bob Layton]]. Originally portrayed as a supervillain, the character was later developed into an anti-hero figure.\\n\\nHe has appeared as a regular character in \\'\\'Thunderbolts\\'\\' since issue #144, and has remained with the team since the title transitioned into \\'\\'Dark Avengers\\'\\' beginning with issue #175.\\n\\n==Fictional character biography==\\n{{Recentism|section|date=March 2013}}\\nVery little is known about the identity of the Ghost. He claims to have been an IT researcher at one time, and to have been made into what he is by corporate greed. The Ghost is an anticapitalist saboteur who seeks to destroy various political and economic institutions he views as oppressive, apparently being most interested in those dealing with advanced technology and surveillance. He has, at times, hired his services out to corporations and other organizations, such as [[Norman Osborn]]\\'s Thunderbolts, that wish to destroy rival groups, but invariably plans to turn on his own employers and topple them as well.\\n\\n===Origin===\\nAs the Ghost himself told [[Moonstone (comics)|Moonstone]], he once worked as both a programmer and an engineer at a rising IT company called Omnisapient.  Impressing the board with his technological prowess and genius intellect, he quickly rose up the ranks and assumed the company\\'s flagstaff project for which he developed a revolutionary processor that could physically change in reaction to its environment, becoming intangible before overheating. Thanks to his \\'\\'Ghost Tech\\'\\', the company\\'s stock skyrocketed while the board, ever more dependent on the man who would become Ghost, collected the credit. Exhausted after months of work, the socially introverted programmer decided to leave on vacation, contrariating the board\\'s expectations for an ahead of schedule launch that could increase their profit margins significantly. Approached by an attractive co-worker as he was about to leave, the young man cancelled his travel plans and began a relationship with her. Happier and more productive than ever, he now found every single aspect of his life tied to the company, all part of a well-oiled machine, until his lover died in an explosion at her apartment. Depressed over her death and unable to cope with its apparent randomness, he sought solace by immersing his consciousness into the data networks he created by wiring his own flesh with his flux-state processors. Within this network, no randomness existed and his unconscious mind, in a state of alpha, could solve any dilemma his conscious mind was unable or unwilling to. In this state, he pieced memories and hidden fragments of data together to realize his dead lover had been hired by the board to seduce him, keeping him happy and available to the company\\'s every demand, and later murdered for blackmailing them for more money. Terrified, he attempted to flee, but his discoveries had been detected by the board which dispatched a contract killer after him. The hitman detonated a bomb in his apartment before he could leave, destroying the entire building and killing dozens of tenants. However, he survived, made intangible by the flux-state processors fused with his body when a wall of fire hit him. The experience completed his psychological transformation and the once naive workaholic emerged as the Ghost, a paranoid vigilante bent on wiping out corporatocracy. He immediately took revenge upon the board, butchering them all along with their contract killer, and then erased all records of his previous life.<ref>\\'\\'Thunderbolts\\'\\' #151 - A Ghost\\'s Story, 2010</ref>\\n\\n===The Accutech Merger===\\nSometime after this, The Ghost was hired by \\'\\'\\'Carrington Pax\\'\\'\\', a leading executive of the [[Roxxon Energy Corporation|Roxxon Oil Corporation]], to destroy Accutech Research and Development. Accutech was trying to develop a beta particle generator and when they refused to sell it to Roxxon, the Ghost was hired to drive Accutech into bankruptcy. [[Iron Man|Tony Stark]] was interested in acquiring Accutech\\'s technology and bought the company. Investigating a disturbance at the new facility as [[Iron Man]], he first met the Ghost. Iron Man managed to drive the Ghost from Accutech, but the Ghost swore that he would have his revenge on Iron Man\\'s employer, Tony Stark.{{Issue|date=May 2010}}\\n\\nFor the next few weeks, Tony Stark spent all his free time modifying his armor. Sometimes, for extra security, he would sleep in his armor, too. When Pax and the other executives at Roxxon heard that the Ghost had gone rogue, they feared his actions would make the company look bad, so they called in [[Spymaster (comics)#Third Spymaster|Spymaster]] to take care of him. After a fierce battle at Stark Enterprises, the Ghost killed Spymaster. Using a modified version of his intangibility circuits, the Ghost made Spymaster materialize in a wall. The shock caused Spymaster\\'s whole body to shut down, and he was believed dead.<ref>\\'\\'Iron Man\\'\\' #220</ref> It was shown years later in [[Dark Reign (comics)|Dark Reign]] that the Spymaster had faked his death.<ref>\\'\\'Dark Reign: Made Men\\'\\' #1</ref>\\n\\nTony finally took the offensive against the Ghost. He set up a trap and the Ghost walked right into it. After a short battle between Iron Man and the Ghost, Iron Man cornered the Ghost in the room with the beta particle generator. He had it turned on so he could see the cloaked Ghost better, since radiation from the generator would cause interference in the Ghost\\'s sophisticated tech-suit. However, prolonged exposure to the generator was fatal, and Iron Man didn\\'t want to stay in the room for too long. But the Ghost had sworn to bring down Stark Enterprises and nothing, not even the chance of dying, would stop him. As he tried to reach the generator to destroy it, the intense heat from his overloading costume caused the floor to melt and the Ghost fell through. As Iron Man searched for him, all he found of the Ghost was his burnt costume. Still, Tony didn\\'t believe that the Ghost was dead.<ref>\\'\\'Iron Man\\'\\' #219-221</ref>\\n\\n===Unholy Ghost===\\nIndeed, fairly soon after, the Ghost reappeared - this time plaguing a company in Italy, owned by none other than [[Justin Hammer]].{{issue|date=March 2013}} The shrewd industrialist intended to sell the company, Electronica Fabbrizi, to Tony Stark, ridding him of a dangerous enemy and a useless asset, as well as sticking a business rival with a nasty problem.{{issue|date=March 2013}} However, after Tony Stark discovered the true ownership of the floundering company, a compromise was reached: Hammer\\'s forces and Iron Man would cooperate in taking out the Ghost.{{issue|date=March 2013}} Hammer sent his operatives [[Blacklash]], [[Blizzard (Donnie Gill)|Blizzard]], and [[Boomerang (comics)|Boomerang]] to help Iron Man fight the Ghost. However, Hammer\\'s team betrayed Iron Man, planning to get rid of both their enemies.{{issue|date=March 2013}}\\n\\nGhost attempted to kill Iron Man by rendering him intangible. While Iron Man managed to save the lives of everybody involved, Electronica Fabbrizi was irrevocably destroyed and the Ghost escaped. However, when the mysterious villain confronted Hammer, it was revealed the ruthless business man had defenses developed against the Ghost\\'s intangibility powers, and made his own escape, leaving his assailant trapped. Blasting his way out, the saboteur vowed to continue his crusade against Hammer and all companies anywhere.<ref>\\'\\'Iron Man\\'\\' #238-240</ref>\\n\\nGhost was next hired by the [[Kingpin (comics)|Kingpin]] to steal the new Roxxon process to create synthetic [[vibranium]], and battled [[Spider-Man]] and the [[Black Panther (comics)|Black Panther]].<ref>\\'\\'Amazing Spider-Man Annual\\'\\' #25</ref>\\n\\nThe Ghost was then defeated by [[Sunturion]], but escaped and was then defeated by [[Ultron]].<ref>\\'\\'Spectacular Spider-Man Annual\\'\\' #11</ref>\\n\\n===The Big Bang Theory===\\nMuch later, several companies were suddenly and violently destroyed when bombs, apparently installed in personal computers, went off in inner-city offices. Tony Stark, who at the time was undercover as a common employee at one of the companies that went under, managed to track down the source of the attacks: the \"Advanced Corp\", a cover for [[Advanced Idea Mechanics|AIM]]. It was then revealed that AIM, not usually operating in common business circles, on this occasion had employed a special agent to eliminate the competition: the Ghost. Nearly defeating Iron Man in their first fight and escaping without a hitch, he hit a nasty snag during their second fight when he attempted to phase his costumed hand into Iron Man\\'s chest, and Tony Stark\\'s then-artificial heart defended itself, knocking him unconscious. He was subsequently arrested, but his identity appears to have remained unknown.{{Issue|date=April 2009}}\\n\\n===Inevitable===\\nLater still, having apparently escaped, the Ghost (in a new, more streamlined outfit) was employed by the third [[Spymaster (comics)#Third Spymaster|Spymaster]] to help free the [[Living Laser]], who was \"held captive\" by Stark Industries at the time. He attempted to kill Iron Man, and believed to have succeeded. In the end, he proved too unreliable and quirky, and was abandoned by his employer,{{Issue|date=April 2009}} remaining at large.\\n\\nThe Ghost was mentioned by [[Gauntlet (comics)|Gauntlet]] as the one who attacked him and left a NW mark on him (when it was actually the seemingly light-hearted recruit [[Slapstick (comics)|Slapstick]]).<ref>\\'\\'Avengers: The Initiative\\'\\' #6</ref>\\n\\n===\"Dark Reign\"===\\n[[File:Ghostthunderbolts.jpg|thumb|150px|\\'\\'Ghost\\'\\' as seen on a cover for \\'\\'Thunderbolts\\'\\'.]]\\nDuring the \"[[Dark Reign (comics)|Dark Reign]]\" storyline, seems to have become more unhinged and reclusive, however, as [[Moonstone (comics)|Ms. Marvel]] mentions \"He smells... Badly.\" and The Ghost himself shows signs of increasing obsessiveness. With the [[Thunderbolts (comics)|Thunderbolts]] officially disbanded, [[Green Goblin|Norman Osborn]] recruits Ghost for his new Thunderbolts, now a [[black ops]] team under Osborn\\'s direct control.<ref>[http://www.comicbookresources.com/?page=article&id=19483 The Osborn Supremacy: Thunderbolts]</ref> Ghost helps Osborn take control of [[Air Force One]] with the Goblin (actually new Thunderbolts member [[Headsman (comics)|Headsman]]), [[Doc Samson]], and the new President aboard.<ref>\\'\\'Thunderbolts\\'\\' #128</ref> As part of Osborn\\'s plan, the Ghost phases Samson out of the plane, and drops him from the sky.<ref>\\'\\'Thunderbolts\\'\\' #129</ref> Osborn calls for the Ghost to come to Stark Tower, where he unlocks a vault containing Iron Man\\'s old [[Iron Man\\'s armor|armors]].<ref>\\'\\'Dark Avengers\\'\\' #1</ref> Ghost later reveals to the [[Black Widow (Yelena Belova)|Black Widow]] (actually [[Black Widow (Natalia Romanova)|Natasha Romanoff]] in disguise) that when Osborn is king of the corporate world, he\\'ll act as \"a virus\" to bring it down from the inside. He explains he wants to inform Yelena\\'s \\'\\'real\\'\\' boss, [[Nick Fury]].<ref>\\'\\'Thunderbolts\\'\\' #133</ref> Widow was eventually exposed as [[Black Widow (Natalia Romanova)|Natalia Romanova]], who was in fact Nick Fury\\'s undercover agent, and who was attempting to make sure Songbird stayed alive. [[Paladin (comics)|Paladin]], Ghost and Headsman purposely turned on the other Thunderbolts in order for the two heroines to escape. However, Ghost insisted that they stay in the Thunderbolts, for they all have their own agendas. He uses electro-convulsive shock in order to make [[Nuke (Marvel Comics)|Scourge]] and [[Mister X (Marvel Comics)|Mister X]] forget about the betrayal.<ref>\\'\\'Thunderbolts\\'\\' #133-136</ref> At the end of the Dark Reign arc, Ghost betrayed Osborn by sending a data package he had collected to whatever heroes could receive it, warning them of Osborn\\'s plans to capture Odin\\'s magical weapon, Gungnir. Aware of the emergency, Quicksilver crossed the Atlantic Ocean and crushed Mister X (who wielded the weapon at the time) in combat, retrieving it.{{issue|date=December 2011}}\\n\\n===\"Stark Disassembled\"===\\nBecause Tony Stark had purposely lobotomized himself into a vegetative state, and had his power of attorney transferred over to [[Thor (Marvel Comics)|Donald Blake]], [[Madame Masque]] hired Ghost to kill Stark. She provided him a phone made by the [[Tinkerer]], which he could use to execute his phase abilities to reach any place in the world. Ghost managed to track Stark to [[Broxton, Oklahoma]], where he twice attempted to assassinate Stark. All the while, Stark\\'s comrades were attempting to reboot his brain. By then, Stark had regained consciousness and used the Ghost\\'s own phone against him, sending him to a facility in [[Seoul]].<ref>\\'\\'Invincible Iron Man\\'\\' #20-24</ref>\\n\\n===Thunderbolts Post-\"Siege\"===\\nFor his help in the downfall of Norman Osborn, Ghost was recruited into  the new Thunderbolts team formed in the aftermath of Siege.<ref>[http://www.newsarama.com/comics/Thunderbolts-Luke-Cage-100209.html]</ref> Ghost is the first team member that Cage meets with as he arrives at the Raft.<ref>\\'\\'Thunderbolts\\'\\' #144</ref> During [[Shadowland (comics)|Shadowland]], he would witness [[Crossbones (comics)|Crossbones]] assassinate a police officer the Thunderbolts were meant to save.<ref>\\'\\'Thunderbolts\\'\\' #149</ref>  Ghost would also prove instrumental in the attempted Thunderbolt break out, but in doing so, managed to go to an alternate dimension, and he came face to face with Iron Man again.  In order to beat Ghost, Iron Man transmitted into Ghost\\'s network a confirmation that all Stark Industries divisions were being shut down effective immediately. Ghost therefore resigned from plans to kill Stark, because he is no longer a tech monopolist.<ref>\\'\\'Thunderbolts\\'\\' #150</ref> After coming back to The Raft, Ghost told Moonstone an unverifiable origin tale, whereupon he mused over whether that means he\\'s regained his capacity to trust or whether he simply perceives her as no threat at all, only to conclude, as he phased through a speechless Moonstone, that both are irrelevant to a man who abandoned his humanity and is truly untouchable.<ref>\\'\\'Thunderbolts\\'\\' #151</ref>\\n\\n==Powers and abilities==\\nThe Ghost wears a [[battlesuit]] of his own design. Its \\'\\'Ghost-tech\\'\\' enables him to turn himself and any objects he touches invisible or intangible, but not both at the same time. Unknown devices in the battle-suit enable him to hack and reprogram all manner of electronic systems in his vicinity as well as intercept, tamper with or silence electromagnetic signals. This tech along with his superb intellect make him a superhacker.\\n\\nThe Ghost also invented guns that fire bursts of electricity or concussive force blasts and employs a large arsenal of high-tech weaponry, including incendiary devices, self-targeting Anson grenades and sound-activated bombs. Nevertheless, he often avoids direct confrontations altogether, preferring subterfuge and ambush tactics.\\n\\nHe is a brilliant [[tactician]], [[inventor]] and [[hacker (hobbyist)|computer hacker]].\\n\\n==Other versions==\\n===Ultimate Marvel===\\nThe [[Ultimate Marvel]] version of Ghost is introduced in \\'\\'[[Armor Wars#Ultimate Armor Wars|Ultimate Comics: Armor Wars]]\\'\\' #1, where he sneaks into one of Tony Stark\\'s underground hideouts and steals an ornament from him. His armor has the traditional phasing capabilities, and he is also able to generate teleportation fields that allow him to warp objects away.<ref>\\'\\'[[Armor Wars#Ultimate Armor Wars|Ultimate Comics: Armor Wars]]\\'\\' #1</ref> He is later revealed to be working for \"Project Tomorrow\" under the [[Titanium Man]].<ref>\\'\\'[[Armor Wars#Ultimate Armor Wars|Ultimate Comics: Armor Wars]]\\'\\' #3</ref> After [[Justine Hammer|Justine]] and Tony are kidnapped by Titanium Man\\'s [[Arsenal (Marvel Comics)|forces]], who reveals himself to be [[Howard Stark Sr.]], he and all the other experiments except Tony are killed by an [[Electromagnetic pulse|EMP]] that destroys all tech nearby.<ref>\\'\\'[[Armor Wars#Ultimate Armor Wars|Ultimate Comics: Armor Wars]]\\'\\' #4</ref> Very little is known about this Ghost, but according to Stark, Sr. \"He got a funny accent.\"<ref>\\'\\'Ultimate Comics: Armor Wars\\'\\' #4</ref>\\n\\n==In other media==\\n===Television===\\n* The Ghost makes a brief appearance in the episode \"The Armor Wars\" Pt. 1 of the animated series \\'\\'[[Iron Man (TV series)|Iron Man]]\\'\\', voiced by [[Jennifer Hale]], [[Jamie Horton (actor)|Jamie Horton]], and [[Tom Kane]] simultaneously.\\n\\n* The Ghost appears in the \\'\\'[[Iron Man: Armored Adventures]]\\'\\' episodes \"Chasing Ghosts\", \"Designed Only for Chaos\", \"Ghost in the Machine\", and \"Fugitive of S.H.I.E.L.D.\", voiced by [[Michael Dobson (actor)|Michael Dobson]].\\n\\n===Video games===\\n* Ghost appears as a boss in the PSP and Wii versions of the video game \\'\\'[[Iron Man 2 (video game)|Iron Man 2]]\\'\\', voiced by [[Steven Blum]].\\n\\n* Ghost appears in the video game \\'\\'[[Marvel Heroes (video game)|Marvel Heroes]]\\'\\', voiced by [[Phil Buckman]]. He briefly works for [[Doctor Doom]] and helps him steal The Tablet of Time. He later cuts ties with Doctor Doom and vanishes through a wall. He later aids the heroes by alerting them to Doom\\'s plans as they prepare to storm Castle Doomstadt.\\n\\n===Motion comics===\\n* Ghost appears in the [[Spider-Woman (Jessica Drew)|Spider-Woman]] [[motion comics]], voiced by [[Jesse Falcon]].\\n\\n==References==\\n{{Reflist}}\\n\\n==External links==\\n* [http://marvel.com/universe/Ghost Ghost] at Marvel.com\\n\\n{{Iron Man}}\\n\\n[[Category:Comics characters introduced in 1987]]\\n[[Category:Characters created by Bob Layton]]\\n[[Category:Characters created by David Michelinie]]\\n[[Category:Fictional assassins]]\\n[[Category:Fictional businesspeople]]\\n[[Category:Fictional characters who can turn intangible]]\\n[[Category:Fictional characters who can turn invisible]]\\n[[Category:Fictional engineers]]\\n[[Category:Fictional inventors]]\\n[[Category:Fictional scientists]]\\n[[Category:Marvel Comics superheroes]]\\n[[Category:Marvel Comics supervillains]]\\n[[Category:Ultimate Marvel characters]]', u'contentmodel': u'wikitext', u'contentformat': u'text/x-wiki'}], u'title': u'Ghost (Marvel Comics)'}\n"
       ]
      }
     ],
     "prompt_number": 6
    },
    {
     "cell_type": "markdown",
     "metadata": {},
     "source": [
      "We pack the arrays together and save it to a JSON file"
     ]
    },
    {
     "cell_type": "code",
     "collapsed": false,
     "input": [
      "a=0;\n",
      "saveDict = dict()\n",
      "while a<922:\n",
      "    for con in content:\n",
      "        if(pageidList[a] in con['pages'].keys()):\n",
      "            saveDict[titleList[a]] = con['pages'][pageidList[a]]\n",
      "            a=a+1"
     ],
     "language": "python",
     "metadata": {},
     "outputs": [],
     "prompt_number": 9
    },
    {
     "cell_type": "code",
     "collapsed": false,
     "input": [],
     "language": "python",
     "metadata": {},
     "outputs": [],
     "prompt_number": 12
    },
    {
     "cell_type": "code",
     "collapsed": false,
     "input": [
      "import codecs\n",
      "import unicodedata\n",
      "fileObject = codecs.open('MarvelFull.json','w','utf-8-sig')\n",
      "\n",
      "json.dump(saveDict,fileObject)\n",
      "\n",
      "fileObject.close()"
     ],
     "language": "python",
     "metadata": {},
     "outputs": [],
     "prompt_number": 12
    },
    {
     "cell_type": "heading",
     "level": 3,
     "metadata": {},
     "source": [
      "Exercise A3"
     ]
    },
    {
     "cell_type": "markdown",
     "metadata": {},
     "source": [
      "REGEX Expressions:    \n",
      "4 (and only 4) digit numbers    \n",
      "words starting with super    \n",
      "words enclosed in << >>    "
     ]
    },
    {
     "cell_type": "code",
     "collapsed": false,
     "input": [
      "import re\n",
      "stringExample = '2015 we all wish for 34 mysuperspaces or 64325 numbers containing 1337 ciffers which gives superman time to kill superflies <<wordword>> this is no real string <<endwordword>>'\n",
      "\n",
      "print re.findall(r'\\b\\d\\d\\d\\d\\b',stringExample)\n",
      "print re.findall(r'\\bsuper\\w*\\b',stringExample)\n",
      "print re.findall(r'\\<\\<(\\w*)\\>\\>',stringExample)\n"
     ],
     "language": "python",
     "metadata": {},
     "outputs": [
      {
       "output_type": "stream",
       "stream": "stdout",
       "text": [
        "['2015', '1337']\n",
        "['superman', 'superflies']\n",
        "['wordword', 'endwordword']\n"
       ]
      }
     ],
     "prompt_number": 60
    },
    {
     "cell_type": "heading",
     "level": 2,
     "metadata": {},
     "source": [
      "Part B"
     ]
    },
    {
     "cell_type": "heading",
     "level": 3,
     "metadata": {},
     "source": [
      "Exercise B1"
     ]
    },
    {
     "cell_type": "code",
     "collapsed": false,
     "input": [
      "import matplotlib.pyplot as plt\n",
      "import numpy as np"
     ],
     "language": "python",
     "metadata": {},
     "outputs": [],
     "prompt_number": 15
    },
    {
     "cell_type": "code",
     "collapsed": false,
     "input": [
      "plt.plot([1,2,3,4])\n",
      "plt.ylabel('random')\n",
      "#plt.show()\n",
      "plt.hist([1,1,1,2,3,4,3,5,6,7,7])\n",
      "#plt.show()\n",
      "plt.plot([2,5,2,2.5,3,3.5,4,4.5,5],[3,3,1.5,1.4,1.3,1.2,1.3,1.4,1.5],'r^')\n",
      "plt.show()"
     ],
     "language": "python",
     "metadata": {},
     "outputs": [],
     "prompt_number": 11
    },
    {
     "cell_type": "code",
     "collapsed": false,
     "input": [
      "g1 = (15,21,8,12,18,16)\n",
      "g2 = (17,24,11,13,15,21)\n",
      "n = 6\n",
      "width = 0.33\n",
      "XGroups = np.arange(n)\n",
      "bar1=plt.bar(XGroups,g1,width,color='r')\n",
      "bar2=plt.bar(XGroups+width,g2,width,color='b')\n",
      "plt.legend((bar1[0],bar2[0]),('g1','g2'))\n",
      "plt.show()"
     ],
     "language": "python",
     "metadata": {},
     "outputs": [],
     "prompt_number": 9
    },
    {
     "cell_type": "heading",
     "level": 3,
     "metadata": {},
     "source": [
      "Exercise B2"
     ]
    },
    {
     "cell_type": "code",
     "collapsed": false,
     "input": [
      "import codecs\n",
      "import unicodedata\n",
      "import json\n",
      "\n",
      "fileObject = codecs.open('MarvelFull.json','r','utf-8-sig')\n",
      "\n",
      "superheroes = json.load(fileObject)\n",
      "\n",
      "fileObject.close()"
     ],
     "language": "python",
     "metadata": {},
     "outputs": [],
     "prompt_number": 13
    },
    {
     "cell_type": "code",
     "collapsed": false,
     "input": [
      "#superheroes['Darkdevil']['revisions'][0]['*'].count('')\n",
      "#print superheroes.keys()\n",
      "#print superheroes['Uproar (comics)']['revisions'][0]['*']\n",
      "counts = []\n",
      "names = []\n",
      "for hero in superheroes:\n",
      "    counts.append(superheroes[hero]['revisions'][0]['*'].count(''))\n",
      "    names.append(hero)\n",
      "plt.hist(counts,bins=80)\n",
      "plt.ylabel('page count')\n",
      "plt.xlabel('character count')\n",
      "plt.show()"
     ],
     "language": "python",
     "metadata": {},
     "outputs": [],
     "prompt_number": 16
    },
    {
     "cell_type": "code",
     "collapsed": false,
     "input": [
      "sumDN = 0.\n",
      "sumN = 0.\n",
      "for number in counts:\n",
      "    sumDN = sumDN + number\n",
      "scounts = []\n",
      "for number in np.sort(counts):\n",
      "    sumN = sumN + number\n",
      "    scounts.append(sumN / sumDN)\n",
      "plt.plot(np.sort(counts),scounts)\n",
      "plt.xlabel('character count')\n",
      "plt.ylabel('P(X)')\n",
      "plt.show()"
     ],
     "language": "python",
     "metadata": {},
     "outputs": [],
     "prompt_number": 62
    },
    {
     "cell_type": "markdown",
     "metadata": {},
     "source": [
      "We see the obvious fact that very few sites have less than ca 3000 characters. We also see that the CDF is rather steep for the first 20000 character counts (going all the way to 0.4). This could indicate a tendency towards short lengths"
     ]
    },
    {
     "cell_type": "code",
     "collapsed": false,
     "input": [
      "from matplotlib.font_manager import FontProperties\n",
      "fontP = FontProperties()\n",
      "fontP.set_size('small')\n",
      "\n",
      "\n",
      "revSorted = np.sort(counts)[::-1]\n",
      "i=0\n",
      "longHeroes = []\n",
      "longNames = []\n",
      "longLBoxes = []\n",
      "colors = ['r','g','b','k','y','m','c','r','g','b']\n",
      "n = 10\n",
      "width = 0.33\n",
      "XGroups = np.arange(1)\n",
      "while i<n:\n",
      "    index = counts.index(revSorted[i])\n",
      "    longNames.append(names[index])\n",
      "    longHeroes.append(plt.bar(XGroups+i*width,counts[index],width/3*2,color=colors[i]))\n",
      "    longLBoxes.append(longHeroes[i][0])\n",
      "    i+=1\n",
      "\n",
      "plt.legend((longLBoxes),(longNames),loc='lower center',ncol = 3,prop=fontP,bbox_to_anchor=(0.54,-0.01))\n",
      "plt.show()"
     ],
     "language": "python",
     "metadata": {},
     "outputs": [],
     "prompt_number": 162
    },
    {
     "cell_type": "markdown",
     "metadata": {},
     "source": [
      "The names shown are of course some of the great marvel characters. some weard ones there as well though (Namor?)"
     ]
    },
    {
     "cell_type": "heading",
     "level": 3,
     "metadata": {},
     "source": [
      "Exercise B3"
     ]
    },
    {
     "cell_type": "markdown",
     "metadata": {},
     "source": [
      "The infoboxes should generally be larger if the page is longer since it means that more information is written on the page. Then again we should not espect to see a linear behavior since all heroes have general data about them"
     ]
    },
    {
     "cell_type": "code",
     "collapsed": false,
     "input": [
      "import re\n",
      "\n",
      "#result = re.findall(r'({{Superherobox)((.[^}}]|\\n)*.)(}})',superheroes[names[4]]['revisions'][0]['*'])\n",
      "\n",
      "infoBox = []\n",
      "infoBoxCount = []\n",
      "for name in names:\n",
      "    result = re.findall(r'({{Superherobox)((.[^}}]|\\n)*.)(}})',superheroes[name]['revisions'][0]['*'])\n",
      "    if not(result==[]):\n",
      "        infoBoxCount.append(result[0][1].count(''))\n",
      "        infoBox.append(result[0][1])\n",
      "        #print name +' '+ str(result[0][1].count(''))\n",
      "    else:\n",
      "        infoBoxCount.append(0)\n",
      "        #print 'None'\n",
      "\n",
      "plt.plot(counts,infoBoxCount,'.')\n",
      "plt.xlabel('Character count in full text')\n",
      "plt.ylabel('Character count in infobox')\n",
      "plt.show()"
     ],
     "language": "python",
     "metadata": {},
     "outputs": [],
     "prompt_number": 311
    },
    {
     "cell_type": "markdown",
     "metadata": {},
     "source": [
      "We can definately see some resemblance of a pattern. Of course there is a lower bound of the size of an infobox when it is there. Other than that we can also see a band shaped pattern that somehow indicates the range the infobox is usually in depending on the size of the page"
     ]
    },
    {
     "cell_type": "heading",
     "level": 3,
     "metadata": {},
     "source": [
      "Exercise B4"
     ]
    },
    {
     "cell_type": "code",
     "collapsed": false,
     "input": [
      "debutBin=[]\n",
      "\n",
      "for info in infoBox:\n",
      "    s1 = re.findall(r'debut.*',info)\n",
      "    if not(s1==[]):\n",
      "        years = re.findall(r'[^#](\\d\\d\\d\\d\\b)',s1[0])\n",
      "        #print years\n",
      "        #print min(years)\n",
      "        if not(years==[]):\n",
      "            debutBin.append(int(min(years)))\n",
      "    \n",
      "plt.hist(debutBin,bins=50)\n",
      "plt.show()"
     ],
     "language": "python",
     "metadata": {},
     "outputs": [],
     "prompt_number": 417
    },
    {
     "cell_type": "markdown",
     "metadata": {},
     "source": [
      "In the above i handled missing data by removing it from the set. I found a histogram is the better way to represent the data since we are looking at the frequency of events in certain time bins"
     ]
    },
    {
     "cell_type": "heading",
     "level": 3,
     "metadata": {},
     "source": [
      "Exercise B5"
     ]
    },
    {
     "cell_type": "code",
     "collapsed": false,
     "input": [
      "alianceList = dict()\n",
      "\n",
      "for iB in infoBox:\n",
      "    s1 = re.findall(r'alliances ?=(.*)',iB)\n",
      "    if not(s1==[]): \n",
      "        s2 = re.split(r'<\\s*br\\s*/>|<\\s*br\\s*>',s1[0])\n",
      "        for group in s2:\n",
      "            s3 = re.findall(r'\\[\\[([^\\]]*)',group)\n",
      "            if not(s3==[]):\n",
      "                s4 = s3[0].split('|')\n",
      "                s4 = s4[len(s4)-1]\n",
      "                if s4 in alianceList:\n",
      "                    alianceList[s4] = alianceList[s4] + 1\n",
      "                else:\n",
      "                    alianceList[s4] = 1"
     ],
     "language": "python",
     "metadata": {},
     "outputs": [],
     "prompt_number": 700
    },
    {
     "cell_type": "code",
     "collapsed": false,
     "input": [
      "alianceList"
     ],
     "language": "python",
     "metadata": {},
     "outputs": [
      {
       "metadata": {},
       "output_type": "pyout",
       "prompt_number": 701,
       "text": [
        "{u'\"Avengers\" (1959)': 5,\n",
        " u'\"Defenders for a Day\"': 2,\n",
        " u'\"Secret Avengers\"': 1,\n",
        " u'50 State Initiative': 1,\n",
        " u'A-Next': 5,\n",
        " u'A.R.M.O.R.': 1,\n",
        " u'Acolytes': 2,\n",
        " u'Action Pack': 1,\n",
        " u'Advanced Idea Mechanics': 1,\n",
        " u'Agency X': 1,\n",
        " u'Agents of Atlas': 4,\n",
        " u'Agents of Fortune': 1,\n",
        " u'All-Winners Squad': 5,\n",
        " u'Alliance of Evil': 1,\n",
        " u'Alpha Flight': 7,\n",
        " u'Alpha Squadron training squad': 1,\n",
        " u'Amazons': 1,\n",
        " u'America Redeemers': 1,\n",
        " u'Armageddon': 1,\n",
        " u'Asgard': 4,\n",
        " u'Asgardians': 1,\n",
        " u'Askani': 1,\n",
        " u'Avengers': 33,\n",
        " u'Avengers A.I.': 2,\n",
        " u'Avengers Academy': 16,\n",
        " u'Avengers Resistance': 2,\n",
        " u'Avengers Unity Squad': 3,\n",
        " u'Avengers: The Initiative': 1,\n",
        " u'BAD Girls, Inc.': 1,\n",
        " u'Badoon': 1,\n",
        " u'Beta Flight': 3,\n",
        " u'Big Hero 6': 4,\n",
        " u'Blade': 1,\n",
        " u'Brood': 1,\n",
        " u'Brotherhood': 1,\n",
        " u'Brotherhood of Evil Mutants': 2,\n",
        " u'Brotherhood of Mutants': 5,\n",
        " u'Brotherhood of Mutants (Earth-12)': 1,\n",
        " u'C.I.A': 1,\n",
        " u'C.I.A.': 1,\n",
        " u'CIA': 1,\n",
        " u'CSA': 2,\n",
        " u'Captain Britain Corps': 3,\n",
        " u'Centers for Disease Control': 1,\n",
        " u'Champions': 1,\n",
        " u'Champions of Los Angeles': 1,\n",
        " u'Champions of Xandar': 2,\n",
        " u'Chaos War': 1,\n",
        " u'Chevaliers training squad': 2,\n",
        " u'Clan Akkaba': 1,\n",
        " u'Clan Chosen': 1,\n",
        " u'Commission on Superhuman Activities': 2,\n",
        " u'Corporation': 1,\n",
        " u'Corsairs training squad': 1,\n",
        " u'Counter Force': 5,\n",
        " u'Crazy Sues': 1,\n",
        " u'Cult of Kali': 1,\n",
        " u'DEA': 1,\n",
        " u'Daily Bugle': 1,\n",
        " u'Damage Control': 2,\n",
        " u'Dark Avengers': 3,\n",
        " u'Dark X-Men': 1,\n",
        " u'Daughters of the Dragon': 1,\n",
        " u\"Death's Champions\": 2,\n",
        " u'Deep Six': 2,\n",
        " u'Defenders': 20,\n",
        " u'Department H': 1,\n",
        " u'Department K': 1,\n",
        " u'Desert Sword': 2,\n",
        " u'Dream Team': 2,\n",
        " u'Emissaries of Evil': 2,\n",
        " u'Empire State University': 3,\n",
        " u\"Emplate's Hellions\": 1,\n",
        " u'Enforcers': 1,\n",
        " u'Eternals': 1,\n",
        " u'Excalibur': 7,\n",
        " u'Exemplars training squad': 1,\n",
        " u'Exiles': 7,\n",
        " u'FBI': 1,\n",
        " u'Factor Three': 1,\n",
        " u'Fallen Angels': 4,\n",
        " u'Fantastic Four': 5,\n",
        " u'Femizons': 5,\n",
        " u'Fifty State Initiative': 2,\n",
        " u'Force Works': 4,\n",
        " u'Freedom Force': 4,\n",
        " u\"Freedom's Five\": 1,\n",
        " u'Freelance Restorations': 1,\n",
        " u'Frightful Four': 3,\n",
        " u'Future Foundation': 2,\n",
        " u'Galactic Guardians': 1,\n",
        " u'Gamma Flight': 3,\n",
        " u'Gene Nation': 1,\n",
        " u'Generation X': 5,\n",
        " u'Genoshan Assault X-Men': 3,\n",
        " u'Genoshan Excalibur': 2,\n",
        " u'Genoshan Magistrates': 2,\n",
        " u'Gladiators': 1,\n",
        " u'God Squad': 1,\n",
        " u'Godzilla Squad': 1,\n",
        " u'Grapplers': 2,\n",
        " u'Great Lakes Avengers': 6,\n",
        " u'Guardians of the Galaxy': 10,\n",
        " u'H.A.M.M.E.R.': 1,\n",
        " u'HYDRA': 7,\n",
        " u'Heavy Hitters': 3,\n",
        " u'Hellfire Club': 5,\n",
        " u'Hellions': 6,\n",
        " u'Hellions training squad': 5,\n",
        " u'Heroes for Hire': 13,\n",
        " u'Horsemen of Apocalypse': 1,\n",
        " u'Houston Police Department': 1,\n",
        " u'Howling Commandos': 5,\n",
        " u'Illuminati': 2,\n",
        " u'Imperial Guard': 15,\n",
        " u'Infinity Watch': 3,\n",
        " u'Inhuman Royal Family': 1,\n",
        " u'Inhumans': 1,\n",
        " u'Initiative': 6,\n",
        " u'Institute of Evil': 1,\n",
        " u'Invaders': 7,\n",
        " u'Jean Grey School': 4,\n",
        " u'Jean Grey School Students': 9,\n",
        " u'KGB': 2,\n",
        " u'Kid Commandos': 1,\n",
        " u'Kree': 1,\n",
        " u'Lady Liberators': 3,\n",
        " u'Legion of Monsters': 3,\n",
        " u'Legion of the Unliving': 6,\n",
        " u'Lethal Legion': 2,\n",
        " u'Leviathan': 1,\n",
        " u'Liberty Legion': 3,\n",
        " u'Loners': 5,\n",
        " u'M.I.T.': 1,\n",
        " u'MI-13': 4,\n",
        " u'MI16': 1,\n",
        " u'Marauders': 2,\n",
        " u'Marvel Knights': 1,\n",
        " u'Masters of Evil': 7,\n",
        " u'Micronauts': 1,\n",
        " u'Midnight Sons': 5,\n",
        " u'Mighty Avengers': 7,\n",
        " u'Monster Hunters': 1,\n",
        " u'Morlocks': 5,\n",
        " u'Muir Island X-Men': 2,\n",
        " u'Multiverse X-Men': 1,\n",
        " u'Mutant Liberation Front': 6,\n",
        " u'NSA': 1,\n",
        " u'NYPD': 4,\n",
        " u'New Avengers': 4,\n",
        " u'New Charles Xavier School Students': 1,\n",
        " u'New Enforcers': 1,\n",
        " u'New Excalibur': 4,\n",
        " u'New Fantastic Four': 1,\n",
        " u'New Hellions': 2,\n",
        " u'New Invaders': 2,\n",
        " u'New Mutants': 13,\n",
        " u'New Mutants training squad': 2,\n",
        " u'New Warriors': 26,\n",
        " u'New X-Men': 5,\n",
        " u'New York Police Department': 1,\n",
        " u'Nextwave': 2,\n",
        " u'Neyaphem': 1,\n",
        " u\"Nick Fury's Howling Commandos\": 1,\n",
        " u'Night Shift': 2,\n",
        " u'Nightstalkers': 1,\n",
        " u'O-Force': 1,\n",
        " u'Office of National Emergency': 1,\n",
        " u'Omega Flight': 4,\n",
        " u'Omega Gang': 3,\n",
        " u'Oscorp': 1,\n",
        " u'Pacific Overlords': 2,\n",
        " u'Pantheon': 4,\n",
        " u'Paragons': 1,\n",
        " u'Paragons training squad': 2,\n",
        " u'Parker Industries': 1,\n",
        " u\"People's Defense Force\": 1,\n",
        " u\"People's Protectorate\": 1,\n",
        " u'Phalanx': 1,\n",
        " u'Phoenix Five': 2,\n",
        " u'Power Pack': 4,\n",
        " u'Press Gang': 1,\n",
        " u'Project Pegasus': 2,\n",
        " u'Project Spitfire': 1,\n",
        " u'Project: Pegasus': 1,\n",
        " u'Psi-Key': 1,\n",
        " u'Psionex': 2,\n",
        " u'Purifiers': 1,\n",
        " u'R.C.X.': 1,\n",
        " u'Rangers': 1,\n",
        " u'Reavers': 2,\n",
        " u'Redeemers': 3,\n",
        " u'Renegades': 2,\n",
        " u'Revengers': 4,\n",
        " u'Roxxon Corporation': 1,\n",
        " u'Roxxon Energy Corporation': 2,\n",
        " u'Roxxon Oil': 1,\n",
        " u'Runaways': 8,\n",
        " u'S.H.I.E.L.D.': 17,\n",
        " u'S.H.I.E.L.D. Paranormal Containment Unit': 1,\n",
        " u\"S.H.I.E.L.D.'s Paranormal Containment Unit\": 2,\n",
        " u'S.W.O.R.D.': 1,\n",
        " u'SHIELD': 1,\n",
        " u'Savage Six': 2,\n",
        " u'Secret Avengers': 4,\n",
        " u'Secret Avengers (Civil War)': 2,\n",
        " u'Secret Defenders': 8,\n",
        " u'Secret Warriors': 2,\n",
        " u'Selene': 1,\n",
        " u'Sentinel Squad O*N*E': 1,\n",
        " u'Serpent Society': 1,\n",
        " u'Shadow Initiative': 4,\n",
        " u\"Shi'ar Empire\": 1,\n",
        " u\"Shi'ar Imperial Guard\": 1,\n",
        " u\"Shi'ar Imperium\": 1,\n",
        " u'Sinister Six': 3,\n",
        " u'Sinister Syndicate': 1,\n",
        " u'Sisterhood of Mutants': 1,\n",
        " u'Six Pack': 2,\n",
        " u'Slingers': 4,\n",
        " u'Sons of the Tiger': 2,\n",
        " u'Soviet Super-Soldiers': 3,\n",
        " u'Spaceknights': 1,\n",
        " u'Special Class': 1,\n",
        " u'Squadron Sinister': 4,\n",
        " u'Squadron Supreme': 9,\n",
        " u'Starjammers': 6,\n",
        " u'Stark Enterprises': 1,\n",
        " u'Stark Industries': 1,\n",
        " u\"Storm's training squad\": 1,\n",
        " u'Street Team X-Men': 2,\n",
        " u'Strikeforce: Morituri': 12,\n",
        " u'Taylor Foundation': 1,\n",
        " u'Team X': 3,\n",
        " u'Teen Brigade': 2,\n",
        " u'The 198': 4,\n",
        " u'The All-New Exiles': 1,\n",
        " u'The Anachronauts': 1,\n",
        " u'The Avengers': 1,\n",
        " u'The Cabal': 1,\n",
        " u'The Chaste': 1,\n",
        " u'The Crazy Gang': 1,\n",
        " u'The Crew': 3,\n",
        " u'The Grapplers': 1,\n",
        " u'The Hand': 5,\n",
        " u'The Hellfire Club': 1,\n",
        " u'The Initiative': 18,\n",
        " u'The Intruders': 2,\n",
        " u'The Jury': 2,\n",
        " u'The Lights': 1,\n",
        " u'The Loners': 1,\n",
        " u'The New Avengers': 1,\n",
        " u'The Order': 1,\n",
        " u'The Outlaws': 5,\n",
        " u'The Rangers': 2,\n",
        " u'The Six': 1,\n",
        " u'The Spider Society': 1,\n",
        " u'The Twelve': 5,\n",
        " u'Thor Corps': 1,\n",
        " u'Thunderbolts': 16,\n",
        " u'Thunderiders': 1,\n",
        " u'Triad': 1,\n",
        " u'Triune Understanding': 1,\n",
        " u'U-Foes': 1,\n",
        " u'UCWF': 2,\n",
        " u'Ultimate X-Men': 1,\n",
        " u'Ultraforce': 3,\n",
        " u'Underground': 2,\n",
        " u'United Front': 1,\n",
        " u'United States Air Force': 2,\n",
        " u'United States Army': 3,\n",
        " u'United States Department of Defense': 1,\n",
        " u'United States Marine Corps': 2,\n",
        " u'V-Battalion': 3,\n",
        " u'Valkyrior': 2,\n",
        " u'Vanguard': 2,\n",
        " u'Vishanti': 1,\n",
        " u'Warbound': 5,\n",
        " u'Warriors Three': 3,\n",
        " u'Weapon P.R.I.M.E.': 2,\n",
        " u'Weapon Plus': 1,\n",
        " u'Weapon X': 7,\n",
        " u'West Coast Avengers': 7,\n",
        " u'Wild Pack': 8,\n",
        " u'Winter Guard': 2,\n",
        " u'World Counter-terrorism Agency': 1,\n",
        " u'X-Cell': 1,\n",
        " u'X-Corporation': 11,\n",
        " u'X-Corporation Mumbai': 1,\n",
        " u'X-Corporation: Paris': 1,\n",
        " u'X-Corps': 3,\n",
        " u'X-Factor': 9,\n",
        " u'X-Factor Investigations': 6,\n",
        " u'X-Force': 22,\n",
        " u'X-Men': 37,\n",
        " u'X-Men (Earth-12)': 1,\n",
        " u'X-Men (Earth-815)': 1,\n",
        " u'X-Men 2099': 1,\n",
        " u'X-Men-In-Training': 12,\n",
        " u'X-People': 3,\n",
        " u'X-Statix': 7,\n",
        " u'X-Terminators': 2,\n",
        " u'X-Treme Sanctions Executive': 1,\n",
        " u'X-Treme X-Men': 3,\n",
        " u'XSE': 1,\n",
        " u'Xavier Institute': 22,\n",
        " u'Xavier Security Enforcers': 1,\n",
        " u\"Xavier's Security Enforcers\": 1,\n",
        " u\"Xavier's Underground Enforcers\": 1,\n",
        " u'Young Allies': 2,\n",
        " u'Young Avengers': 3,\n",
        " u'Young X-Men': 5,\n",
        " u'Zodiac': 1}"
       ]
      }
     ],
     "prompt_number": 701
    },
    {
     "cell_type": "code",
     "collapsed": false,
     "input": [
      "plt.hist(alianceList.values(),bins=50)\n",
      "plt.show()"
     ],
     "language": "python",
     "metadata": {},
     "outputs": [],
     "prompt_number": 703
    },
    {
     "cell_type": "markdown",
     "metadata": {},
     "source": [
      "We can clearly see that most aliances consist of only 1 member... This is due to such errors as \"stark enterprises\" not being the same as \"stark industries\" and so forth"
     ]
    }
   ],
   "metadata": {}
  }
 ]
}